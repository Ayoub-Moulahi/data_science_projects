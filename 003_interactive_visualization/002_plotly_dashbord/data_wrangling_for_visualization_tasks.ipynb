{
 "cells": [
  {
   "cell_type": "code",
   "execution_count": 1,
   "id": "initial_id",
   "metadata": {
    "ExecuteTime": {
     "end_time": "2023-08-07T22:54:18.815540115Z",
     "start_time": "2023-08-07T22:54:15.800706067Z"
    }
   },
   "outputs": [],
   "source": [
    "import numpy as np \n",
    "import pandas as pd\n"
   ]
  },
  {
   "cell_type": "code",
   "execution_count": 2,
   "id": "73b79662534d552e",
   "metadata": {
    "ExecuteTime": {
     "end_time": "2023-08-07T22:54:45.452613959Z",
     "start_time": "2023-08-07T22:54:16.170372552Z"
    }
   },
   "outputs": [
    {
     "name": "stdout",
     "output_type": "stream",
     "text": [
      "<class 'pandas.core.frame.DataFrame'>\n",
      "RangeIndex: 20524 entries, 0 to 20523\n",
      "Columns: 112 entries, Index to 100+\n",
      "dtypes: float64(2), int64(3), object(107)\n",
      "memory usage: 71.0 MB\n"
     ]
    }
   ],
   "source": [
    "# load Male data\n",
    "dfm = pd.read_excel(\"world_population_male.xlsx\", skiprows=16)\n",
    "dfm.info(memory_usage=\"deep\")"
   ]
  },
  {
   "cell_type": "code",
   "execution_count": 3,
   "id": "73c5585d1ff18984",
   "metadata": {
    "ExecuteTime": {
     "end_time": "2023-08-07T22:55:08.798010947Z",
     "start_time": "2023-08-07T22:54:45.452830861Z"
    }
   },
   "outputs": [
    {
     "name": "stdout",
     "output_type": "stream",
     "text": [
      "<class 'pandas.core.frame.DataFrame'>\n",
      "RangeIndex: 20524 entries, 0 to 20523\n",
      "Columns: 112 entries, Index to 100+\n",
      "dtypes: float64(2), int64(3), object(107)\n",
      "memory usage: 71.0 MB\n"
     ]
    }
   ],
   "source": [
    "#load Female data\n",
    "dff = pd.read_excel(\"world_population_female.xlsx\", skiprows=16)\n",
    "dff.info(memory_usage=\"deep\")"
   ]
  },
  {
   "cell_type": "code",
   "execution_count": 4,
   "id": "c20f3776bbfe915b",
   "metadata": {
    "ExecuteTime": {
     "end_time": "2023-08-07T22:55:08.804816154Z",
     "start_time": "2023-08-07T22:55:08.799275864Z"
    }
   },
   "outputs": [
    {
     "name": "stdout",
     "output_type": "stream",
     "text": [
      "(20524, 112)\n"
     ]
    },
    {
     "data": {
      "text/plain": [
       "(20524, 112)"
      ]
     },
     "execution_count": 4,
     "metadata": {},
     "output_type": "execute_result"
    }
   ],
   "source": [
    "print(dfm.shape)\n",
    "dff.shape"
   ]
  },
  {
   "cell_type": "code",
   "execution_count": 5,
   "id": "d8885811ab35b00e",
   "metadata": {
    "ExecuteTime": {
     "end_time": "2023-08-07T22:55:09.026994025Z",
     "start_time": "2023-08-07T22:55:08.803930736Z"
    }
   },
   "outputs": [
    {
     "data": {
      "text/plain": [
       "['Index',\n",
       " 'Variant',\n",
       " 'Region, subregion, country or area *',\n",
       " 'Notes',\n",
       " 'Location code',\n",
       " 'ISO3 Alpha-code',\n",
       " 'ISO2 Alpha-code',\n",
       " 'SDMX code**',\n",
       " 'Type',\n",
       " 'Parent code',\n",
       " 'Year',\n",
       " 0,\n",
       " 1,\n",
       " 2,\n",
       " 3,\n",
       " 4,\n",
       " 5,\n",
       " 6,\n",
       " 7,\n",
       " 8,\n",
       " 9,\n",
       " 10,\n",
       " 11,\n",
       " 12,\n",
       " 13,\n",
       " 14,\n",
       " 15,\n",
       " 16,\n",
       " 17,\n",
       " 18,\n",
       " 19,\n",
       " 20,\n",
       " 21,\n",
       " 22,\n",
       " 23,\n",
       " 24,\n",
       " 25,\n",
       " 26,\n",
       " 27,\n",
       " 28,\n",
       " 29,\n",
       " 30,\n",
       " 31,\n",
       " 32,\n",
       " 33,\n",
       " 34,\n",
       " 35,\n",
       " 36,\n",
       " 37,\n",
       " 38,\n",
       " 39,\n",
       " 40,\n",
       " 41,\n",
       " 42,\n",
       " 43,\n",
       " 44,\n",
       " 45,\n",
       " 46,\n",
       " 47,\n",
       " 48,\n",
       " 49,\n",
       " 50,\n",
       " 51,\n",
       " 52,\n",
       " 53,\n",
       " 54,\n",
       " 55,\n",
       " 56,\n",
       " 57,\n",
       " 58,\n",
       " 59,\n",
       " 60,\n",
       " 61,\n",
       " 62,\n",
       " 63,\n",
       " 64,\n",
       " 65,\n",
       " 66,\n",
       " 67,\n",
       " 68,\n",
       " 69,\n",
       " 70,\n",
       " 71,\n",
       " 72,\n",
       " 73,\n",
       " 74,\n",
       " 75,\n",
       " 76,\n",
       " 77,\n",
       " 78,\n",
       " 79,\n",
       " 80,\n",
       " 81,\n",
       " 82,\n",
       " 83,\n",
       " 84,\n",
       " 85,\n",
       " 86,\n",
       " 87,\n",
       " 88,\n",
       " 89,\n",
       " 90,\n",
       " 91,\n",
       " 92,\n",
       " 93,\n",
       " 94,\n",
       " 95,\n",
       " 96,\n",
       " 97,\n",
       " 98,\n",
       " 99,\n",
       " '100+']"
      ]
     },
     "execution_count": 5,
     "metadata": {},
     "output_type": "execute_result"
    }
   ],
   "source": [
    "# list columns\n",
    "dfm.columns.tolist()"
   ]
  },
  {
   "cell_type": "code",
   "execution_count": 6,
   "id": "28b0fa9962af20dd",
   "metadata": {
    "ExecuteTime": {
     "end_time": "2023-08-07T22:55:09.175611343Z",
     "start_time": "2023-08-07T22:55:09.002464712Z"
    }
   },
   "outputs": [
    {
     "data": {
      "text/plain": [
       "count     20524\n",
       "unique    20524\n",
       "top           1\n",
       "freq          1\n",
       "Name: Index, dtype: int64"
      ]
     },
     "execution_count": 6,
     "metadata": {},
     "output_type": "execute_result"
    }
   ],
   "source": [
    "# Check for duplication\n",
    "dfm.Index.astype('object').describe()"
   ]
  },
  {
   "cell_type": "code",
   "execution_count": 7,
   "id": "f63648f953139584",
   "metadata": {
    "ExecuteTime": {
     "end_time": "2023-08-07T22:55:09.374027909Z",
     "start_time": "2023-08-07T22:55:09.156824749Z"
    }
   },
   "outputs": [],
   "source": [
    "# drop Index columns\n",
    "dfm.drop(\"Index\", axis=1, inplace=True)\n",
    "dff.drop(\"Index\", axis=1, inplace=True)\n"
   ]
  },
  {
   "cell_type": "code",
   "execution_count": 8,
   "id": "d9085782eff43c54",
   "metadata": {
    "ExecuteTime": {
     "end_time": "2023-08-07T22:55:09.396544672Z",
     "start_time": "2023-08-07T22:55:09.389683223Z"
    }
   },
   "outputs": [
    {
     "data": {
      "text/plain": [
       "count         20524\n",
       "unique            1\n",
       "top       Estimates\n",
       "freq          20524\n",
       "Name: Variant, dtype: object"
      ]
     },
     "execution_count": 8,
     "metadata": {},
     "output_type": "execute_result"
    }
   ],
   "source": [
    "dfm.Variant.describe()"
   ]
  },
  {
   "cell_type": "code",
   "execution_count": 9,
   "id": "ba12a5970c900efc",
   "metadata": {
    "ExecuteTime": {
     "end_time": "2023-08-07T22:55:09.521285598Z",
     "start_time": "2023-08-07T22:55:09.394577508Z"
    }
   },
   "outputs": [
    {
     "data": {
      "text/plain": [
       "count         20524\n",
       "unique            1\n",
       "top       Estimates\n",
       "freq          20524\n",
       "Name: Variant, dtype: object"
      ]
     },
     "execution_count": 9,
     "metadata": {},
     "output_type": "execute_result"
    }
   ],
   "source": [
    "dff.Variant.describe()"
   ]
  },
  {
   "cell_type": "code",
   "execution_count": 10,
   "id": "e57c732c2b486522",
   "metadata": {
    "ExecuteTime": {
     "end_time": "2023-08-07T22:55:09.789600183Z",
     "start_time": "2023-08-07T22:55:09.519368067Z"
    }
   },
   "outputs": [],
   "source": [
    "# drop Variant columns from  both dataFrame\n",
    "dfm.drop(\"Variant\", axis=1, inplace=True)\n",
    "dff.drop(\"Variant\", axis=1, inplace=True)"
   ]
  },
  {
   "cell_type": "code",
   "execution_count": 11,
   "id": "b4259ab9fdba49ea",
   "metadata": {
    "ExecuteTime": {
     "end_time": "2023-08-07T22:55:09.808564796Z",
     "start_time": "2023-08-07T22:55:09.797127679Z"
    }
   },
   "outputs": [
    {
     "data": {
      "text/plain": [
       "count                     20524\n",
       "unique                      288\n",
       "top       Australia/New Zealand\n",
       "freq                        144\n",
       "Name: Region, subregion, country or area *, dtype: object"
      ]
     },
     "execution_count": 11,
     "metadata": {},
     "output_type": "execute_result"
    }
   ],
   "source": [
    "dfm[\"Region, subregion, country or area *\"].describe()"
   ]
  },
  {
   "cell_type": "code",
   "execution_count": 12,
   "id": "b80af655098848ad",
   "metadata": {
    "ExecuteTime": {
     "end_time": "2023-08-07T22:55:09.998545824Z",
     "start_time": "2023-08-07T22:55:09.809722069Z"
    }
   },
   "outputs": [
    {
     "data": {
      "text/plain": [
       "count                     20524\n",
       "unique                      288\n",
       "top       Australia/New Zealand\n",
       "freq                        144\n",
       "Name: Region, subregion, country or area *, dtype: object"
      ]
     },
     "execution_count": 12,
     "metadata": {},
     "output_type": "execute_result"
    }
   ],
   "source": [
    "dff[\"Region, subregion, country or area *\"].describe()"
   ]
  },
  {
   "cell_type": "code",
   "execution_count": 13,
   "id": "c128d6817f7bea7c",
   "metadata": {
    "ExecuteTime": {
     "end_time": "2023-08-07T22:55:10.081291837Z",
     "start_time": "2023-08-07T22:55:09.990193318Z"
    }
   },
   "outputs": [],
   "source": [
    "# rename column to 'region'\n",
    "dff.rename(columns={'Region, subregion, country or area *': 'region'}, inplace=True)\n",
    "dfm.rename(columns={'Region, subregion, country or area *': 'region'}, inplace=True)"
   ]
  },
  {
   "cell_type": "code",
   "execution_count": 14,
   "id": "fcc59bb6e4b063c2",
   "metadata": {
    "ExecuteTime": {
     "end_time": "2023-08-07T22:55:10.259450575Z",
     "start_time": "2023-08-07T22:55:10.083186329Z"
    }
   },
   "outputs": [
    {
     "data": {
      "text/plain": [
       "count     5403\n",
       "unique      45\n",
       "top          2\n",
       "freq       792\n",
       "Name: Notes, dtype: int64"
      ]
     },
     "execution_count": 14,
     "metadata": {},
     "output_type": "execute_result"
    }
   ],
   "source": [
    "dfm.Notes.describe()"
   ]
  },
  {
   "cell_type": "code",
   "execution_count": 15,
   "id": "4a03f0bb90913bf7",
   "metadata": {
    "ExecuteTime": {
     "end_time": "2023-08-07T22:55:10.319991308Z",
     "start_time": "2023-08-07T22:55:10.244760836Z"
    }
   },
   "outputs": [
    {
     "data": {
      "text/plain": [
       "1272       j\n",
       "3222     NaN\n",
       "17835    NaN\n",
       "20156     34\n",
       "19138    NaN\n",
       "16612    NaN\n",
       "18697     31\n",
       "18306     17\n",
       "7136     NaN\n",
       "14410    NaN\n",
       "Name: Notes, dtype: object"
      ]
     },
     "execution_count": 15,
     "metadata": {},
     "output_type": "execute_result"
    }
   ],
   "source": [
    "dfm.Notes.sample(n=10, random_state=42)"
   ]
  },
  {
   "cell_type": "code",
   "execution_count": 16,
   "id": "b000ce429bbbc3d2",
   "metadata": {
    "ExecuteTime": {
     "end_time": "2023-08-07T22:55:10.473033142Z",
     "start_time": "2023-08-07T22:55:10.317055433Z"
    }
   },
   "outputs": [
    {
     "data": {
      "text/plain": [
       "count     5403\n",
       "unique      45\n",
       "top          2\n",
       "freq       792\n",
       "Name: Notes, dtype: int64"
      ]
     },
     "execution_count": 16,
     "metadata": {},
     "output_type": "execute_result"
    }
   ],
   "source": [
    "dff.Notes.describe()"
   ]
  },
  {
   "cell_type": "code",
   "execution_count": 17,
   "id": "7cc45260310c9b74",
   "metadata": {
    "ExecuteTime": {
     "end_time": "2023-08-07T22:55:10.691605135Z",
     "start_time": "2023-08-07T22:55:10.468774341Z"
    }
   },
   "outputs": [],
   "source": [
    "# drop Note Columns\n",
    "dfm.drop(\"Notes\", axis=1, inplace=True)\n",
    "dff.drop(\"Notes\", axis=1, inplace=True)"
   ]
  },
  {
   "cell_type": "code",
   "execution_count": 18,
   "id": "91726d79c8556820",
   "metadata": {
    "ExecuteTime": {
     "end_time": "2023-08-07T22:55:10.716944729Z",
     "start_time": "2023-08-07T22:55:10.707178055Z"
    }
   },
   "outputs": [
    {
     "data": {
      "text/plain": [
       "count     20524\n",
       "unique      289\n",
       "top         900\n",
       "freq         72\n",
       "Name: Location code, dtype: int64"
      ]
     },
     "execution_count": 18,
     "metadata": {},
     "output_type": "execute_result"
    }
   ],
   "source": [
    "dfm['Location code'].astype(\"object\").describe()"
   ]
  },
  {
   "cell_type": "code",
   "execution_count": 19,
   "id": "ecdad4b0eceebc0f",
   "metadata": {
    "ExecuteTime": {
     "end_time": "2023-08-07T22:55:10.975762697Z",
     "start_time": "2023-08-07T22:55:10.712001847Z"
    }
   },
   "outputs": [],
   "source": [
    "# drop column  'location_code' \n",
    "dfm.drop('Location code', axis=1, inplace=True)\n",
    "dff.drop('Location code', axis=1, inplace=True)"
   ]
  },
  {
   "cell_type": "code",
   "execution_count": 20,
   "id": "eaaccb6e5922dac2",
   "metadata": {
    "ExecuteTime": {
     "end_time": "2023-08-07T22:55:10.992933271Z",
     "start_time": "2023-08-07T22:55:10.985997543Z"
    }
   },
   "outputs": [
    {
     "data": {
      "text/plain": [
       "count     16992\n",
       "unique      236\n",
       "top         BDI\n",
       "freq         72\n",
       "Name: ISO3 Alpha-code, dtype: object"
      ]
     },
     "execution_count": 20,
     "metadata": {},
     "output_type": "execute_result"
    }
   ],
   "source": [
    "dfm['ISO3 Alpha-code'].describe()"
   ]
  },
  {
   "cell_type": "code",
   "execution_count": 21,
   "id": "7f91cc38e53c89c7",
   "metadata": {
    "ExecuteTime": {
     "end_time": "2023-08-07T22:55:11.142610477Z",
     "start_time": "2023-08-07T22:55:10.991440732Z"
    }
   },
   "outputs": [
    {
     "data": {
      "text/plain": [
       "813      NaN\n",
       "7463     AFG\n",
       "2682     SYC\n",
       "15432    JAM\n",
       "10103    TUR\n",
       "8005     LKA\n",
       "2078     ETH\n",
       "11413    FRO\n",
       "4360     TUN\n",
       "7160     JPN\n",
       "Name: ISO3 Alpha-code, dtype: object"
      ]
     },
     "execution_count": 21,
     "metadata": {},
     "output_type": "execute_result"
    }
   ],
   "source": [
    "dfm['ISO3 Alpha-code'].sample(n=10, random_state=1)"
   ]
  },
  {
   "cell_type": "code",
   "execution_count": 22,
   "id": "5254990ece7f96d6",
   "metadata": {
    "ExecuteTime": {
     "end_time": "2023-08-07T22:55:11.238397053Z",
     "start_time": "2023-08-07T22:55:11.139432585Z"
    }
   },
   "outputs": [
    {
     "data": {
      "text/plain": [
       "count     16920\n",
       "unique      235\n",
       "top          BI\n",
       "freq         72\n",
       "Name: ISO2 Alpha-code, dtype: object"
      ]
     },
     "execution_count": 22,
     "metadata": {},
     "output_type": "execute_result"
    }
   ],
   "source": [
    "dfm['ISO2 Alpha-code'].describe()"
   ]
  },
  {
   "cell_type": "code",
   "execution_count": 23,
   "id": "28075f54bc032fb",
   "metadata": {
    "ExecuteTime": {
     "end_time": "2023-08-07T22:55:11.391070845Z",
     "start_time": "2023-08-07T22:55:11.235299482Z"
    }
   },
   "outputs": [
    {
     "data": {
      "text/plain": [
       "813      NaN\n",
       "7463      AF\n",
       "2682      SC\n",
       "15432     JM\n",
       "10103     TR\n",
       "8005      LK\n",
       "2078      ET\n",
       "11413     FO\n",
       "4360      TN\n",
       "7160      JP\n",
       "Name: ISO2 Alpha-code, dtype: object"
      ]
     },
     "execution_count": 23,
     "metadata": {},
     "output_type": "execute_result"
    }
   ],
   "source": [
    "dfm['ISO2 Alpha-code'].sample(n=10, random_state=1)"
   ]
  },
  {
   "cell_type": "code",
   "execution_count": 24,
   "id": "cd23b992c358cfae",
   "metadata": {
    "ExecuteTime": {
     "end_time": "2023-08-07T22:55:11.898938909Z",
     "start_time": "2023-08-07T22:55:11.380794469Z"
    }
   },
   "outputs": [],
   "source": [
    "# Drop columns 'ISO*'\n",
    "dfm.drop('ISO2 Alpha-code', axis=1, inplace=True)\n",
    "dfm.drop('ISO3 Alpha-code', axis=1, inplace=True)\n",
    "dff.drop('ISO2 Alpha-code', axis=1, inplace=True)\n",
    "dff.drop('ISO3 Alpha-code', axis=1, inplace=True)"
   ]
  },
  {
   "cell_type": "code",
   "execution_count": 25,
   "id": "1f0ab0ee26670e7",
   "metadata": {
    "ExecuteTime": {
     "end_time": "2023-08-07T22:55:11.947365547Z",
     "start_time": "2023-08-07T22:55:11.915274849Z"
    }
   },
   "outputs": [
    {
     "data": {
      "text/plain": [
       "count     20232.0\n",
       "unique      279.0\n",
       "top         419.0\n",
       "freq        144.0\n",
       "Name: SDMX code**, dtype: float64"
      ]
     },
     "execution_count": 25,
     "metadata": {},
     "output_type": "execute_result"
    }
   ],
   "source": [
    "dfm['SDMX code**'].astype('object').describe()"
   ]
  },
  {
   "cell_type": "code",
   "execution_count": 26,
   "id": "5aff4c49bf8a885f",
   "metadata": {
    "ExecuteTime": {
     "end_time": "2023-08-07T22:55:12.038695915Z",
     "start_time": "2023-08-07T22:55:11.921059885Z"
    }
   },
   "outputs": [
    {
     "data": {
      "text/plain": [
       "8875     704.0\n",
       "19472    584.0\n",
       "6532     762.0\n",
       "5165     132.0\n",
       "198      747.0\n",
       "15803    659.0\n",
       "20280    772.0\n",
       "556       53.0\n",
       "9945     275.0\n",
       "13096    807.0\n",
       "Name: SDMX code**, dtype: float64"
      ]
     },
     "execution_count": 26,
     "metadata": {},
     "output_type": "execute_result"
    }
   ],
   "source": [
    "dfm['SDMX code**'].sample(n=10)"
   ]
  },
  {
   "cell_type": "code",
   "execution_count": 27,
   "id": "b8fdf9d5edd48826",
   "metadata": {
    "ExecuteTime": {
     "end_time": "2023-08-07T22:55:12.297367852Z",
     "start_time": "2023-08-07T22:55:12.036917988Z"
    }
   },
   "outputs": [],
   "source": [
    "dfm.drop(\"SDMX code**\", axis=1, inplace=True)\n",
    "dff.drop(\"SDMX code**\", axis=1, inplace=True)\n"
   ]
  },
  {
   "cell_type": "code",
   "execution_count": 28,
   "id": "3a4857027bc159f",
   "metadata": {
    "ExecuteTime": {
     "end_time": "2023-08-07T22:55:12.344298951Z",
     "start_time": "2023-08-07T22:55:12.340747285Z"
    }
   },
   "outputs": [
    {
     "data": {
      "text/plain": [
       "count            20524\n",
       "unique               9\n",
       "top       Country/Area\n",
       "freq             16992\n",
       "Name: Type, dtype: object"
      ]
     },
     "execution_count": 28,
     "metadata": {},
     "output_type": "execute_result"
    }
   ],
   "source": [
    "dfm['Type'].astype('object').describe()"
   ]
  },
  {
   "cell_type": "code",
   "execution_count": 29,
   "id": "510027ea2d26eab4",
   "metadata": {
    "ExecuteTime": {
     "end_time": "2023-08-07T22:55:12.431973949Z",
     "start_time": "2023-08-07T22:55:12.341041546Z"
    }
   },
   "outputs": [
    {
     "data": {
      "text/plain": [
       "5915     Country/Area\n",
       "19148    Country/Area\n",
       "5779     Country/Area\n",
       "9162     Country/Area\n",
       "13256    Country/Area\n",
       "14415    Country/Area\n",
       "3865     Country/Area\n",
       "165        SDG region\n",
       "5808     Country/Area\n",
       "6342     Country/Area\n",
       "Name: Type, dtype: object"
      ]
     },
     "execution_count": 29,
     "metadata": {},
     "output_type": "execute_result"
    }
   ],
   "source": [
    "dfm['Type'].sample(n=10)"
   ]
  },
  {
   "cell_type": "code",
   "execution_count": 30,
   "id": "f3f3a8f2d6cb412b",
   "metadata": {
    "ExecuteTime": {
     "end_time": "2023-08-07T22:55:12.539142936Z",
     "start_time": "2023-08-07T22:55:12.425301958Z"
    }
   },
   "outputs": [],
   "source": [
    "dfm.rename(columns={'Type': \"type\"}, inplace=True)\n",
    "dff.rename(columns={'Type': \"type\"}, inplace=True)"
   ]
  },
  {
   "cell_type": "code",
   "execution_count": 31,
   "id": "2800e58629a78f0c",
   "metadata": {
    "ExecuteTime": {
     "end_time": "2023-08-07T22:55:12.688323293Z",
     "start_time": "2023-08-07T22:55:12.580665005Z"
    }
   },
   "outputs": [
    {
     "data": {
      "text/plain": [
       "count     20524\n",
       "unique       35\n",
       "top         915\n",
       "freq       2016\n",
       "Name: Parent code, dtype: int64"
      ]
     },
     "execution_count": 31,
     "metadata": {},
     "output_type": "execute_result"
    }
   ],
   "source": [
    "dfm['Parent code'].astype('object').describe()"
   ]
  },
  {
   "cell_type": "code",
   "execution_count": 32,
   "id": "6976e6d239fa3b2",
   "metadata": {
    "ExecuteTime": {
     "end_time": "2023-08-07T22:55:12.830833898Z",
     "start_time": "2023-08-07T22:55:12.672427140Z"
    }
   },
   "outputs": [
    {
     "data": {
      "text/plain": [
       "1272     1802\n",
       "3222      903\n",
       "17835     931\n",
       "20156     957\n",
       "19138     928\n",
       "16612     916\n",
       "18697     927\n",
       "18306     905\n",
       "7136      906\n",
       "14410     915\n",
       "Name: Parent code, dtype: int64"
      ]
     },
     "execution_count": 32,
     "metadata": {},
     "output_type": "execute_result"
    }
   ],
   "source": [
    "dfm['Parent code'].sample(n=10, random_state=42)"
   ]
  },
  {
   "cell_type": "code",
   "execution_count": 33,
   "id": "574c7f98c7b95b29",
   "metadata": {
    "ExecuteTime": {
     "end_time": "2023-08-07T22:55:12.900195509Z",
     "start_time": "2023-08-07T22:55:12.808720766Z"
    }
   },
   "outputs": [
    {
     "data": {
      "text/plain": [
       "1272     1802\n",
       "3222      903\n",
       "17835     931\n",
       "20156     957\n",
       "19138     928\n",
       "16612     916\n",
       "18697     927\n",
       "18306     905\n",
       "7136      906\n",
       "14410     915\n",
       "Name: Parent code, dtype: int64"
      ]
     },
     "execution_count": 33,
     "metadata": {},
     "output_type": "execute_result"
    }
   ],
   "source": [
    "dff['Parent code'].sample(n=10, random_state=42)"
   ]
  },
  {
   "cell_type": "code",
   "execution_count": 34,
   "id": "d841e49d453414d8",
   "metadata": {
    "ExecuteTime": {
     "end_time": "2023-08-07T22:55:13.218163872Z",
     "start_time": "2023-08-07T22:55:12.896953816Z"
    }
   },
   "outputs": [],
   "source": [
    "dfm.drop('Parent code',axis=1, inplace=True)\n",
    "dff.drop('Parent code',axis=1, inplace=True)"
   ]
  },
  {
   "cell_type": "code",
   "execution_count": 35,
   "id": "8c6c2afa6b8a0a8e",
   "metadata": {
    "ExecuteTime": {
     "end_time": "2023-08-07T22:55:13.238425920Z",
     "start_time": "2023-08-07T22:55:13.222773187Z"
    }
   },
   "outputs": [
    {
     "name": "stderr",
     "output_type": "stream",
     "text": [
      "/tmp/ipykernel_7287/1131223301.py:1: FutureWarning: Treating datetime data as categorical rather than numeric in `.describe` is deprecated and will be removed in a future version of pandas. Specify `datetime_is_numeric=True` to silence this warning and adopt the future behavior now.\n",
      "  dfm[\"Year\"].astype('datetime64[ns]').describe()\n"
     ]
    },
    {
     "data": {
      "text/plain": [
       "count                             20520\n",
       "unique                               72\n",
       "top       1970-01-01 00:00:00.000001950\n",
       "freq                                285\n",
       "first     1970-01-01 00:00:00.000001950\n",
       "last      1970-01-01 00:00:00.000002021\n",
       "Name: Year, dtype: object"
      ]
     },
     "execution_count": 35,
     "metadata": {},
     "output_type": "execute_result"
    }
   ],
   "source": [
    "dfm[\"Year\"].astype('datetime64[ns]').describe()"
   ]
  },
  {
   "cell_type": "code",
   "execution_count": 36,
   "id": "36c7ec97be0c7145",
   "metadata": {
    "ExecuteTime": {
     "end_time": "2023-08-07T22:55:13.381844826Z",
     "start_time": "2023-08-07T22:55:13.235002569Z"
    }
   },
   "outputs": [
    {
     "data": {
      "text/plain": [
       "Index(['region',   'type',   'year',        0,        1,        2,        3,\n",
       "              4,        5,        6,\n",
       "       ...\n",
       "             91,       92,       93,       94,       95,       96,       97,\n",
       "             98,       99,   '100+'],\n",
       "      dtype='object', length=104)"
      ]
     },
     "execution_count": 36,
     "metadata": {},
     "output_type": "execute_result"
    }
   ],
   "source": [
    "dfm.rename(columns={'Year': 'year'}, inplace=True)\n",
    "dff.rename(columns={'Year': 'year'}, inplace=True)\n",
    "dff.columns"
   ]
  },
  {
   "cell_type": "markdown",
   "id": "d3a7c42f14ced6e7",
   "metadata": {},
   "source": [
    "\n",
    "#### For Age columns we will combine them in 6 principal phases:\n",
    "1. Early Childhood (0-6 years):\n",
    "2. Middle Childhood (7-12 years): \n",
    "3. Adolescents (13 years through 17 years):\n",
    "4. Young Adults (18-25 years): This stage is characterized by the pursuit of higher education, starting careers, and developing more stable relationships. .\n",
    "5. Middle Adulthood (26-64 years): During this stage, individuals tend to establish their careers and family l\n",
    "6. Late Adulthood (65 years and older): Physical changes associated with aging become more apparent. Retirement and adjusting to a new phase of life are common in this stage."
   ]
  },
  {
   "cell_type": "code",
   "execution_count": 37,
   "id": "b6503634b0c4cf52",
   "metadata": {
    "ExecuteTime": {
     "end_time": "2023-08-07T22:55:13.455409542Z",
     "start_time": "2023-08-07T22:55:13.361608519Z"
    }
   },
   "outputs": [
    {
     "data": {
      "text/plain": [
       "Index(['region', 'type', 'year', '0', '1', '2', '3', '4', '5', '6',\n",
       "       ...\n",
       "       '91', '92', '93', '94', '95', '96', '97', '98', '99', '100+'],\n",
       "      dtype='object', length=104)"
      ]
     },
     "execution_count": 37,
     "metadata": {},
     "output_type": "execute_result"
    }
   ],
   "source": [
    "# convert column labels to string\n",
    "dfm.columns = list(map(str, dfm.columns))\n",
    "dff.columns = list(map(str, dfm.columns))\n",
    "dfm.columns"
   ]
  },
  {
   "cell_type": "code",
   "execution_count": 38,
   "id": "e5210603",
   "metadata": {},
   "outputs": [
    {
     "data": {
      "text/plain": [
       "dtype('O')"
      ]
     },
     "execution_count": 38,
     "metadata": {},
     "output_type": "execute_result"
    }
   ],
   "source": [
    "dfm['0'].dtypes"
   ]
  },
  {
   "cell_type": "code",
   "execution_count": 39,
   "id": "168d1ffb5afbace",
   "metadata": {
    "ExecuteTime": {
     "end_time": "2023-08-07T22:55:13.569285259Z",
     "start_time": "2023-08-07T22:55:13.451912749Z"
    }
   },
   "outputs": [
    {
     "data": {
      "text/plain": [
       "array([<class 'float'>, <class 'int'>, <class 'str'>], dtype=object)"
      ]
     },
     "execution_count": 39,
     "metadata": {},
     "output_type": "execute_result"
    }
   ],
   "source": [
    "# check unique value type\n",
    "dfm['0'].apply(type).unique()"
   ]
  },
  {
   "cell_type": "code",
   "execution_count": 40,
   "id": "d7a27604b9a92d6f",
   "metadata": {
    "ExecuteTime": {
     "end_time": "2023-08-07T22:55:13.713159588Z",
     "start_time": "2023-08-07T22:55:13.573284882Z"
    }
   },
   "outputs": [
    {
     "data": {
      "text/plain": [
       "6270       324.727\n",
       "12276      975.468\n",
       "15607       0.0285\n",
       "2945       679.465\n",
       "5738       46.6475\n",
       "8122     5733.8425\n",
       "2589         7.789\n",
       "12769      447.806\n",
       "15373      109.853\n",
       "11874        0.572\n",
       "Name: 0, dtype: object"
      ]
     },
     "execution_count": 40,
     "metadata": {},
     "output_type": "execute_result"
    }
   ],
   "source": [
    "dfm['0'].sample(n=10)"
   ]
  },
  {
   "cell_type": "code",
   "execution_count": 41,
   "id": "522a6f931765e3ab",
   "metadata": {
    "ExecuteTime": {
     "end_time": "2023-08-07T22:55:13.783880686Z",
     "start_time": "2023-08-07T22:55:13.712652795Z"
    }
   },
   "outputs": [
    {
     "data": {
      "text/plain": [
       "['...', '...', '...', '...']"
      ]
     },
     "execution_count": 41,
     "metadata": {},
     "output_type": "execute_result"
    }
   ],
   "source": [
    "# retrieve values of type string\n",
    "str_values = dfm[dfm[\"0\"].apply(lambda x: isinstance(x, str))][\"0\"].tolist()\n",
    "str_values"
   ]
  },
  {
   "cell_type": "code",
   "execution_count": 42,
   "id": "7659e4f3d82117a7",
   "metadata": {
    "ExecuteTime": {
     "end_time": "2023-08-07T22:55:13.914129329Z",
     "start_time": "2023-08-07T22:55:13.781921696Z"
    }
   },
   "outputs": [
    {
     "data": {
      "text/plain": [
       "['...', '...', '...', '...']"
      ]
     },
     "execution_count": 42,
     "metadata": {},
     "output_type": "execute_result"
    }
   ],
   "source": [
    "# check another column\n",
    "str_values = dfm[dfm[\"12\"].apply(lambda x: isinstance(x, str))][\"12\"].tolist()\n",
    "str_values"
   ]
  },
  {
   "cell_type": "code",
   "execution_count": 43,
   "id": "652f7333b143eed5",
   "metadata": {
    "ExecuteTime": {
     "end_time": "2023-08-07T22:55:14.093107683Z",
     "start_time": "2023-08-07T22:55:13.944759806Z"
    }
   },
   "outputs": [
    {
     "data": {
      "text/html": [
       "<div>\n",
       "<style scoped>\n",
       "    .dataframe tbody tr th:only-of-type {\n",
       "        vertical-align: middle;\n",
       "    }\n",
       "\n",
       "    .dataframe tbody tr th {\n",
       "        vertical-align: top;\n",
       "    }\n",
       "\n",
       "    .dataframe thead th {\n",
       "        text-align: right;\n",
       "    }\n",
       "</style>\n",
       "<table border=\"1\" class=\"dataframe\">\n",
       "  <thead>\n",
       "    <tr style=\"text-align: right;\">\n",
       "      <th></th>\n",
       "      <th>region</th>\n",
       "      <th>type</th>\n",
       "      <th>year</th>\n",
       "      <th>0</th>\n",
       "      <th>1</th>\n",
       "      <th>2</th>\n",
       "      <th>3</th>\n",
       "      <th>4</th>\n",
       "      <th>5</th>\n",
       "      <th>6</th>\n",
       "      <th>...</th>\n",
       "      <th>91</th>\n",
       "      <th>92</th>\n",
       "      <th>93</th>\n",
       "      <th>94</th>\n",
       "      <th>95</th>\n",
       "      <th>96</th>\n",
       "      <th>97</th>\n",
       "      <th>98</th>\n",
       "      <th>99</th>\n",
       "      <th>100+</th>\n",
       "    </tr>\n",
       "  </thead>\n",
       "  <tbody>\n",
       "    <tr>\n",
       "      <th>72</th>\n",
       "      <td>Sustainable Development Goal (SDG) regions</td>\n",
       "      <td>Label/Separator</td>\n",
       "      <td>NaN</td>\n",
       "      <td>...</td>\n",
       "      <td>...</td>\n",
       "      <td>...</td>\n",
       "      <td>...</td>\n",
       "      <td>...</td>\n",
       "      <td>...</td>\n",
       "      <td>...</td>\n",
       "      <td>...</td>\n",
       "      <td>...</td>\n",
       "      <td>...</td>\n",
       "      <td>...</td>\n",
       "      <td>...</td>\n",
       "      <td>...</td>\n",
       "      <td>...</td>\n",
       "      <td>...</td>\n",
       "      <td>...</td>\n",
       "      <td>...</td>\n",
       "      <td>...</td>\n",
       "    </tr>\n",
       "    <tr>\n",
       "      <th>649</th>\n",
       "      <td>UN development groups</td>\n",
       "      <td>Label/Separator</td>\n",
       "      <td>NaN</td>\n",
       "      <td>...</td>\n",
       "      <td>...</td>\n",
       "      <td>...</td>\n",
       "      <td>...</td>\n",
       "      <td>...</td>\n",
       "      <td>...</td>\n",
       "      <td>...</td>\n",
       "      <td>...</td>\n",
       "      <td>...</td>\n",
       "      <td>...</td>\n",
       "      <td>...</td>\n",
       "      <td>...</td>\n",
       "      <td>...</td>\n",
       "      <td>...</td>\n",
       "      <td>...</td>\n",
       "      <td>...</td>\n",
       "      <td>...</td>\n",
       "      <td>...</td>\n",
       "    </tr>\n",
       "    <tr>\n",
       "      <th>1154</th>\n",
       "      <td>World Bank income groups</td>\n",
       "      <td>Label/Separator</td>\n",
       "      <td>NaN</td>\n",
       "      <td>...</td>\n",
       "      <td>...</td>\n",
       "      <td>...</td>\n",
       "      <td>...</td>\n",
       "      <td>...</td>\n",
       "      <td>...</td>\n",
       "      <td>...</td>\n",
       "      <td>...</td>\n",
       "      <td>...</td>\n",
       "      <td>...</td>\n",
       "      <td>...</td>\n",
       "      <td>...</td>\n",
       "      <td>...</td>\n",
       "      <td>...</td>\n",
       "      <td>...</td>\n",
       "      <td>...</td>\n",
       "      <td>...</td>\n",
       "      <td>...</td>\n",
       "    </tr>\n",
       "    <tr>\n",
       "      <th>1587</th>\n",
       "      <td>Geographic regions</td>\n",
       "      <td>Label/Separator</td>\n",
       "      <td>NaN</td>\n",
       "      <td>...</td>\n",
       "      <td>...</td>\n",
       "      <td>...</td>\n",
       "      <td>...</td>\n",
       "      <td>...</td>\n",
       "      <td>...</td>\n",
       "      <td>...</td>\n",
       "      <td>...</td>\n",
       "      <td>...</td>\n",
       "      <td>...</td>\n",
       "      <td>...</td>\n",
       "      <td>...</td>\n",
       "      <td>...</td>\n",
       "      <td>...</td>\n",
       "      <td>...</td>\n",
       "      <td>...</td>\n",
       "      <td>...</td>\n",
       "      <td>...</td>\n",
       "    </tr>\n",
       "  </tbody>\n",
       "</table>\n",
       "<p>4 rows × 104 columns</p>\n",
       "</div>"
      ],
      "text/plain": [
       "                                          region             type  year    0  \\\n",
       "72    Sustainable Development Goal (SDG) regions  Label/Separator   NaN  ...   \n",
       "649                        UN development groups  Label/Separator   NaN  ...   \n",
       "1154                    World Bank income groups  Label/Separator   NaN  ...   \n",
       "1587                          Geographic regions  Label/Separator   NaN  ...   \n",
       "\n",
       "        1    2    3    4    5    6  ...   91   92   93   94   95   96   97  \\\n",
       "72    ...  ...  ...  ...  ...  ...  ...  ...  ...  ...  ...  ...  ...  ...   \n",
       "649   ...  ...  ...  ...  ...  ...  ...  ...  ...  ...  ...  ...  ...  ...   \n",
       "1154  ...  ...  ...  ...  ...  ...  ...  ...  ...  ...  ...  ...  ...  ...   \n",
       "1587  ...  ...  ...  ...  ...  ...  ...  ...  ...  ...  ...  ...  ...  ...   \n",
       "\n",
       "       98   99 100+  \n",
       "72    ...  ...  ...  \n",
       "649   ...  ...  ...  \n",
       "1154  ...  ...  ...  \n",
       "1587  ...  ...  ...  \n",
       "\n",
       "[4 rows x 104 columns]"
      ]
     },
     "execution_count": 43,
     "metadata": {},
     "output_type": "execute_result"
    }
   ],
   "source": [
    "# retrieve rows with error values\n",
    "dfm[dfm['0'] == '...']"
   ]
  },
  {
   "cell_type": "code",
   "execution_count": 44,
   "id": "72a62fec0c5569ca",
   "metadata": {
    "ExecuteTime": {
     "end_time": "2023-08-07T22:55:14.294862101Z",
     "start_time": "2023-08-07T22:55:14.072711708Z"
    }
   },
   "outputs": [],
   "source": [
    "# we will delete these  rows\n",
    "dfm = dfm[dfm['0'] != '...']\n",
    "dff = dff[dff['0'] != '...']"
   ]
  },
  {
   "cell_type": "code",
   "execution_count": 45,
   "id": "7ae213ea20d906e6",
   "metadata": {
    "ExecuteTime": {
     "end_time": "2023-08-07T22:55:14.336933579Z",
     "start_time": "2023-08-07T22:55:14.287604559Z"
    }
   },
   "outputs": [
    {
     "data": {
      "text/html": [
       "<div>\n",
       "<style scoped>\n",
       "    .dataframe tbody tr th:only-of-type {\n",
       "        vertical-align: middle;\n",
       "    }\n",
       "\n",
       "    .dataframe tbody tr th {\n",
       "        vertical-align: top;\n",
       "    }\n",
       "\n",
       "    .dataframe thead th {\n",
       "        text-align: right;\n",
       "    }\n",
       "</style>\n",
       "<table border=\"1\" class=\"dataframe\">\n",
       "  <thead>\n",
       "    <tr style=\"text-align: right;\">\n",
       "      <th></th>\n",
       "      <th>region</th>\n",
       "      <th>type</th>\n",
       "      <th>year</th>\n",
       "      <th>0</th>\n",
       "      <th>1</th>\n",
       "      <th>2</th>\n",
       "      <th>3</th>\n",
       "      <th>4</th>\n",
       "      <th>5</th>\n",
       "      <th>6</th>\n",
       "      <th>...</th>\n",
       "      <th>91</th>\n",
       "      <th>92</th>\n",
       "      <th>93</th>\n",
       "      <th>94</th>\n",
       "      <th>95</th>\n",
       "      <th>96</th>\n",
       "      <th>97</th>\n",
       "      <th>98</th>\n",
       "      <th>99</th>\n",
       "      <th>100+</th>\n",
       "    </tr>\n",
       "  </thead>\n",
       "  <tbody>\n",
       "  </tbody>\n",
       "</table>\n",
       "<p>0 rows × 104 columns</p>\n",
       "</div>"
      ],
      "text/plain": [
       "Empty DataFrame\n",
       "Columns: [region, type, year, 0, 1, 2, 3, 4, 5, 6, 7, 8, 9, 10, 11, 12, 13, 14, 15, 16, 17, 18, 19, 20, 21, 22, 23, 24, 25, 26, 27, 28, 29, 30, 31, 32, 33, 34, 35, 36, 37, 38, 39, 40, 41, 42, 43, 44, 45, 46, 47, 48, 49, 50, 51, 52, 53, 54, 55, 56, 57, 58, 59, 60, 61, 62, 63, 64, 65, 66, 67, 68, 69, 70, 71, 72, 73, 74, 75, 76, 77, 78, 79, 80, 81, 82, 83, 84, 85, 86, 87, 88, 89, 90, 91, 92, 93, 94, 95, 96, ...]\n",
       "Index: []\n",
       "\n",
       "[0 rows x 104 columns]"
      ]
     },
     "execution_count": 45,
     "metadata": {},
     "output_type": "execute_result"
    }
   ],
   "source": [
    "# checking\n",
    "dff[dff['0'] == '...']"
   ]
  },
  {
   "cell_type": "code",
   "execution_count": null,
   "id": "f2d450f28c629fd6",
   "metadata": {
    "ExecuteTime": {
     "end_time": "2023-08-07T22:55:14.516724Z",
     "start_time": "2023-08-07T22:55:14.326967441Z"
    }
   },
   "outputs": [],
   "source": [
    "dfm.index"
   ]
  },
  {
   "cell_type": "code",
   "execution_count": 47,
   "id": "772ea8c2b84e9c77",
   "metadata": {
    "ExecuteTime": {
     "end_time": "2023-08-07T22:55:14.666579584Z",
     "start_time": "2023-08-07T22:55:14.429027258Z"
    }
   },
   "outputs": [
    {
     "data": {
      "text/plain": [
       "RangeIndex(start=0, stop=20520, step=1)"
      ]
     },
     "execution_count": 47,
     "metadata": {},
     "output_type": "execute_result"
    }
   ],
   "source": [
    "# reset index\n",
    "dfm.reset_index(drop=True,inplace=True)\n",
    "dff.reset_index(drop=True, inplace=True)\n",
    "dfm.index\n"
   ]
  },
  {
   "cell_type": "code",
   "execution_count": 48,
   "id": "3f559405",
   "metadata": {},
   "outputs": [
    {
     "data": {
      "text/plain": [
       "['1',\n",
       " '2',\n",
       " '3',\n",
       " '4',\n",
       " '5',\n",
       " '6',\n",
       " '7',\n",
       " '8',\n",
       " '9',\n",
       " '10',\n",
       " '11',\n",
       " '12',\n",
       " '13',\n",
       " '14',\n",
       " '15',\n",
       " '16',\n",
       " '17',\n",
       " '18',\n",
       " '19',\n",
       " '20',\n",
       " '21',\n",
       " '22',\n",
       " '23',\n",
       " '24',\n",
       " '25',\n",
       " '26',\n",
       " '27',\n",
       " '28',\n",
       " '29',\n",
       " '30',\n",
       " '31',\n",
       " '32',\n",
       " '33',\n",
       " '34',\n",
       " '35',\n",
       " '36',\n",
       " '37',\n",
       " '38',\n",
       " '39',\n",
       " '40',\n",
       " '41',\n",
       " '42',\n",
       " '43',\n",
       " '44',\n",
       " '45',\n",
       " '46',\n",
       " '47',\n",
       " '48',\n",
       " '49',\n",
       " '50',\n",
       " '51',\n",
       " '52',\n",
       " '53',\n",
       " '54',\n",
       " '55',\n",
       " '56',\n",
       " '57',\n",
       " '58',\n",
       " '59',\n",
       " '60',\n",
       " '61',\n",
       " '62',\n",
       " '63',\n",
       " '64',\n",
       " '65',\n",
       " '66',\n",
       " '67',\n",
       " '68',\n",
       " '69',\n",
       " '70',\n",
       " '71',\n",
       " '72',\n",
       " '73',\n",
       " '74',\n",
       " '75',\n",
       " '76',\n",
       " '77',\n",
       " '78',\n",
       " '79',\n",
       " '80',\n",
       " '81',\n",
       " '82',\n",
       " '83',\n",
       " '84',\n",
       " '85',\n",
       " '86',\n",
       " '87',\n",
       " '88',\n",
       " '89',\n",
       " '90',\n",
       " '91',\n",
       " '92',\n",
       " '93',\n",
       " '94',\n",
       " '95',\n",
       " '96',\n",
       " '97',\n",
       " '98',\n",
       " '99',\n",
       " '100+']"
      ]
     },
     "execution_count": 48,
     "metadata": {},
     "output_type": "execute_result"
    }
   ],
   "source": [
    "dfm.iloc[:, 4: ].columns.tolist()"
   ]
  },
  {
   "cell_type": "code",
   "execution_count": 49,
   "id": "2e42a5f7aa65fad",
   "metadata": {
    "ExecuteTime": {
     "end_time": "2023-08-07T22:55:22.249526094Z",
     "start_time": "2023-08-07T22:55:14.660658928Z"
    }
   },
   "outputs": [],
   "source": [
    "# fix age columns dtypes\n",
    "for col in dfm.iloc[:, 3: ].columns.tolist():\n",
    "    dfm[col] = dfm[col].astype('float64')\n",
    "for col in dff.iloc[:, 3: ].columns.tolist():\n",
    "    dff[col] = dff[col].astype('float64')"
   ]
  },
  {
   "cell_type": "code",
   "execution_count": 50,
   "id": "c67b35f9d03fefc6",
   "metadata": {
    "ExecuteTime": {
     "end_time": "2023-08-07T22:55:22.429290484Z",
     "start_time": "2023-08-07T22:55:22.263418476Z"
    }
   },
   "outputs": [
    {
     "name": "stderr",
     "output_type": "stream",
     "text": [
      "/tmp/ipykernel_7287/2862868009.py:1: PerformanceWarning: DataFrame is highly fragmented.  This is usually the result of calling `frame.insert` many times, which has poor performance.  Consider joining all columns at once using pd.concat(axis=1) instead. To get a de-fragmented frame, use `newframe = frame.copy()`\n",
      "  dfm[\"early_child\"] = 0\n",
      "/tmp/ipykernel_7287/2862868009.py:2: PerformanceWarning: DataFrame is highly fragmented.  This is usually the result of calling `frame.insert` many times, which has poor performance.  Consider joining all columns at once using pd.concat(axis=1) instead. To get a de-fragmented frame, use `newframe = frame.copy()`\n",
      "  dff[\"early_child\"] = 0\n"
     ]
    }
   ],
   "source": [
    "dfm[\"early_child\"] = 0\n",
    "dff[\"early_child\"] = 0\n",
    "\n",
    "for col in dfm.iloc[:, 3:10].columns.tolist():\n",
    "    dfm[\"early_child\"] = dfm[\"early_child\"] + dfm[col]\n",
    "    dff[\"early_child\"] = dff[\"early_child\"] + dff[col]\n",
    "    dff.drop(col, axis=1, inplace=True)\n",
    "    dfm.drop(col, axis=1, inplace=True)"
   ]
  },
  {
   "cell_type": "code",
   "execution_count": 51,
   "id": "28ff24f131ef12bb",
   "metadata": {
    "ExecuteTime": {
     "end_time": "2023-08-07T22:55:22.576125830Z",
     "start_time": "2023-08-07T22:55:22.427949234Z"
    }
   },
   "outputs": [],
   "source": [
    "dfm[\"middle_child\"] = 0\n",
    "dff[\"middle_child\"] = 0\n",
    "for col in dfm.iloc[:, 3:9].columns.tolist():\n",
    "    dfm[\"middle_child\"] = dfm[\"middle_child\"] + dfm[col]\n",
    "    dff[\"middle_child\"] = dff[\"middle_child\"] + dff[col]\n",
    "    dff.drop(col, axis=1, inplace=True)\n",
    "    dfm.drop(col, axis=1, inplace=True)"
   ]
  },
  {
   "cell_type": "code",
   "execution_count": 52,
   "id": "82b9feb35aa14dc6",
   "metadata": {
    "ExecuteTime": {
     "end_time": "2023-08-07T22:55:22.694647806Z",
     "start_time": "2023-08-07T22:55:22.578813655Z"
    }
   },
   "outputs": [],
   "source": [
    "dfm[\"adolescent\"] = 0\n",
    "dff[\"adolescent\"] = 0\n",
    "\n",
    "\n",
    "for col in dfm.iloc[:, 3:8].columns.tolist():\n",
    "    dfm[\"adolescent\"] = dfm[\"adolescent\"] + dfm[col]\n",
    "    dff[\"adolescent\"] = dff[\"adolescent\"] + dff[col]\n",
    "    dff.drop(col, axis=1, inplace=True)\n",
    "    dfm.drop(col, axis=1, inplace=True)"
   ]
  },
  {
   "cell_type": "code",
   "execution_count": 53,
   "id": "2a660df588fce254",
   "metadata": {
    "ExecuteTime": {
     "end_time": "2023-08-07T22:55:22.869857596Z",
     "start_time": "2023-08-07T22:55:22.701888773Z"
    }
   },
   "outputs": [],
   "source": [
    "dfm[\"young_adult\"] = 0\n",
    "dff[\"young_adult\"] = 0\n",
    "\n",
    "for col in dfm.iloc[:, 3:11].columns.tolist():\n",
    "    dfm[\"young_adult\"] = dfm[\"young_adult\"] + dfm[col]\n",
    "    dff[\"young_adult\"] = dff[\"young_adult\"] + dff[col]\n",
    "    dff.drop(col, axis=1, inplace=True)\n",
    "    dfm.drop(col, axis=1, inplace=True)"
   ]
  },
  {
   "cell_type": "code",
   "execution_count": 54,
   "id": "99a16b1786039536",
   "metadata": {
    "ExecuteTime": {
     "end_time": "2023-08-07T22:55:23.440771418Z",
     "start_time": "2023-08-07T22:55:22.919795225Z"
    }
   },
   "outputs": [],
   "source": [
    "dfm[\"middle_adult\"] = 0\n",
    "dff[\"middle_adult\"] = 0\n",
    "\n",
    "\n",
    "for col in dfm.iloc[:, 3:42].columns.tolist():\n",
    "    dfm[\"middle_adult\"] = dfm[\"middle_adult\"] + dfm[col]\n",
    "    dff[\"middle_adult\"] = dff[\"middle_adult\"] + dff[col]\n",
    "    dff.drop(col, axis=1, inplace=True)\n",
    "    dfm.drop(col, axis=1, inplace=True)"
   ]
  },
  {
   "cell_type": "code",
   "execution_count": 55,
   "id": "e42374973f08753e",
   "metadata": {
    "ExecuteTime": {
     "end_time": "2023-08-07T22:55:23.742848280Z",
     "start_time": "2023-08-07T22:55:23.463458639Z"
    }
   },
   "outputs": [],
   "source": [
    "dfm[\"late_adult\"] = 0\n",
    "dff[\"late_adult\"] = 0\n",
    "for col in dfm.iloc[:, 3:39].columns.tolist():\n",
    "    dfm[\"late_adult\"] = dfm[\"late_adult\"] + dfm[col]\n",
    "    dff[\"late_adult\"] = dff[\"late_adult\"] + dff[col]\n",
    "    dff.drop(col, axis=1, inplace=True)\n",
    "    dfm.drop(col, axis=1, inplace=True)"
   ]
  },
  {
   "cell_type": "code",
   "execution_count": 56,
   "id": "9b08194c22298a73",
   "metadata": {
    "ExecuteTime": {
     "end_time": "2023-08-07T22:55:23.758325317Z",
     "start_time": "2023-08-07T22:55:23.748042695Z"
    }
   },
   "outputs": [
    {
     "data": {
      "text/plain": [
       "['region',\n",
       " 'type',\n",
       " 'year',\n",
       " 'early_child',\n",
       " 'middle_child',\n",
       " 'adolescent',\n",
       " 'young_adult',\n",
       " 'middle_adult',\n",
       " 'late_adult']"
      ]
     },
     "execution_count": 56,
     "metadata": {},
     "output_type": "execute_result"
    }
   ],
   "source": [
    "dfm.columns.tolist()"
   ]
  },
  {
   "cell_type": "code",
   "execution_count": 57,
   "id": "9efa24ff88151b55",
   "metadata": {
    "ExecuteTime": {
     "end_time": "2023-08-07T22:55:23.867781147Z",
     "start_time": "2023-08-07T22:55:23.752402756Z"
    }
   },
   "outputs": [],
   "source": [
    "# create a sex column before concatinating \n",
    "dfm['sex'] = 'M'\n",
    "dff['sex'] = 'F'"
   ]
  },
  {
   "cell_type": "code",
   "execution_count": 63,
   "id": "1aea44aab9236412",
   "metadata": {
    "ExecuteTime": {
     "end_time": "2023-08-07T22:55:23.965966274Z",
     "start_time": "2023-08-07T22:55:23.861526599Z"
    }
   },
   "outputs": [],
   "source": [
    "# add a total column\n",
    "dfm['total_sex'] = 0\n",
    "dff['total_sex'] = 0\n",
    "for col in dfm.iloc[:, 3:9].columns.tolist():\n",
    "    dfm['total_sex'] += dfm[col]\n",
    "\n",
    "for col in dff.iloc[:, 3:9].columns.tolist():\n",
    "    dff['total_sex'] += dff[col]"
   ]
  },
  {
   "cell_type": "code",
   "execution_count": 65,
   "id": "8fc6b7b6d077b0fb",
   "metadata": {
    "ExecuteTime": {
     "end_time": "2023-08-07T22:55:24.295299526Z",
     "start_time": "2023-08-07T22:55:24.104764169Z"
    }
   },
   "outputs": [
    {
     "data": {
      "text/html": [
       "<div>\n",
       "<style scoped>\n",
       "    .dataframe tbody tr th:only-of-type {\n",
       "        vertical-align: middle;\n",
       "    }\n",
       "\n",
       "    .dataframe tbody tr th {\n",
       "        vertical-align: top;\n",
       "    }\n",
       "\n",
       "    .dataframe thead th {\n",
       "        text-align: right;\n",
       "    }\n",
       "</style>\n",
       "<table border=\"1\" class=\"dataframe\">\n",
       "  <thead>\n",
       "    <tr style=\"text-align: right;\">\n",
       "      <th></th>\n",
       "      <th>region</th>\n",
       "      <th>type</th>\n",
       "      <th>year</th>\n",
       "      <th>early_child</th>\n",
       "      <th>middle_child</th>\n",
       "      <th>adolescent</th>\n",
       "      <th>young_adult</th>\n",
       "      <th>middle_adult</th>\n",
       "      <th>late_adult</th>\n",
       "      <th>sex</th>\n",
       "      <th>total_sex</th>\n",
       "    </tr>\n",
       "  </thead>\n",
       "  <tbody>\n",
       "    <tr>\n",
       "      <th>0</th>\n",
       "      <td>WORLD</td>\n",
       "      <td>World</td>\n",
       "      <td>1950.0</td>\n",
       "      <td>230529.2240</td>\n",
       "      <td>161033.9955</td>\n",
       "      <td>125821.5410</td>\n",
       "      <td>178320.5340</td>\n",
       "      <td>493281.8695</td>\n",
       "      <td>56375.8005</td>\n",
       "      <td>M</td>\n",
       "      <td>1.245363e+06</td>\n",
       "    </tr>\n",
       "    <tr>\n",
       "      <th>1</th>\n",
       "      <td>WORLD</td>\n",
       "      <td>World</td>\n",
       "      <td>1951.0</td>\n",
       "      <td>239557.3425</td>\n",
       "      <td>161242.1755</td>\n",
       "      <td>127984.8960</td>\n",
       "      <td>181008.4160</td>\n",
       "      <td>500784.4200</td>\n",
       "      <td>56895.9320</td>\n",
       "      <td>M</td>\n",
       "      <td>1.267473e+06</td>\n",
       "    </tr>\n",
       "    <tr>\n",
       "      <th>2</th>\n",
       "      <td>WORLD</td>\n",
       "      <td>World</td>\n",
       "      <td>1952.0</td>\n",
       "      <td>249579.3075</td>\n",
       "      <td>162030.2515</td>\n",
       "      <td>129539.2825</td>\n",
       "      <td>183799.3335</td>\n",
       "      <td>508838.3730</td>\n",
       "      <td>57613.4340</td>\n",
       "      <td>M</td>\n",
       "      <td>1.291400e+06</td>\n",
       "    </tr>\n",
       "    <tr>\n",
       "      <th>3</th>\n",
       "      <td>WORLD</td>\n",
       "      <td>World</td>\n",
       "      <td>1953.0</td>\n",
       "      <td>259827.1235</td>\n",
       "      <td>164110.9880</td>\n",
       "      <td>130574.2420</td>\n",
       "      <td>185995.3585</td>\n",
       "      <td>517634.5770</td>\n",
       "      <td>58516.9335</td>\n",
       "      <td>M</td>\n",
       "      <td>1.316659e+06</td>\n",
       "    </tr>\n",
       "    <tr>\n",
       "      <th>4</th>\n",
       "      <td>WORLD</td>\n",
       "      <td>World</td>\n",
       "      <td>1954.0</td>\n",
       "      <td>269013.2385</td>\n",
       "      <td>167852.7750</td>\n",
       "      <td>131217.1090</td>\n",
       "      <td>188302.4650</td>\n",
       "      <td>527061.8125</td>\n",
       "      <td>59475.7710</td>\n",
       "      <td>M</td>\n",
       "      <td>1.342923e+06</td>\n",
       "    </tr>\n",
       "    <tr>\n",
       "      <th>...</th>\n",
       "      <td>...</td>\n",
       "      <td>...</td>\n",
       "      <td>...</td>\n",
       "      <td>...</td>\n",
       "      <td>...</td>\n",
       "      <td>...</td>\n",
       "      <td>...</td>\n",
       "      <td>...</td>\n",
       "      <td>...</td>\n",
       "      <td>...</td>\n",
       "      <td>...</td>\n",
       "    </tr>\n",
       "    <tr>\n",
       "      <th>41035</th>\n",
       "      <td>Wallis and Futuna Islands</td>\n",
       "      <td>Country/Area</td>\n",
       "      <td>2017.0</td>\n",
       "      <td>0.6260</td>\n",
       "      <td>0.6380</td>\n",
       "      <td>0.5600</td>\n",
       "      <td>0.5755</td>\n",
       "      <td>3.0715</td>\n",
       "      <td>0.6955</td>\n",
       "      <td>F</td>\n",
       "      <td>6.166500e+00</td>\n",
       "    </tr>\n",
       "    <tr>\n",
       "      <th>41036</th>\n",
       "      <td>Wallis and Futuna Islands</td>\n",
       "      <td>Country/Area</td>\n",
       "      <td>2018.0</td>\n",
       "      <td>0.6000</td>\n",
       "      <td>0.6225</td>\n",
       "      <td>0.5585</td>\n",
       "      <td>0.5535</td>\n",
       "      <td>3.0640</td>\n",
       "      <td>0.7140</td>\n",
       "      <td>F</td>\n",
       "      <td>6.112500e+00</td>\n",
       "    </tr>\n",
       "    <tr>\n",
       "      <th>41037</th>\n",
       "      <td>Wallis and Futuna Islands</td>\n",
       "      <td>Country/Area</td>\n",
       "      <td>2019.0</td>\n",
       "      <td>0.5705</td>\n",
       "      <td>0.6085</td>\n",
       "      <td>0.5445</td>\n",
       "      <td>0.5525</td>\n",
       "      <td>3.0590</td>\n",
       "      <td>0.7310</td>\n",
       "      <td>F</td>\n",
       "      <td>6.066000e+00</td>\n",
       "    </tr>\n",
       "    <tr>\n",
       "      <th>41038</th>\n",
       "      <td>Wallis and Futuna Islands</td>\n",
       "      <td>Country/Area</td>\n",
       "      <td>2020.0</td>\n",
       "      <td>0.5465</td>\n",
       "      <td>0.5965</td>\n",
       "      <td>0.5290</td>\n",
       "      <td>0.5600</td>\n",
       "      <td>3.0585</td>\n",
       "      <td>0.7495</td>\n",
       "      <td>F</td>\n",
       "      <td>6.040000e+00</td>\n",
       "    </tr>\n",
       "    <tr>\n",
       "      <th>41039</th>\n",
       "      <td>Wallis and Futuna Islands</td>\n",
       "      <td>Country/Area</td>\n",
       "      <td>2021.0</td>\n",
       "      <td>0.5280</td>\n",
       "      <td>0.5825</td>\n",
       "      <td>0.5135</td>\n",
       "      <td>0.5770</td>\n",
       "      <td>3.0610</td>\n",
       "      <td>0.7705</td>\n",
       "      <td>F</td>\n",
       "      <td>6.032500e+00</td>\n",
       "    </tr>\n",
       "  </tbody>\n",
       "</table>\n",
       "<p>41040 rows × 11 columns</p>\n",
       "</div>"
      ],
      "text/plain": [
       "                          region          type    year  early_child  \\\n",
       "0                          WORLD         World  1950.0  230529.2240   \n",
       "1                          WORLD         World  1951.0  239557.3425   \n",
       "2                          WORLD         World  1952.0  249579.3075   \n",
       "3                          WORLD         World  1953.0  259827.1235   \n",
       "4                          WORLD         World  1954.0  269013.2385   \n",
       "...                          ...           ...     ...          ...   \n",
       "41035  Wallis and Futuna Islands  Country/Area  2017.0       0.6260   \n",
       "41036  Wallis and Futuna Islands  Country/Area  2018.0       0.6000   \n",
       "41037  Wallis and Futuna Islands  Country/Area  2019.0       0.5705   \n",
       "41038  Wallis and Futuna Islands  Country/Area  2020.0       0.5465   \n",
       "41039  Wallis and Futuna Islands  Country/Area  2021.0       0.5280   \n",
       "\n",
       "       middle_child   adolescent  young_adult  middle_adult  late_adult sex  \\\n",
       "0       161033.9955  125821.5410  178320.5340   493281.8695  56375.8005   M   \n",
       "1       161242.1755  127984.8960  181008.4160   500784.4200  56895.9320   M   \n",
       "2       162030.2515  129539.2825  183799.3335   508838.3730  57613.4340   M   \n",
       "3       164110.9880  130574.2420  185995.3585   517634.5770  58516.9335   M   \n",
       "4       167852.7750  131217.1090  188302.4650   527061.8125  59475.7710   M   \n",
       "...             ...          ...          ...           ...         ...  ..   \n",
       "41035        0.6380       0.5600       0.5755        3.0715      0.6955   F   \n",
       "41036        0.6225       0.5585       0.5535        3.0640      0.7140   F   \n",
       "41037        0.6085       0.5445       0.5525        3.0590      0.7310   F   \n",
       "41038        0.5965       0.5290       0.5600        3.0585      0.7495   F   \n",
       "41039        0.5825       0.5135       0.5770        3.0610      0.7705   F   \n",
       "\n",
       "          total_sex  \n",
       "0      1.245363e+06  \n",
       "1      1.267473e+06  \n",
       "2      1.291400e+06  \n",
       "3      1.316659e+06  \n",
       "4      1.342923e+06  \n",
       "...             ...  \n",
       "41035  6.166500e+00  \n",
       "41036  6.112500e+00  \n",
       "41037  6.066000e+00  \n",
       "41038  6.040000e+00  \n",
       "41039  6.032500e+00  \n",
       "\n",
       "[41040 rows x 11 columns]"
      ]
     },
     "execution_count": 65,
     "metadata": {},
     "output_type": "execute_result"
    }
   ],
   "source": [
    "data = pd.concat([dfm, dff], ignore_index=True)\n",
    "data"
   ]
  },
  {
   "cell_type": "code",
   "execution_count": 66,
   "id": "c13fffabc79796be",
   "metadata": {
    "ExecuteTime": {
     "end_time": "2023-08-07T22:55:27.952912352Z",
     "start_time": "2023-08-07T22:55:24.322400728Z"
    }
   },
   "outputs": [],
   "source": [
    "# create a new columns to hold the total populations\n",
    "for idx in range(int(data.shape[0]/2)):\n",
    "    data.loc[idx, 'total'] = data.loc[idx, 'total_sex'] + data.loc[int(idx + data.shape[0]/2), 'total_sex']"
   ]
  },
  {
   "cell_type": "code",
   "execution_count": 67,
   "id": "641dbe37fea584ac",
   "metadata": {
    "ExecuteTime": {
     "end_time": "2023-08-07T22:55:27.991969759Z",
     "start_time": "2023-08-07T22:55:27.961400255Z"
    }
   },
   "outputs": [
    {
     "data": {
      "text/html": [
       "<div>\n",
       "<style scoped>\n",
       "    .dataframe tbody tr th:only-of-type {\n",
       "        vertical-align: middle;\n",
       "    }\n",
       "\n",
       "    .dataframe tbody tr th {\n",
       "        vertical-align: top;\n",
       "    }\n",
       "\n",
       "    .dataframe thead th {\n",
       "        text-align: right;\n",
       "    }\n",
       "</style>\n",
       "<table border=\"1\" class=\"dataframe\">\n",
       "  <thead>\n",
       "    <tr style=\"text-align: right;\">\n",
       "      <th></th>\n",
       "      <th>region</th>\n",
       "      <th>type</th>\n",
       "      <th>year</th>\n",
       "      <th>early_child</th>\n",
       "      <th>middle_child</th>\n",
       "      <th>adolescent</th>\n",
       "      <th>young_adult</th>\n",
       "      <th>middle_adult</th>\n",
       "      <th>late_adult</th>\n",
       "      <th>sex</th>\n",
       "      <th>total_sex</th>\n",
       "      <th>total</th>\n",
       "    </tr>\n",
       "  </thead>\n",
       "  <tbody>\n",
       "    <tr>\n",
       "      <th>13750</th>\n",
       "      <td>France</td>\n",
       "      <td>Country/Area</td>\n",
       "      <td>2020.0</td>\n",
       "      <td>2541.473</td>\n",
       "      <td>2429.8415</td>\n",
       "      <td>2013.693</td>\n",
       "      <td>2992.868</td>\n",
       "      <td>15353.3565</td>\n",
       "      <td>5844.9450</td>\n",
       "      <td>M</td>\n",
       "      <td>31176.177</td>\n",
       "      <td>64480.053</td>\n",
       "    </tr>\n",
       "    <tr>\n",
       "      <th>34270</th>\n",
       "      <td>France</td>\n",
       "      <td>Country/Area</td>\n",
       "      <td>2020.0</td>\n",
       "      <td>2436.390</td>\n",
       "      <td>2321.8415</td>\n",
       "      <td>1916.600</td>\n",
       "      <td>2893.852</td>\n",
       "      <td>16033.1700</td>\n",
       "      <td>7702.0225</td>\n",
       "      <td>F</td>\n",
       "      <td>33303.876</td>\n",
       "      <td>NaN</td>\n",
       "    </tr>\n",
       "  </tbody>\n",
       "</table>\n",
       "</div>"
      ],
      "text/plain": [
       "       region          type    year  early_child  middle_child  adolescent  \\\n",
       "13750  France  Country/Area  2020.0     2541.473     2429.8415    2013.693   \n",
       "34270  France  Country/Area  2020.0     2436.390     2321.8415    1916.600   \n",
       "\n",
       "       young_adult  middle_adult  late_adult sex  total_sex      total  \n",
       "13750     2992.868    15353.3565   5844.9450   M  31176.177  64480.053  \n",
       "34270     2893.852    16033.1700   7702.0225   F  33303.876        NaN  "
      ]
     },
     "execution_count": 67,
     "metadata": {},
     "output_type": "execute_result"
    }
   ],
   "source": [
    "# checking\n",
    "data[(data['region'] == 'France') & (data['year'] ==2020)]"
   ]
  },
  {
   "cell_type": "code",
   "execution_count": 68,
   "id": "12ecde92726ba990",
   "metadata": {
    "ExecuteTime": {
     "end_time": "2023-08-07T22:55:28.240733443Z",
     "start_time": "2023-08-07T22:55:27.978698397Z"
    }
   },
   "outputs": [],
   "source": [
    "# drop unecessary rows\n",
    "data = data[data['type'].isin(['Country/Area', 'Region', 'World'])]"
   ]
  },
  {
   "cell_type": "code",
   "execution_count": 69,
   "id": "626514f2c2878367",
   "metadata": {
    "ExecuteTime": {
     "end_time": "2023-08-07T22:55:28.401643054Z",
     "start_time": "2023-08-07T22:55:28.225773161Z"
    }
   },
   "outputs": [
    {
     "name": "stderr",
     "output_type": "stream",
     "text": [
      "/tmp/ipykernel_7287/372314664.py:1: SettingWithCopyWarning: \n",
      "A value is trying to be set on a copy of a slice from a DataFrame\n",
      "\n",
      "See the caveats in the documentation: https://pandas.pydata.org/pandas-docs/stable/user_guide/indexing.html#returning-a-view-versus-a-copy\n",
      "  data['region'].replace('AFRICA', 'africa', inplace=True)\n",
      "/tmp/ipykernel_7287/372314664.py:2: SettingWithCopyWarning: \n",
      "A value is trying to be set on a copy of a slice from a DataFrame\n",
      "\n",
      "See the caveats in the documentation: https://pandas.pydata.org/pandas-docs/stable/user_guide/indexing.html#returning-a-view-versus-a-copy\n",
      "  data['region'].replace('ASIA', 'asia', inplace=True)\n",
      "/tmp/ipykernel_7287/372314664.py:3: SettingWithCopyWarning: \n",
      "A value is trying to be set on a copy of a slice from a DataFrame\n",
      "\n",
      "See the caveats in the documentation: https://pandas.pydata.org/pandas-docs/stable/user_guide/indexing.html#returning-a-view-versus-a-copy\n",
      "  data['region'].replace('EUROPE', 'europe', inplace=True)\n",
      "/tmp/ipykernel_7287/372314664.py:4: SettingWithCopyWarning: \n",
      "A value is trying to be set on a copy of a slice from a DataFrame\n",
      "\n",
      "See the caveats in the documentation: https://pandas.pydata.org/pandas-docs/stable/user_guide/indexing.html#returning-a-view-versus-a-copy\n",
      "  data['region'].replace('LATIN AMERICA AND THE CARIBBEAN', 'south america', inplace=True)\n",
      "/tmp/ipykernel_7287/372314664.py:5: SettingWithCopyWarning: \n",
      "A value is trying to be set on a copy of a slice from a DataFrame\n",
      "\n",
      "See the caveats in the documentation: https://pandas.pydata.org/pandas-docs/stable/user_guide/indexing.html#returning-a-view-versus-a-copy\n",
      "  data['region'].replace('NORTHERN AMERICA', 'north america', inplace=True)\n",
      "/tmp/ipykernel_7287/372314664.py:6: SettingWithCopyWarning: \n",
      "A value is trying to be set on a copy of a slice from a DataFrame\n",
      "\n",
      "See the caveats in the documentation: https://pandas.pydata.org/pandas-docs/stable/user_guide/indexing.html#returning-a-view-versus-a-copy\n",
      "  data['region'].replace('OCEANIA', 'oceania', inplace=True)\n"
     ]
    }
   ],
   "source": [
    "\n",
    "data['region'].replace('AFRICA', 'africa', inplace=True)\n",
    "data['region'].replace('ASIA', 'asia', inplace=True)\n",
    "data['region'].replace('EUROPE', 'europe', inplace=True)\n",
    "data['region'].replace('LATIN AMERICA AND THE CARIBBEAN', 'south america', inplace=True)\n",
    "data['region'].replace('NORTHERN AMERICA', 'north america', inplace=True)\n",
    "data['region'].replace('OCEANIA', 'oceania', inplace=True)"
   ]
  },
  {
   "cell_type": "code",
   "execution_count": 70,
   "id": "913b11b625f628ec",
   "metadata": {
    "ExecuteTime": {
     "end_time": "2023-08-07T22:55:28.541894981Z",
     "start_time": "2023-08-07T22:55:28.396722577Z"
    }
   },
   "outputs": [
    {
     "name": "stdout",
     "output_type": "stream",
     "text": [
      "<class 'pandas.core.frame.DataFrame'>\n",
      "Int64Index: 34992 entries, 0 to 41039\n",
      "Data columns (total 12 columns):\n",
      " #   Column        Non-Null Count  Dtype  \n",
      "---  ------        --------------  -----  \n",
      " 0   region        34992 non-null  object \n",
      " 1   type          34992 non-null  object \n",
      " 2   year          34992 non-null  float64\n",
      " 3   early_child   34992 non-null  float64\n",
      " 4   middle_child  34992 non-null  float64\n",
      " 5   adolescent    34992 non-null  float64\n",
      " 6   young_adult   34992 non-null  float64\n",
      " 7   middle_adult  34992 non-null  float64\n",
      " 8   late_adult    34992 non-null  float64\n",
      " 9   sex           34992 non-null  object \n",
      " 10  total_sex     34992 non-null  float64\n",
      " 11  total         17496 non-null  float64\n",
      "dtypes: float64(9), object(3)\n",
      "memory usage: 9.2 MB\n"
     ]
    }
   ],
   "source": [
    "data.info(memory_usage=\"deep\")"
   ]
  },
  {
   "cell_type": "code",
   "execution_count": 71,
   "id": "2e572e3ed8283c89",
   "metadata": {
    "ExecuteTime": {
     "end_time": "2023-08-07T22:55:28.626792575Z",
     "start_time": "2023-08-07T22:55:28.538362058Z"
    }
   },
   "outputs": [
    {
     "data": {
      "text/plain": [
       "(34992, 12)"
      ]
     },
     "execution_count": 71,
     "metadata": {},
     "output_type": "execute_result"
    }
   ],
   "source": [
    "data.shape"
   ]
  },
  {
   "cell_type": "code",
   "execution_count": 72,
   "id": "97f031b91d051fe6",
   "metadata": {
    "ExecuteTime": {
     "end_time": "2023-08-07T22:55:28.817337265Z",
     "start_time": "2023-08-07T22:55:28.625494149Z"
    }
   },
   "outputs": [
    {
     "name": "stdout",
     "output_type": "stream",
     "text": [
      "<class 'pandas.core.frame.DataFrame'>\n",
      "Int64Index: 34992 entries, 0 to 41039\n",
      "Data columns (total 12 columns):\n",
      " #   Column        Non-Null Count  Dtype  \n",
      "---  ------        --------------  -----  \n",
      " 0   region        34992 non-null  object \n",
      " 1   type          34992 non-null  object \n",
      " 2   year          34992 non-null  float64\n",
      " 3   early_child   34992 non-null  float64\n",
      " 4   middle_child  34992 non-null  float64\n",
      " 5   adolescent    34992 non-null  float64\n",
      " 6   young_adult   34992 non-null  float64\n",
      " 7   middle_adult  34992 non-null  float64\n",
      " 8   late_adult    34992 non-null  float64\n",
      " 9   sex           34992 non-null  object \n",
      " 10  total_sex     34992 non-null  float64\n",
      " 11  total         17496 non-null  float64\n",
      "dtypes: float64(9), object(3)\n",
      "memory usage: 9.2 MB\n"
     ]
    }
   ],
   "source": [
    "data.info(memory_usage='deep')"
   ]
  },
  {
   "cell_type": "code",
   "execution_count": 73,
   "id": "4dbf80e7d6d1e8ba",
   "metadata": {
    "ExecuteTime": {
     "end_time": "2023-08-07T22:55:29.308110849Z",
     "start_time": "2023-08-07T22:55:28.796762336Z"
    }
   },
   "outputs": [],
   "source": [
    "data.to_csv(\"data.csv\", index=False)"
   ]
  }
 ],
 "metadata": {
  "hide_input": false,
  "kernelspec": {
   "display_name": "Python 3 (ipykernel)",
   "language": "python",
   "name": "python3"
  },
  "language_info": {
   "codemirror_mode": {
    "name": "ipython",
    "version": 3
   },
   "file_extension": ".py",
   "mimetype": "text/x-python",
   "name": "python",
   "nbconvert_exporter": "python",
   "pygments_lexer": "ipython3",
   "version": "3.11.2"
  },
  "toc": {
   "base_numbering": 1,
   "nav_menu": {},
   "number_sections": true,
   "sideBar": true,
   "skip_h1_title": false,
   "title_cell": "Table of Contents",
   "title_sidebar": "Contents",
   "toc_cell": false,
   "toc_position": {},
   "toc_section_display": true,
   "toc_window_display": false
  }
 },
 "nbformat": 4,
 "nbformat_minor": 5
}
