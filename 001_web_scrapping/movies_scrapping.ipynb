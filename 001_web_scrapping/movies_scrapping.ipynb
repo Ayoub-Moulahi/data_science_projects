{
 "cells": [
  {
   "cell_type": "code",
   "execution_count": 3,
   "id": "initial_id",
   "metadata": {
    "collapsed": true,
    "ExecuteTime": {
     "end_time": "2023-08-28T20:22:07.308542665Z",
     "start_time": "2023-08-28T20:22:07.261477162Z"
    }
   },
   "outputs": [],
   "source": [
    "# set-up environment\n",
    "import time\n",
    "\n",
    "from selenium import webdriver\n",
    "from bs4 import BeautifulSoup as bs\n",
    "from dotenv import load_dotenv\n",
    "from pathlib import Path\n",
    "import os"
   ]
  },
  {
   "cell_type": "code",
   "execution_count": 4,
   "outputs": [],
   "source": [
    "# movies_dict used to store scraped data\n",
    "movies_dict = {\"title\": [], # movie title\n",
    "               \"release_date\": [], #  release year\n",
    "               \"movie_tv_show\": [], # indicate whether it's a movie or tv show\n",
    "               \"duration\":[], # duration in minutes\n",
    "               \"genre\": [], # movie principal genre\n",
    "               \"other_genre\": [], # other genre\n",
    "               \"imdb_rating\": [], # rating\n",
    "               \"director\":[], # director\n",
    "               \"stars\": [], # star actors\n",
    "               \"summary\": [], #brief summary about the movies\n",
    "               \"votes\":[], # number of votes\n",
    "               }"
   ],
   "metadata": {
    "collapsed": false,
    "ExecuteTime": {
     "end_time": "2023-08-28T20:22:10.803709079Z",
     "start_time": "2023-08-28T20:22:10.761496515Z"
    }
   },
   "id": "8a81e6cefeb63d71"
  },
  {
   "cell_type": "code",
   "execution_count": 5,
   "outputs": [],
   "source": [
    "\n",
    "# driver Config\n",
    "env_path = Path(\"file.env\")\n",
    "load_dotenv(env_path) # load env file\n",
    "chrome_driver = os.getenv(\"CHROME_DRIVER\") # get driver path\n",
    "driver = webdriver.Chrome(executable_path=chrome_driver)\n",
    "driver.set_window_size(1920, 1080)\n",
    "# open imdb website\n",
    "url = \"https://www.imdb.com/\"\n",
    "driver.get(url=url)\n",
    "time.sleep(5)\n",
    "# click \"Menu\" link\n",
    "menu = driver.find_element_by_xpath('//*[@id=\"imdbHeader-navDrawerOpen\"]/span')\n",
    "menu.click()\n",
    "time.sleep(5)\n",
    "# go to \"Browse movies by genre\" link\n",
    "genre = driver.find_element_by_link_text('Browse Movies by Genre')\n",
    "genre.click()\n",
    "time.sleep(5)\n",
    "# store popular genre in a list\n",
    "movies_genre = driver.find_elements_by_css_selector('.bgxwho .ipc-chip-list__scroller a')\n",
    "genre_list = [elem.get_attribute('href') for elem in movies_genre]\n",
    "popular_genre = genre_list[:12] # get the first 12 popular genre\n",
    "\n",
    "for link in popular_genre:\n",
    "    i = 0\n",
    "    driver.get(link)\n",
    "    time.sleep(10)\n",
    "    while i < 2:  # we choose 2 to get the 100 favorites movies from each genre (to get more just increase the number of page  )\n",
    "        content = driver.find_elements_by_css_selector(\".mode-advanced .lister-item-content\")\n",
    "        # data scraping\n",
    "        for elem in content:\n",
    "            soup = bs(elem.get_attribute('innerHTML'), \"html.parser\")\n",
    "\n",
    "            title = \"\"\n",
    "            try:\n",
    "                title = soup.select_one(\"h3 a\").getText()\n",
    "            except AttributeError:\n",
    "                pass\n",
    "            finally:\n",
    "                movies_dict[\"title\"].append(title)\n",
    "\n",
    "            release = \"\"\n",
    "            try:\n",
    "                release = soup.select_one(\"h3 .lister-item-year\").getText()\n",
    "            except AttributeError:\n",
    "                pass\n",
    "            finally:\n",
    "                movies_dict[\"release_date\"].append(release.strip(\"()\"))\n",
    "\n",
    "            mtv = \"\"\n",
    "            try:\n",
    "                mtv = soup.select_one(\"p .certificate\").getText()\n",
    "            except AttributeError:\n",
    "                pass\n",
    "            finally:\n",
    "                movies_dict[\"movie_tv_show\"].append(mtv)\n",
    "\n",
    "            dur = \"\"\n",
    "            try:\n",
    "                dur = soup.select_one(\"p .runtime\").getText()\n",
    "            except AttributeError:\n",
    "                pass\n",
    "            finally:\n",
    "                movies_dict[\"duration\"].append(dur.strip(\" min\"))\n",
    "\n",
    "            g = \",\"\n",
    "            try:\n",
    "                g = soup.select_one(\"p .genre\").getText()\n",
    "            except AttributeError:\n",
    "                pass\n",
    "            finally:\n",
    "                gen = g.split(\",\")[0]\n",
    "                tmp = g.split(\",\")[1:]\n",
    "                oth_g = \"\"\n",
    "                for elem in tmp:\n",
    "                    oth_g = oth_g + f\"{elem.strip()}/\"\n",
    "                movies_dict[\"genre\"].append(gen.strip())\n",
    "                movies_dict[\"other_genre\"].append(oth_g)\n",
    "\n",
    "            rate = \"\"\n",
    "            try:\n",
    "                rate = soup.select_one(\".ratings-bar div strong\").getText()\n",
    "            except AttributeError:\n",
    "                pass\n",
    "            finally:\n",
    "                movies_dict[\"imdb_rating\"].append(rate)\n",
    "\n",
    "            l = soup.select(\"p a\")\n",
    "            direc = \"\"\n",
    "            stars = []\n",
    "            try:\n",
    "                direc = l[0].getText()\n",
    "                for elem in l[1:]:\n",
    "                    stars.append(elem.getText())\n",
    "            except AttributeError:\n",
    "                pass\n",
    "            finally:\n",
    "                movies_dict[\"director\"].append(direc.strip())\n",
    "                tmp = \"\"\n",
    "                for elem in stars:\n",
    "                    tmp = tmp + f\"{elem.strip()} /\"\n",
    "                movies_dict[\"stars\"].append(tmp)\n",
    "\n",
    "            sum = \"\"\n",
    "            try:\n",
    "                s = soup.find_all(name=\"p\", class_=\"text-muted\")\n",
    "                sum = s[1].getText()\n",
    "            except AttributeError:\n",
    "                pass\n",
    "            finally:\n",
    "                movies_dict[\"summary\"].append(sum.strip())\n",
    "\n",
    "            vote = \"\"\n",
    "            try:\n",
    "                vote = soup.find(attrs={\"name\": \"nv\"}).get_text()\n",
    "            except AttributeError:\n",
    "                pass\n",
    "            finally:\n",
    "                movies_dict[\"votes\"].append(vote)\n",
    "\n",
    "        next_page = driver.find_element_by_link_text(\"Next »\")\n",
    "        next_page.click()\n",
    "        time.sleep(5)\n",
    "        i += 1\n",
    "driver.close()\n"
   ],
   "metadata": {
    "collapsed": false,
    "ExecuteTime": {
     "end_time": "2023-08-28T20:29:15.626513323Z",
     "start_time": "2023-08-28T20:22:30.301814991Z"
    }
   },
   "id": "e2da0adda5573687"
  },
  {
   "cell_type": "code",
   "execution_count": 6,
   "outputs": [
    {
     "data": {
      "text/plain": "(1200, 11)"
     },
     "execution_count": 6,
     "metadata": {},
     "output_type": "execute_result"
    }
   ],
   "source": [
    "# convert the scraped data to a pandas dataframe\n",
    "import pandas as pd\n",
    "df = pd.DataFrame(movies_dict)\n",
    "df.shape"
   ],
   "metadata": {
    "collapsed": false,
    "ExecuteTime": {
     "end_time": "2023-08-28T20:30:04.345875205Z",
     "start_time": "2023-08-28T20:30:01.284560015Z"
    }
   },
   "id": "d2804f67c7bdee1e"
  },
  {
   "cell_type": "code",
   "execution_count": 7,
   "outputs": [
    {
     "data": {
      "text/plain": "                           title release_date movie_tv_show duration  \\\n960                 The Notebook         2004         PG-13      123   \n411               Peaky Blinders    2013–2022         TV-MA       60   \n320                      Bottoms         2023             R       92   \n416         A Haunting in Venice         2023         PG-13      103   \n1071           Blade Runner 2049         2017             R      164   \n1164  Killers of the Flower Moon         2023             R      206   \n502                   Rebel Moon         2023                          \n735        Fear the Walking Dead    2015–2023         TV-MA       44   \n281                Gravity Falls    2012–2016         TV-Y7       23   \n1124                           X    II) (2022             R      105   \n\n          genre        other_genre imdb_rating          director  \\\n960       Drama           Romance/         7.8   Nick Cassavetes   \n411       Crime             Drama/         8.8    Cillian Murphy   \n320      Comedy                            6.9     Emma Seligman   \n416       Crime      Drama/Horror/               Kenneth Branagh   \n1071     Action     Drama/Mystery/         8.0  Denis Villeneuve   \n1164      Crime     Drama/History/               Martin Scorsese   \n502      Action   Adventure/Drama/                   Zack Snyder   \n735       Drama     Horror/Sci-Fi/         6.8       Kim Dickens   \n281   Animation  Adventure/Comedy/         8.9    Kristen Schaal   \n1124     Horror  Mystery/Thriller/         6.6           Ti West   \n\n                                                  stars  \\\n960   Gena Rowlands /James Garner /Rachel McAdams /R...   \n411       Paul Anderson /Sophie Rundle /Helen McCrory /   \n320   Rachel Sennott /Ayo Edebiri /Ruby Cruz /Havana...   \n416   Kelly Reilly /Jamie Dornan /Kenneth Branagh /M...   \n1071  Harrison Ford /Ryan Gosling /Ana de Armas /Dav...   \n1164  Leonardo DiCaprio /Robert De Niro /Lily Gladst...   \n502   Sofia Boutella /Cleopatra Coleman /Ed Skrein /...   \n735         Frank Dillane /Cliff Curtis /Rubén Blades /   \n281       Jason Ritter /Alex Hirsch /Linda Cardellini /   \n1124  Mia Goth /Jenna Ortega /Brittany Snow /Kid Cudi /   \n\n                                                summary    votes  \n960   A poor yet passionate young man falls in love ...  596,450  \n411   A gangster family epic set in 1900s England, c...  602,068  \n320   Two unpopular queer high school students start...      898  \n416   In post-World War II Venice, Poirot, now retir...           \n1071  Young Blade Runner K's discovery of a long-bur...  620,455  \n1164  Members of the Osage tribe in the United State...           \n502   When a peaceful colony on the edge of a galaxy...           \n735   A Walking Dead spinoff set in Los Angeles, Cal...  137,600  \n281   Twin siblings Dipper and Mabel Pines spend the...  124,012  \n1124  In 1979, a group of young filmmakers set out t...  141,762  ",
      "text/html": "<div>\n<style scoped>\n    .dataframe tbody tr th:only-of-type {\n        vertical-align: middle;\n    }\n\n    .dataframe tbody tr th {\n        vertical-align: top;\n    }\n\n    .dataframe thead th {\n        text-align: right;\n    }\n</style>\n<table border=\"1\" class=\"dataframe\">\n  <thead>\n    <tr style=\"text-align: right;\">\n      <th></th>\n      <th>title</th>\n      <th>release_date</th>\n      <th>movie_tv_show</th>\n      <th>duration</th>\n      <th>genre</th>\n      <th>other_genre</th>\n      <th>imdb_rating</th>\n      <th>director</th>\n      <th>stars</th>\n      <th>summary</th>\n      <th>votes</th>\n    </tr>\n  </thead>\n  <tbody>\n    <tr>\n      <th>960</th>\n      <td>The Notebook</td>\n      <td>2004</td>\n      <td>PG-13</td>\n      <td>123</td>\n      <td>Drama</td>\n      <td>Romance/</td>\n      <td>7.8</td>\n      <td>Nick Cassavetes</td>\n      <td>Gena Rowlands /James Garner /Rachel McAdams /R...</td>\n      <td>A poor yet passionate young man falls in love ...</td>\n      <td>596,450</td>\n    </tr>\n    <tr>\n      <th>411</th>\n      <td>Peaky Blinders</td>\n      <td>2013–2022</td>\n      <td>TV-MA</td>\n      <td>60</td>\n      <td>Crime</td>\n      <td>Drama/</td>\n      <td>8.8</td>\n      <td>Cillian Murphy</td>\n      <td>Paul Anderson /Sophie Rundle /Helen McCrory /</td>\n      <td>A gangster family epic set in 1900s England, c...</td>\n      <td>602,068</td>\n    </tr>\n    <tr>\n      <th>320</th>\n      <td>Bottoms</td>\n      <td>2023</td>\n      <td>R</td>\n      <td>92</td>\n      <td>Comedy</td>\n      <td></td>\n      <td>6.9</td>\n      <td>Emma Seligman</td>\n      <td>Rachel Sennott /Ayo Edebiri /Ruby Cruz /Havana...</td>\n      <td>Two unpopular queer high school students start...</td>\n      <td>898</td>\n    </tr>\n    <tr>\n      <th>416</th>\n      <td>A Haunting in Venice</td>\n      <td>2023</td>\n      <td>PG-13</td>\n      <td>103</td>\n      <td>Crime</td>\n      <td>Drama/Horror/</td>\n      <td></td>\n      <td>Kenneth Branagh</td>\n      <td>Kelly Reilly /Jamie Dornan /Kenneth Branagh /M...</td>\n      <td>In post-World War II Venice, Poirot, now retir...</td>\n      <td></td>\n    </tr>\n    <tr>\n      <th>1071</th>\n      <td>Blade Runner 2049</td>\n      <td>2017</td>\n      <td>R</td>\n      <td>164</td>\n      <td>Action</td>\n      <td>Drama/Mystery/</td>\n      <td>8.0</td>\n      <td>Denis Villeneuve</td>\n      <td>Harrison Ford /Ryan Gosling /Ana de Armas /Dav...</td>\n      <td>Young Blade Runner K's discovery of a long-bur...</td>\n      <td>620,455</td>\n    </tr>\n    <tr>\n      <th>1164</th>\n      <td>Killers of the Flower Moon</td>\n      <td>2023</td>\n      <td>R</td>\n      <td>206</td>\n      <td>Crime</td>\n      <td>Drama/History/</td>\n      <td></td>\n      <td>Martin Scorsese</td>\n      <td>Leonardo DiCaprio /Robert De Niro /Lily Gladst...</td>\n      <td>Members of the Osage tribe in the United State...</td>\n      <td></td>\n    </tr>\n    <tr>\n      <th>502</th>\n      <td>Rebel Moon</td>\n      <td>2023</td>\n      <td></td>\n      <td></td>\n      <td>Action</td>\n      <td>Adventure/Drama/</td>\n      <td></td>\n      <td>Zack Snyder</td>\n      <td>Sofia Boutella /Cleopatra Coleman /Ed Skrein /...</td>\n      <td>When a peaceful colony on the edge of a galaxy...</td>\n      <td></td>\n    </tr>\n    <tr>\n      <th>735</th>\n      <td>Fear the Walking Dead</td>\n      <td>2015–2023</td>\n      <td>TV-MA</td>\n      <td>44</td>\n      <td>Drama</td>\n      <td>Horror/Sci-Fi/</td>\n      <td>6.8</td>\n      <td>Kim Dickens</td>\n      <td>Frank Dillane /Cliff Curtis /Rubén Blades /</td>\n      <td>A Walking Dead spinoff set in Los Angeles, Cal...</td>\n      <td>137,600</td>\n    </tr>\n    <tr>\n      <th>281</th>\n      <td>Gravity Falls</td>\n      <td>2012–2016</td>\n      <td>TV-Y7</td>\n      <td>23</td>\n      <td>Animation</td>\n      <td>Adventure/Comedy/</td>\n      <td>8.9</td>\n      <td>Kristen Schaal</td>\n      <td>Jason Ritter /Alex Hirsch /Linda Cardellini /</td>\n      <td>Twin siblings Dipper and Mabel Pines spend the...</td>\n      <td>124,012</td>\n    </tr>\n    <tr>\n      <th>1124</th>\n      <td>X</td>\n      <td>II) (2022</td>\n      <td>R</td>\n      <td>105</td>\n      <td>Horror</td>\n      <td>Mystery/Thriller/</td>\n      <td>6.6</td>\n      <td>Ti West</td>\n      <td>Mia Goth /Jenna Ortega /Brittany Snow /Kid Cudi /</td>\n      <td>In 1979, a group of young filmmakers set out t...</td>\n      <td>141,762</td>\n    </tr>\n  </tbody>\n</table>\n</div>"
     },
     "execution_count": 7,
     "metadata": {},
     "output_type": "execute_result"
    }
   ],
   "source": [
    "# display 10 random rows \n",
    "df.sample(n=10)"
   ],
   "metadata": {
    "collapsed": false,
    "ExecuteTime": {
     "end_time": "2023-08-28T20:30:11.621162221Z",
     "start_time": "2023-08-28T20:30:11.567040995Z"
    }
   },
   "id": "553e7e45638b1b22"
  },
  {
   "cell_type": "code",
   "execution_count": 12,
   "outputs": [
    {
     "name": "stdout",
     "output_type": "stream",
     "text": [
      "<class 'pandas.core.frame.DataFrame'>\n",
      "RangeIndex: 1200 entries, 0 to 1199\n",
      "Data columns (total 11 columns):\n",
      " #   Column         Non-Null Count  Dtype \n",
      "---  ------         --------------  ----- \n",
      " 0   title          1200 non-null   object\n",
      " 1   release_date   1200 non-null   object\n",
      " 2   movie_tv_show  1200 non-null   object\n",
      " 3   duration       1200 non-null   object\n",
      " 4   genre          1200 non-null   object\n",
      " 5   other_genre    1200 non-null   object\n",
      " 6   imdb_rating    1200 non-null   object\n",
      " 7   director       1200 non-null   object\n",
      " 8   stars          1200 non-null   object\n",
      " 9   summary        1200 non-null   object\n",
      " 10  votes          1200 non-null   object\n",
      "dtypes: object(11)\n",
      "memory usage: 103.3+ KB\n"
     ]
    }
   ],
   "source": [
    "df.info()"
   ],
   "metadata": {
    "collapsed": false,
    "ExecuteTime": {
     "end_time": "2023-08-28T21:53:45.280424497Z",
     "start_time": "2023-08-28T21:53:45.265787Z"
    }
   },
   "id": "b57f017a1cd0b5cd"
  },
  {
   "cell_type": "code",
   "execution_count": 8,
   "outputs": [],
   "source": [
    "# save scraped data in a csv file\n",
    "df.to_csv(\"scraped_data.csv\", index=False)"
   ],
   "metadata": {
    "collapsed": false,
    "ExecuteTime": {
     "end_time": "2023-08-28T20:30:58.001021313Z",
     "start_time": "2023-08-28T20:30:57.950666162Z"
    }
   },
   "id": "9b963d715b1237fe"
  }
 ],
 "metadata": {
  "kernelspec": {
   "display_name": "Python 3",
   "language": "python",
   "name": "python3"
  },
  "language_info": {
   "codemirror_mode": {
    "name": "ipython",
    "version": 2
   },
   "file_extension": ".py",
   "mimetype": "text/x-python",
   "name": "python",
   "nbconvert_exporter": "python",
   "pygments_lexer": "ipython2",
   "version": "2.7.6"
  }
 },
 "nbformat": 4,
 "nbformat_minor": 5
}
