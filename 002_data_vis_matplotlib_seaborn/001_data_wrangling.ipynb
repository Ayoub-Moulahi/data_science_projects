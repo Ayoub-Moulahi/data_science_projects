{
 "cells": [
  {
   "cell_type": "markdown",
   "id": "214b403d",
   "metadata": {},
   "source": [
    "# 1.scrape and load metadata"
   ]
  },
  {
   "cell_type": "code",
   "execution_count": 1,
   "id": "19a843a5",
   "metadata": {
    "ExecuteTime": {
     "end_time": "2023-08-29T12:28:12.575207516Z",
     "start_time": "2023-08-29T12:28:11.686039594Z"
    }
   },
   "outputs": [],
   "source": [
    "import selenium\n",
    "from selenium import webdriver\n",
    "import time"
   ]
  },
  {
   "cell_type": "code",
   "execution_count": 2,
   "id": "f04c550e",
   "metadata": {
    "ExecuteTime": {
     "end_time": "2023-08-29T12:28:34.357495628Z",
     "start_time": "2023-08-29T12:28:34.247467131Z"
    }
   },
   "outputs": [
    {
     "data": {
      "text/plain": [
       "'3.141.0'"
      ]
     },
     "execution_count": 2,
     "metadata": {},
     "output_type": "execute_result"
    }
   ],
   "source": [
    "selenium.__version__"
   ]
  },
  {
   "cell_type": "code",
   "execution_count": 3,
   "id": "b29b029a",
   "metadata": {
    "ExecuteTime": {
     "end_time": "2023-08-29T12:33:42.570664419Z",
     "start_time": "2023-08-29T12:33:13.581036183Z"
    }
   },
   "outputs": [],
   "source": [
    "## scrape 'columns in this dataset' table\n",
    "url = \"https://data.lacity.org/Public-Safety/Crime-Data-from-2020-to-Present/2nrs-mtv8\"\n",
    "driver_path = \"chromedriver-linux64/chromedriver\"\n",
    "driver = webdriver.Chrome(executable_path=driver_path)\n",
    "driver.get(url)\n",
    "time.sleep(10)\n",
    "show_more = driver.find_element_by_xpath('//*[@id=\"app\"]/div/div[1]/div/div/div[2]/div[1]/div/button[1]')\n",
    "show_more.click()\n",
    "butt = driver.find_element_by_xpath('//*[@id=\"app\"]/div/div[2]/section[2]/div/div[2]/a[1]')\n",
    "butt.click()\n",
    "# about data \n",
    "about = driver.find_element_by_xpath('//*[@id=\"app\"]/div/div[1]/div/div/div[2]/div[1]/div/div[1]/div')\n",
    "# column info table\n",
    "table = driver.find_elements_by_css_selector('.schema-preview div div table tbody tr')\n",
    "# save scraped data in a text file:\n",
    "with open(\"metadata.txt\", \"a\") as f:\n",
    "    f.write(f\"{about.text}\\n\\n\")\n",
    "    for idx in range(0, len(table) ,2):\n",
    "        text = table[idx].text.split(\"\\n\")\n",
    "        key, val = text[0], text[1]\n",
    "        f.write(f\"{key} : {val}\\n\" )\n",
    "driver.close()"
   ]
  },
  {
   "cell_type": "code",
   "execution_count": 6,
   "id": "7586808f",
   "metadata": {
    "ExecuteTime": {
     "end_time": "2023-08-29T12:37:20.122913866Z",
     "start_time": "2023-08-29T12:37:19.940069511Z"
    },
    "scrolled": true
   },
   "outputs": [
    {
     "name": "stdout",
     "output_type": "stream",
     "text": [
      "This dataset reflects incidents of crime in the City of Los Angeles dating back to 2020. This data is transcribed from original crime reports that are typed on paper and therefore there may be some inaccuracies within the data. Some location fields with missing data are noted as (0°, 0°). Address fields are only provided to the nearest hundred block in order to maintain privacy. This data is as accurate as the data in the database. Please note questions or concerns in the comments.\n",
      "\n",
      "\n",
      "\n",
      "DR_NO : Division of Records Number: Official file number made up of a 2 digit year, area ID, and 5 digits\n",
      "\n",
      "Date Rptd : MM/DD/YYYY\n",
      "\n",
      "DATE OCC : MM/DD/YYYY\n",
      "\n",
      "TIME OCC : In 24 hour military time.\n",
      "\n",
      "AREA : The LAPD has 21 Community Police Stations referred to as Geographic Areas within the department. These Geographic Areas are sequentially numbered from 1-21.\n",
      "\n",
      "AREA NAME : The 21 Geographic Areas or Patrol Divisions are also given a name designation that references a landmark or the surrounding community that it is responsible for. For example 77th Street Division is located at the intersection of South Broadway and 77th Street, serving neighborhoods in South Los Angeles.\n",
      "\n",
      "Rpt Dist No : A four-digit code that represents a sub-area within a Geographic Area. All crime records reference the \"RD\" that it occurred in for statistical comparisons. Find LAPD Reporting Districts on the LA City GeoHub at\n",
      "\n",
      "Part 1-2 : Number\n",
      "\n",
      "Crm Cd : Indicates the crime committed. (Same as Crime Code 1)\n",
      "\n",
      "Crm Cd Desc : Defines the Crime Code provided.\n",
      "\n",
      "Mocodes : Modus Operandi: Activities associated with the suspect in commission of the crime.See attached PDF for list of MO Codes in numerical order.\n",
      "\n",
      "Vict Age : Two character numeric\n",
      "\n",
      "Vict Sex : F - Female M - Male X - Unknown\n",
      "\n",
      "Vict Descent : Descent Code: A - Other Asian B - Black C - Chinese D - Cambodian F - Filipino G - Guamanian H - Hispanic/Latin/Mexican I - American Indian/Alaskan Native J - Japanese K - Korean L - Laotian O - Other P - Pacific Islander S - Samoan U - Hawaiian V - Vietnamese W - White X - Unknown Z - Asian Indian\n",
      "\n",
      "Premis Cd : The type of structure, vehicle, or location where the crime took place.\n",
      "\n",
      "Premis Desc : Defines the Premise Code provided.\n",
      "\n",
      "Weapon Used Cd : The type of weapon used in the crime.\n",
      "\n",
      "Weapon Desc : Defines the Weapon Used Code provided.\n",
      "\n",
      "Status : Status of the case. (IC is the default)\n",
      "\n",
      "Status Desc : Defines the Status Code provided.\n",
      "\n",
      "Crm Cd 1 : Indicates the crime committed. Crime Code 1 is the primary and most serious one. Crime Code 2, 3, and 4 are respectively less serious offenses. Lower crime class numbers are more serious.\n",
      "\n",
      "Crm Cd 2 : May contain a code for an additional crime, less serious than Crime Code 1.\n",
      "\n",
      "Crm Cd 3 : May contain a code for an additional crime, less serious than Crime Code 1.\n",
      "\n",
      "Crm Cd 4 : May contain a code for an additional crime, less serious than Crime Code 1.\n",
      "\n",
      "LOCATION : Street address of crime incident rounded to the nearest hundred block to maintain anonymity.\n",
      "\n",
      "Cross Street : Cross Street of rounded Address\n",
      "\n",
      "LAT : Latitude\n",
      "\n",
      "LON : Longtitude\n"
     ]
    }
   ],
   "source": [
    "# load scraped file\n",
    "with open(\"metadata.txt\") as f:\n",
    "    for line in f.readlines():\n",
    "        print(line)"
   ]
  },
  {
   "cell_type": "markdown",
   "id": "027eb84d",
   "metadata": {},
   "source": [
    "# 2. Loading data "
   ]
  },
  {
   "cell_type": "code",
   "execution_count": 7,
   "id": "14dd33dd",
   "metadata": {
    "ExecuteTime": {
     "end_time": "2023-08-29T12:40:00.442973248Z",
     "start_time": "2023-08-29T12:40:00.374296001Z"
    }
   },
   "outputs": [],
   "source": [
    "import numpy as np \n",
    "import pandas as pd\n",
    "pd.set_option('display.max_columns', None)"
   ]
  },
  {
   "cell_type": "code",
   "execution_count": 8,
   "id": "1bb72ce1",
   "metadata": {
    "ExecuteTime": {
     "end_time": "2023-08-29T12:40:11.676306537Z",
     "start_time": "2023-08-29T12:40:06.556441409Z"
    }
   },
   "outputs": [
    {
     "data": {
      "text/plain": [
       "(761582, 28)"
      ]
     },
     "execution_count": 8,
     "metadata": {},
     "output_type": "execute_result"
    }
   ],
   "source": [
    "df = pd.read_csv(\"Crime_Data_from_2020_to_Present.csv\")\n",
    "df.shape"
   ]
  },
  {
   "cell_type": "code",
   "execution_count": 9,
   "id": "21c16cd3",
   "metadata": {
    "ExecuteTime": {
     "end_time": "2023-08-29T12:40:54.160085976Z",
     "start_time": "2023-08-29T12:40:54.086557918Z"
    },
    "scrolled": true
   },
   "outputs": [
    {
     "data": {
      "text/plain": [
       "Index(['DR_NO', 'Date Rptd', 'DATE OCC', 'TIME OCC', 'AREA', 'AREA NAME',\n",
       "       'Rpt Dist No', 'Part 1-2', 'Crm Cd', 'Crm Cd Desc', 'Mocodes',\n",
       "       'Vict Age', 'Vict Sex', 'Vict Descent', 'Premis Cd', 'Premis Desc',\n",
       "       'Weapon Used Cd', 'Weapon Desc', 'Status', 'Status Desc', 'Crm Cd 1',\n",
       "       'Crm Cd 2', 'Crm Cd 3', 'Crm Cd 4', 'LOCATION', 'Cross Street', 'LAT',\n",
       "       'LON'],\n",
       "      dtype='object')"
      ]
     },
     "execution_count": 9,
     "metadata": {},
     "output_type": "execute_result"
    }
   ],
   "source": [
    "df.columns"
   ]
  },
  {
   "cell_type": "code",
   "execution_count": 10,
   "id": "6eb4ec95",
   "metadata": {
    "ExecuteTime": {
     "end_time": "2023-08-29T12:41:04.156343415Z",
     "start_time": "2023-08-29T12:41:00.490067661Z"
    },
    "scrolled": true
   },
   "outputs": [
    {
     "name": "stdout",
     "output_type": "stream",
     "text": [
      "<class 'pandas.core.frame.DataFrame'>\n",
      "RangeIndex: 761582 entries, 0 to 761581\n",
      "Data columns (total 28 columns):\n",
      " #   Column          Non-Null Count   Dtype  \n",
      "---  ------          --------------   -----  \n",
      " 0   DR_NO           761582 non-null  int64  \n",
      " 1   Date Rptd       761582 non-null  object \n",
      " 2   DATE OCC        761582 non-null  object \n",
      " 3   TIME OCC        761582 non-null  int64  \n",
      " 4   AREA            761582 non-null  int64  \n",
      " 5   AREA NAME       761582 non-null  object \n",
      " 6   Rpt Dist No     761582 non-null  int64  \n",
      " 7   Part 1-2        761582 non-null  int64  \n",
      " 8   Crm Cd          761582 non-null  int64  \n",
      " 9   Crm Cd Desc     761582 non-null  object \n",
      " 10  Mocodes         657013 non-null  object \n",
      " 11  Vict Age        761582 non-null  int64  \n",
      " 12  Vict Sex        662009 non-null  object \n",
      " 13  Vict Descent    662003 non-null  object \n",
      " 14  Premis Cd       761573 non-null  float64\n",
      " 15  Premis Desc     761138 non-null  object \n",
      " 16  Weapon Used Cd  264752 non-null  float64\n",
      " 17  Weapon Desc     264752 non-null  object \n",
      " 18  Status          761582 non-null  object \n",
      " 19  Status Desc     761582 non-null  object \n",
      " 20  Crm Cd 1        761572 non-null  float64\n",
      " 21  Crm Cd 2        56342 non-null   float64\n",
      " 22  Crm Cd 3        1875 non-null    float64\n",
      " 23  Crm Cd 4        57 non-null      float64\n",
      " 24  LOCATION        761582 non-null  object \n",
      " 25  Cross Street    122391 non-null  object \n",
      " 26  LAT             761582 non-null  float64\n",
      " 27  LON             761582 non-null  float64\n",
      "dtypes: float64(8), int64(7), object(13)\n",
      "memory usage: 720.8 MB\n"
     ]
    }
   ],
   "source": [
    "df.info(memory_usage=\"deep\")"
   ]
  },
  {
   "cell_type": "markdown",
   "id": "95c9265e",
   "metadata": {},
   "source": [
    "# 3. data wrangling"
   ]
  },
  {
   "cell_type": "code",
   "execution_count": 11,
   "id": "c2fdf659",
   "metadata": {
    "ExecuteTime": {
     "end_time": "2023-08-29T12:41:22.952406432Z",
     "start_time": "2023-08-29T12:41:22.752927994Z"
    }
   },
   "outputs": [],
   "source": [
    "#Renaming columns\n",
    "new_cols = [\"case_id\",\"date_rpdt\", \"date_occ\", \"time_occ\", \"area\", \"area_name\", \"sub_area_code\", \"crime_class\", \n",
    "           \"crime_code\", \"crime_dsp\", \"suspect_mo_code\", \"vict_age\", \"vict_sex\", \"vict_descent\", \n",
    "           \"permis_code\", \"permis_dsp\", \"weapon_code\", \"weapon_dsp\", \"case_status\", \"case_status_dsp\",\n",
    "           \"crime_cd1\", \"crime_cd2\", \"crime_cd3\", \"crime_cd4\", \"location\", \"street\", \"lat\", \"lng\"]\n",
    "df.columns = new_cols"
   ]
  },
  {
   "cell_type": "code",
   "execution_count": 12,
   "id": "f63c1483",
   "metadata": {
    "ExecuteTime": {
     "end_time": "2023-08-29T12:41:27.400504521Z",
     "start_time": "2023-08-29T12:41:27.213843944Z"
    },
    "scrolled": true
   },
   "outputs": [
    {
     "data": {
      "text/html": [
       "<div>\n",
       "<style scoped>\n",
       "    .dataframe tbody tr th:only-of-type {\n",
       "        vertical-align: middle;\n",
       "    }\n",
       "\n",
       "    .dataframe tbody tr th {\n",
       "        vertical-align: top;\n",
       "    }\n",
       "\n",
       "    .dataframe thead th {\n",
       "        text-align: right;\n",
       "    }\n",
       "</style>\n",
       "<table border=\"1\" class=\"dataframe\">\n",
       "  <thead>\n",
       "    <tr style=\"text-align: right;\">\n",
       "      <th></th>\n",
       "      <th>case_id</th>\n",
       "      <th>date_rpdt</th>\n",
       "      <th>date_occ</th>\n",
       "      <th>time_occ</th>\n",
       "      <th>area</th>\n",
       "      <th>area_name</th>\n",
       "      <th>sub_area_code</th>\n",
       "      <th>crime_class</th>\n",
       "      <th>crime_code</th>\n",
       "      <th>crime_dsp</th>\n",
       "      <th>suspect_mo_code</th>\n",
       "      <th>vict_age</th>\n",
       "      <th>vict_sex</th>\n",
       "      <th>vict_descent</th>\n",
       "      <th>permis_code</th>\n",
       "      <th>permis_dsp</th>\n",
       "      <th>weapon_code</th>\n",
       "      <th>weapon_dsp</th>\n",
       "      <th>case_status</th>\n",
       "      <th>case_status_dsp</th>\n",
       "      <th>crime_cd1</th>\n",
       "      <th>crime_cd2</th>\n",
       "      <th>crime_cd3</th>\n",
       "      <th>crime_cd4</th>\n",
       "      <th>location</th>\n",
       "      <th>street</th>\n",
       "      <th>lat</th>\n",
       "      <th>lng</th>\n",
       "    </tr>\n",
       "  </thead>\n",
       "  <tbody>\n",
       "    <tr>\n",
       "      <th>470568</th>\n",
       "      <td>220317842</td>\n",
       "      <td>10/03/2022 12:00:00 AM</td>\n",
       "      <td>10/03/2022 12:00:00 AM</td>\n",
       "      <td>900</td>\n",
       "      <td>3</td>\n",
       "      <td>Southwest</td>\n",
       "      <td>363</td>\n",
       "      <td>2</td>\n",
       "      <td>354</td>\n",
       "      <td>THEFT OF IDENTITY</td>\n",
       "      <td>1822 0100 0922</td>\n",
       "      <td>31</td>\n",
       "      <td>F</td>\n",
       "      <td>O</td>\n",
       "      <td>502.0</td>\n",
       "      <td>MULTI-UNIT DWELLING (APARTMENT, DUPLEX, ETC)</td>\n",
       "      <td>NaN</td>\n",
       "      <td>NaN</td>\n",
       "      <td>IC</td>\n",
       "      <td>Invest Cont</td>\n",
       "      <td>354.0</td>\n",
       "      <td>NaN</td>\n",
       "      <td>NaN</td>\n",
       "      <td>NaN</td>\n",
       "      <td>4000    WEST                         BL</td>\n",
       "      <td>NaN</td>\n",
       "      <td>34.0128</td>\n",
       "      <td>-118.3447</td>\n",
       "    </tr>\n",
       "    <tr>\n",
       "      <th>730326</th>\n",
       "      <td>231812555</td>\n",
       "      <td>06/23/2023 12:00:00 AM</td>\n",
       "      <td>06/23/2023 12:00:00 AM</td>\n",
       "      <td>115</td>\n",
       "      <td>18</td>\n",
       "      <td>Southeast</td>\n",
       "      <td>1822</td>\n",
       "      <td>1</td>\n",
       "      <td>341</td>\n",
       "      <td>THEFT-GRAND ($950.01 &amp; OVER)EXCPT,GUNS,FOWL,LI...</td>\n",
       "      <td>0344 0345 1822</td>\n",
       "      <td>27</td>\n",
       "      <td>M</td>\n",
       "      <td>H</td>\n",
       "      <td>101.0</td>\n",
       "      <td>STREET</td>\n",
       "      <td>NaN</td>\n",
       "      <td>NaN</td>\n",
       "      <td>IC</td>\n",
       "      <td>Invest Cont</td>\n",
       "      <td>341.0</td>\n",
       "      <td>NaN</td>\n",
       "      <td>NaN</td>\n",
       "      <td>NaN</td>\n",
       "      <td>S  BROADWAY</td>\n",
       "      <td>W  102ND                        ST</td>\n",
       "      <td>33.9437</td>\n",
       "      <td>-118.2784</td>\n",
       "    </tr>\n",
       "    <tr>\n",
       "      <th>627900</th>\n",
       "      <td>221401227</td>\n",
       "      <td>10/17/2022 12:00:00 AM</td>\n",
       "      <td>10/17/2022 12:00:00 AM</td>\n",
       "      <td>1520</td>\n",
       "      <td>14</td>\n",
       "      <td>Pacific</td>\n",
       "      <td>1414</td>\n",
       "      <td>1</td>\n",
       "      <td>310</td>\n",
       "      <td>BURGLARY</td>\n",
       "      <td>1607 2004 0344</td>\n",
       "      <td>0</td>\n",
       "      <td>X</td>\n",
       "      <td>X</td>\n",
       "      <td>210.0</td>\n",
       "      <td>RESTAURANT/FAST FOOD</td>\n",
       "      <td>NaN</td>\n",
       "      <td>NaN</td>\n",
       "      <td>AA</td>\n",
       "      <td>Adult Arrest</td>\n",
       "      <td>310.0</td>\n",
       "      <td>NaN</td>\n",
       "      <td>NaN</td>\n",
       "      <td>NaN</td>\n",
       "      <td>400    LINCOLN                      BL</td>\n",
       "      <td>NaN</td>\n",
       "      <td>33.9976</td>\n",
       "      <td>-118.4670</td>\n",
       "    </tr>\n",
       "    <tr>\n",
       "      <th>26388</th>\n",
       "      <td>200107839</td>\n",
       "      <td>02/25/2020 12:00:00 AM</td>\n",
       "      <td>02/22/2020 12:00:00 AM</td>\n",
       "      <td>2030</td>\n",
       "      <td>1</td>\n",
       "      <td>Central</td>\n",
       "      <td>171</td>\n",
       "      <td>1</td>\n",
       "      <td>440</td>\n",
       "      <td>THEFT PLAIN - PETTY ($950 &amp; UNDER)</td>\n",
       "      <td>0377 1822 2032 0344</td>\n",
       "      <td>24</td>\n",
       "      <td>F</td>\n",
       "      <td>B</td>\n",
       "      <td>210.0</td>\n",
       "      <td>RESTAURANT/FAST FOOD</td>\n",
       "      <td>NaN</td>\n",
       "      <td>NaN</td>\n",
       "      <td>IC</td>\n",
       "      <td>Invest Cont</td>\n",
       "      <td>440.0</td>\n",
       "      <td>NaN</td>\n",
       "      <td>NaN</td>\n",
       "      <td>NaN</td>\n",
       "      <td>800 W  OLYMPIC                      BL</td>\n",
       "      <td>NaN</td>\n",
       "      <td>34.0450</td>\n",
       "      <td>-118.2640</td>\n",
       "    </tr>\n",
       "    <tr>\n",
       "      <th>593981</th>\n",
       "      <td>220111308</td>\n",
       "      <td>04/28/2022 12:00:00 AM</td>\n",
       "      <td>04/27/2022 12:00:00 AM</td>\n",
       "      <td>1900</td>\n",
       "      <td>1</td>\n",
       "      <td>Central</td>\n",
       "      <td>162</td>\n",
       "      <td>1</td>\n",
       "      <td>330</td>\n",
       "      <td>BURGLARY FROM VEHICLE</td>\n",
       "      <td>1609 0344 1307 1822 0329</td>\n",
       "      <td>31</td>\n",
       "      <td>F</td>\n",
       "      <td>H</td>\n",
       "      <td>108.0</td>\n",
       "      <td>PARKING LOT</td>\n",
       "      <td>NaN</td>\n",
       "      <td>NaN</td>\n",
       "      <td>IC</td>\n",
       "      <td>Invest Cont</td>\n",
       "      <td>330.0</td>\n",
       "      <td>NaN</td>\n",
       "      <td>NaN</td>\n",
       "      <td>NaN</td>\n",
       "      <td>800 S  OLIVE                        ST</td>\n",
       "      <td>NaN</td>\n",
       "      <td>34.0452</td>\n",
       "      <td>-118.2569</td>\n",
       "    </tr>\n",
       "    <tr>\n",
       "      <th>211722</th>\n",
       "      <td>210111433</td>\n",
       "      <td>06/06/2021 12:00:00 AM</td>\n",
       "      <td>05/24/2021 12:00:00 AM</td>\n",
       "      <td>2330</td>\n",
       "      <td>1</td>\n",
       "      <td>Central</td>\n",
       "      <td>192</td>\n",
       "      <td>1</td>\n",
       "      <td>330</td>\n",
       "      <td>BURGLARY FROM VEHICLE</td>\n",
       "      <td>1609 1822 1307 0344 0329</td>\n",
       "      <td>53</td>\n",
       "      <td>F</td>\n",
       "      <td>H</td>\n",
       "      <td>108.0</td>\n",
       "      <td>PARKING LOT</td>\n",
       "      <td>NaN</td>\n",
       "      <td>NaN</td>\n",
       "      <td>IC</td>\n",
       "      <td>Invest Cont</td>\n",
       "      <td>330.0</td>\n",
       "      <td>NaN</td>\n",
       "      <td>NaN</td>\n",
       "      <td>NaN</td>\n",
       "      <td>1400 S  HOPE                         ST</td>\n",
       "      <td>NaN</td>\n",
       "      <td>34.0381</td>\n",
       "      <td>-118.2666</td>\n",
       "    </tr>\n",
       "    <tr>\n",
       "      <th>343176</th>\n",
       "      <td>210914746</td>\n",
       "      <td>10/01/2021 12:00:00 AM</td>\n",
       "      <td>09/30/2021 12:00:00 AM</td>\n",
       "      <td>1515</td>\n",
       "      <td>9</td>\n",
       "      <td>Van Nuys</td>\n",
       "      <td>906</td>\n",
       "      <td>2</td>\n",
       "      <td>626</td>\n",
       "      <td>INTIMATE PARTNER - SIMPLE ASSAULT</td>\n",
       "      <td>0429 2000 1813 0444</td>\n",
       "      <td>19</td>\n",
       "      <td>F</td>\n",
       "      <td>H</td>\n",
       "      <td>101.0</td>\n",
       "      <td>STREET</td>\n",
       "      <td>400.0</td>\n",
       "      <td>STRONG-ARM (HANDS, FIST, FEET OR BODILY FORCE)</td>\n",
       "      <td>AO</td>\n",
       "      <td>Adult Other</td>\n",
       "      <td>626.0</td>\n",
       "      <td>NaN</td>\n",
       "      <td>NaN</td>\n",
       "      <td>NaN</td>\n",
       "      <td>7300    LENNOX                       AV</td>\n",
       "      <td>NaN</td>\n",
       "      <td>34.2030</td>\n",
       "      <td>-118.4458</td>\n",
       "    </tr>\n",
       "    <tr>\n",
       "      <th>390132</th>\n",
       "      <td>210317808</td>\n",
       "      <td>10/22/2021 12:00:00 AM</td>\n",
       "      <td>10/21/2021 12:00:00 AM</td>\n",
       "      <td>1730</td>\n",
       "      <td>3</td>\n",
       "      <td>Southwest</td>\n",
       "      <td>351</td>\n",
       "      <td>1</td>\n",
       "      <td>440</td>\n",
       "      <td>THEFT PLAIN - PETTY ($950 &amp; UNDER)</td>\n",
       "      <td>1822 0344 2032</td>\n",
       "      <td>40</td>\n",
       "      <td>F</td>\n",
       "      <td>H</td>\n",
       "      <td>402.0</td>\n",
       "      <td>MARKET</td>\n",
       "      <td>NaN</td>\n",
       "      <td>NaN</td>\n",
       "      <td>IC</td>\n",
       "      <td>Invest Cont</td>\n",
       "      <td>440.0</td>\n",
       "      <td>NaN</td>\n",
       "      <td>NaN</td>\n",
       "      <td>NaN</td>\n",
       "      <td>3400 S  LA BREA                      AV</td>\n",
       "      <td>NaN</td>\n",
       "      <td>34.0218</td>\n",
       "      <td>-118.3556</td>\n",
       "    </tr>\n",
       "    <tr>\n",
       "      <th>28388</th>\n",
       "      <td>200911898</td>\n",
       "      <td>07/03/2020 12:00:00 AM</td>\n",
       "      <td>07/02/2020 12:00:00 AM</td>\n",
       "      <td>1700</td>\n",
       "      <td>9</td>\n",
       "      <td>Van Nuys</td>\n",
       "      <td>994</td>\n",
       "      <td>1</td>\n",
       "      <td>310</td>\n",
       "      <td>BURGLARY</td>\n",
       "      <td>1607 0344 0358 1414</td>\n",
       "      <td>35</td>\n",
       "      <td>M</td>\n",
       "      <td>W</td>\n",
       "      <td>501.0</td>\n",
       "      <td>SINGLE FAMILY DWELLING</td>\n",
       "      <td>NaN</td>\n",
       "      <td>NaN</td>\n",
       "      <td>IC</td>\n",
       "      <td>Invest Cont</td>\n",
       "      <td>310.0</td>\n",
       "      <td>NaN</td>\n",
       "      <td>NaN</td>\n",
       "      <td>NaN</td>\n",
       "      <td>13400    INWOOD                       DR</td>\n",
       "      <td>NaN</td>\n",
       "      <td>34.1395</td>\n",
       "      <td>-118.4247</td>\n",
       "    </tr>\n",
       "    <tr>\n",
       "      <th>95881</th>\n",
       "      <td>200607154</td>\n",
       "      <td>02/26/2020 12:00:00 AM</td>\n",
       "      <td>02/26/2020 12:00:00 AM</td>\n",
       "      <td>1422</td>\n",
       "      <td>6</td>\n",
       "      <td>Hollywood</td>\n",
       "      <td>666</td>\n",
       "      <td>1</td>\n",
       "      <td>341</td>\n",
       "      <td>THEFT-GRAND ($950.01 &amp; OVER)EXCPT,GUNS,FOWL,LI...</td>\n",
       "      <td>0344 2032</td>\n",
       "      <td>26</td>\n",
       "      <td>M</td>\n",
       "      <td>W</td>\n",
       "      <td>252.0</td>\n",
       "      <td>COFFEE SHOP (STARBUCKS, COFFEE BEAN, PEET'S, E...</td>\n",
       "      <td>NaN</td>\n",
       "      <td>NaN</td>\n",
       "      <td>IC</td>\n",
       "      <td>Invest Cont</td>\n",
       "      <td>341.0</td>\n",
       "      <td>NaN</td>\n",
       "      <td>NaN</td>\n",
       "      <td>NaN</td>\n",
       "      <td>VINE</td>\n",
       "      <td>SUNSET</td>\n",
       "      <td>34.0980</td>\n",
       "      <td>-118.3267</td>\n",
       "    </tr>\n",
       "    <tr>\n",
       "      <th>554533</th>\n",
       "      <td>220111559</td>\n",
       "      <td>05/03/2022 12:00:00 AM</td>\n",
       "      <td>05/01/2022 12:00:00 AM</td>\n",
       "      <td>1900</td>\n",
       "      <td>1</td>\n",
       "      <td>Central</td>\n",
       "      <td>185</td>\n",
       "      <td>1</td>\n",
       "      <td>330</td>\n",
       "      <td>BURGLARY FROM VEHICLE</td>\n",
       "      <td>1609 1822 1414 1307 0344 0329</td>\n",
       "      <td>40</td>\n",
       "      <td>M</td>\n",
       "      <td>F</td>\n",
       "      <td>108.0</td>\n",
       "      <td>PARKING LOT</td>\n",
       "      <td>NaN</td>\n",
       "      <td>NaN</td>\n",
       "      <td>IC</td>\n",
       "      <td>Invest Cont</td>\n",
       "      <td>330.0</td>\n",
       "      <td>NaN</td>\n",
       "      <td>NaN</td>\n",
       "      <td>NaN</td>\n",
       "      <td>900 S  BROADWAY</td>\n",
       "      <td>NaN</td>\n",
       "      <td>34.0423</td>\n",
       "      <td>-118.2561</td>\n",
       "    </tr>\n",
       "    <tr>\n",
       "      <th>644583</th>\n",
       "      <td>230210574</td>\n",
       "      <td>05/12/2023 12:00:00 AM</td>\n",
       "      <td>05/12/2023 12:00:00 AM</td>\n",
       "      <td>2100</td>\n",
       "      <td>2</td>\n",
       "      <td>Rampart</td>\n",
       "      <td>236</td>\n",
       "      <td>1</td>\n",
       "      <td>230</td>\n",
       "      <td>ASSAULT WITH DEADLY WEAPON, AGGRAVATED ASSAULT</td>\n",
       "      <td>1309 0334 0445 1822</td>\n",
       "      <td>45</td>\n",
       "      <td>M</td>\n",
       "      <td>W</td>\n",
       "      <td>101.0</td>\n",
       "      <td>STREET</td>\n",
       "      <td>311.0</td>\n",
       "      <td>HAMMER</td>\n",
       "      <td>IC</td>\n",
       "      <td>Invest Cont</td>\n",
       "      <td>230.0</td>\n",
       "      <td>NaN</td>\n",
       "      <td>NaN</td>\n",
       "      <td>NaN</td>\n",
       "      <td>3RD                          ST</td>\n",
       "      <td>BURLINGTON                   AV</td>\n",
       "      <td>34.0613</td>\n",
       "      <td>-118.2689</td>\n",
       "    </tr>\n",
       "    <tr>\n",
       "      <th>459781</th>\n",
       "      <td>221016814</td>\n",
       "      <td>11/22/2022 12:00:00 AM</td>\n",
       "      <td>11/22/2022 12:00:00 AM</td>\n",
       "      <td>1850</td>\n",
       "      <td>10</td>\n",
       "      <td>West Valley</td>\n",
       "      <td>1023</td>\n",
       "      <td>1</td>\n",
       "      <td>236</td>\n",
       "      <td>INTIMATE PARTNER - AGGRAVATED ASSAULT</td>\n",
       "      <td>2000 0913 1814 0400 0448 0408</td>\n",
       "      <td>27</td>\n",
       "      <td>M</td>\n",
       "      <td>H</td>\n",
       "      <td>124.0</td>\n",
       "      <td>BUS STOP</td>\n",
       "      <td>400.0</td>\n",
       "      <td>STRONG-ARM (HANDS, FIST, FEET OR BODILY FORCE)</td>\n",
       "      <td>AO</td>\n",
       "      <td>Adult Other</td>\n",
       "      <td>236.0</td>\n",
       "      <td>NaN</td>\n",
       "      <td>NaN</td>\n",
       "      <td>NaN</td>\n",
       "      <td>VANOWEN                      BL</td>\n",
       "      <td>SYLVIA                       ST</td>\n",
       "      <td>34.1938</td>\n",
       "      <td>-118.5524</td>\n",
       "    </tr>\n",
       "    <tr>\n",
       "      <th>465592</th>\n",
       "      <td>222015193</td>\n",
       "      <td>09/19/2022 12:00:00 AM</td>\n",
       "      <td>09/19/2022 12:00:00 AM</td>\n",
       "      <td>830</td>\n",
       "      <td>20</td>\n",
       "      <td>Olympic</td>\n",
       "      <td>2031</td>\n",
       "      <td>2</td>\n",
       "      <td>624</td>\n",
       "      <td>BATTERY - SIMPLE ASSAULT</td>\n",
       "      <td>1822 0445 0416</td>\n",
       "      <td>62</td>\n",
       "      <td>F</td>\n",
       "      <td>W</td>\n",
       "      <td>108.0</td>\n",
       "      <td>PARKING LOT</td>\n",
       "      <td>500.0</td>\n",
       "      <td>UNKNOWN WEAPON/OTHER WEAPON</td>\n",
       "      <td>IC</td>\n",
       "      <td>Invest Cont</td>\n",
       "      <td>624.0</td>\n",
       "      <td>NaN</td>\n",
       "      <td>NaN</td>\n",
       "      <td>NaN</td>\n",
       "      <td>600 S  WESTERN                      AV</td>\n",
       "      <td>NaN</td>\n",
       "      <td>34.0599</td>\n",
       "      <td>-118.3139</td>\n",
       "    </tr>\n",
       "    <tr>\n",
       "      <th>19431</th>\n",
       "      <td>200206644</td>\n",
       "      <td>02/22/2020 12:00:00 AM</td>\n",
       "      <td>02/21/2020 12:00:00 AM</td>\n",
       "      <td>1900</td>\n",
       "      <td>2</td>\n",
       "      <td>Rampart</td>\n",
       "      <td>237</td>\n",
       "      <td>1</td>\n",
       "      <td>510</td>\n",
       "      <td>VEHICLE - STOLEN</td>\n",
       "      <td>NaN</td>\n",
       "      <td>0</td>\n",
       "      <td>NaN</td>\n",
       "      <td>NaN</td>\n",
       "      <td>101.0</td>\n",
       "      <td>STREET</td>\n",
       "      <td>NaN</td>\n",
       "      <td>NaN</td>\n",
       "      <td>IC</td>\n",
       "      <td>Invest Cont</td>\n",
       "      <td>510.0</td>\n",
       "      <td>NaN</td>\n",
       "      <td>NaN</td>\n",
       "      <td>NaN</td>\n",
       "      <td>UNION                        PL</td>\n",
       "      <td>3RD                          ST</td>\n",
       "      <td>34.0606</td>\n",
       "      <td>-118.2672</td>\n",
       "    </tr>\n",
       "  </tbody>\n",
       "</table>\n",
       "</div>"
      ],
      "text/plain": [
       "          case_id               date_rpdt                date_occ  time_occ  \\\n",
       "470568  220317842  10/03/2022 12:00:00 AM  10/03/2022 12:00:00 AM       900   \n",
       "730326  231812555  06/23/2023 12:00:00 AM  06/23/2023 12:00:00 AM       115   \n",
       "627900  221401227  10/17/2022 12:00:00 AM  10/17/2022 12:00:00 AM      1520   \n",
       "26388   200107839  02/25/2020 12:00:00 AM  02/22/2020 12:00:00 AM      2030   \n",
       "593981  220111308  04/28/2022 12:00:00 AM  04/27/2022 12:00:00 AM      1900   \n",
       "211722  210111433  06/06/2021 12:00:00 AM  05/24/2021 12:00:00 AM      2330   \n",
       "343176  210914746  10/01/2021 12:00:00 AM  09/30/2021 12:00:00 AM      1515   \n",
       "390132  210317808  10/22/2021 12:00:00 AM  10/21/2021 12:00:00 AM      1730   \n",
       "28388   200911898  07/03/2020 12:00:00 AM  07/02/2020 12:00:00 AM      1700   \n",
       "95881   200607154  02/26/2020 12:00:00 AM  02/26/2020 12:00:00 AM      1422   \n",
       "554533  220111559  05/03/2022 12:00:00 AM  05/01/2022 12:00:00 AM      1900   \n",
       "644583  230210574  05/12/2023 12:00:00 AM  05/12/2023 12:00:00 AM      2100   \n",
       "459781  221016814  11/22/2022 12:00:00 AM  11/22/2022 12:00:00 AM      1850   \n",
       "465592  222015193  09/19/2022 12:00:00 AM  09/19/2022 12:00:00 AM       830   \n",
       "19431   200206644  02/22/2020 12:00:00 AM  02/21/2020 12:00:00 AM      1900   \n",
       "\n",
       "        area    area_name  sub_area_code  crime_class  crime_code  \\\n",
       "470568     3    Southwest            363            2         354   \n",
       "730326    18    Southeast           1822            1         341   \n",
       "627900    14      Pacific           1414            1         310   \n",
       "26388      1      Central            171            1         440   \n",
       "593981     1      Central            162            1         330   \n",
       "211722     1      Central            192            1         330   \n",
       "343176     9     Van Nuys            906            2         626   \n",
       "390132     3    Southwest            351            1         440   \n",
       "28388      9     Van Nuys            994            1         310   \n",
       "95881      6    Hollywood            666            1         341   \n",
       "554533     1      Central            185            1         330   \n",
       "644583     2      Rampart            236            1         230   \n",
       "459781    10  West Valley           1023            1         236   \n",
       "465592    20      Olympic           2031            2         624   \n",
       "19431      2      Rampart            237            1         510   \n",
       "\n",
       "                                                crime_dsp  \\\n",
       "470568                                  THEFT OF IDENTITY   \n",
       "730326  THEFT-GRAND ($950.01 & OVER)EXCPT,GUNS,FOWL,LI...   \n",
       "627900                                           BURGLARY   \n",
       "26388                  THEFT PLAIN - PETTY ($950 & UNDER)   \n",
       "593981                              BURGLARY FROM VEHICLE   \n",
       "211722                              BURGLARY FROM VEHICLE   \n",
       "343176                  INTIMATE PARTNER - SIMPLE ASSAULT   \n",
       "390132                 THEFT PLAIN - PETTY ($950 & UNDER)   \n",
       "28388                                            BURGLARY   \n",
       "95881   THEFT-GRAND ($950.01 & OVER)EXCPT,GUNS,FOWL,LI...   \n",
       "554533                              BURGLARY FROM VEHICLE   \n",
       "644583     ASSAULT WITH DEADLY WEAPON, AGGRAVATED ASSAULT   \n",
       "459781              INTIMATE PARTNER - AGGRAVATED ASSAULT   \n",
       "465592                           BATTERY - SIMPLE ASSAULT   \n",
       "19431                                    VEHICLE - STOLEN   \n",
       "\n",
       "                      suspect_mo_code  vict_age vict_sex vict_descent  \\\n",
       "470568                 1822 0100 0922        31        F            O   \n",
       "730326                 0344 0345 1822        27        M            H   \n",
       "627900                 1607 2004 0344         0        X            X   \n",
       "26388             0377 1822 2032 0344        24        F            B   \n",
       "593981       1609 0344 1307 1822 0329        31        F            H   \n",
       "211722       1609 1822 1307 0344 0329        53        F            H   \n",
       "343176            0429 2000 1813 0444        19        F            H   \n",
       "390132                 1822 0344 2032        40        F            H   \n",
       "28388             1607 0344 0358 1414        35        M            W   \n",
       "95881                       0344 2032        26        M            W   \n",
       "554533  1609 1822 1414 1307 0344 0329        40        M            F   \n",
       "644583            1309 0334 0445 1822        45        M            W   \n",
       "459781  2000 0913 1814 0400 0448 0408        27        M            H   \n",
       "465592                 1822 0445 0416        62        F            W   \n",
       "19431                             NaN         0      NaN          NaN   \n",
       "\n",
       "        permis_code                                         permis_dsp  \\\n",
       "470568        502.0       MULTI-UNIT DWELLING (APARTMENT, DUPLEX, ETC)   \n",
       "730326        101.0                                             STREET   \n",
       "627900        210.0                               RESTAURANT/FAST FOOD   \n",
       "26388         210.0                               RESTAURANT/FAST FOOD   \n",
       "593981        108.0                                        PARKING LOT   \n",
       "211722        108.0                                        PARKING LOT   \n",
       "343176        101.0                                             STREET   \n",
       "390132        402.0                                             MARKET   \n",
       "28388         501.0                             SINGLE FAMILY DWELLING   \n",
       "95881         252.0  COFFEE SHOP (STARBUCKS, COFFEE BEAN, PEET'S, E...   \n",
       "554533        108.0                                        PARKING LOT   \n",
       "644583        101.0                                             STREET   \n",
       "459781        124.0                                           BUS STOP   \n",
       "465592        108.0                                        PARKING LOT   \n",
       "19431         101.0                                             STREET   \n",
       "\n",
       "        weapon_code                                      weapon_dsp  \\\n",
       "470568          NaN                                             NaN   \n",
       "730326          NaN                                             NaN   \n",
       "627900          NaN                                             NaN   \n",
       "26388           NaN                                             NaN   \n",
       "593981          NaN                                             NaN   \n",
       "211722          NaN                                             NaN   \n",
       "343176        400.0  STRONG-ARM (HANDS, FIST, FEET OR BODILY FORCE)   \n",
       "390132          NaN                                             NaN   \n",
       "28388           NaN                                             NaN   \n",
       "95881           NaN                                             NaN   \n",
       "554533          NaN                                             NaN   \n",
       "644583        311.0                                          HAMMER   \n",
       "459781        400.0  STRONG-ARM (HANDS, FIST, FEET OR BODILY FORCE)   \n",
       "465592        500.0                     UNKNOWN WEAPON/OTHER WEAPON   \n",
       "19431           NaN                                             NaN   \n",
       "\n",
       "       case_status case_status_dsp  crime_cd1  crime_cd2  crime_cd3  \\\n",
       "470568          IC     Invest Cont      354.0        NaN        NaN   \n",
       "730326          IC     Invest Cont      341.0        NaN        NaN   \n",
       "627900          AA    Adult Arrest      310.0        NaN        NaN   \n",
       "26388           IC     Invest Cont      440.0        NaN        NaN   \n",
       "593981          IC     Invest Cont      330.0        NaN        NaN   \n",
       "211722          IC     Invest Cont      330.0        NaN        NaN   \n",
       "343176          AO     Adult Other      626.0        NaN        NaN   \n",
       "390132          IC     Invest Cont      440.0        NaN        NaN   \n",
       "28388           IC     Invest Cont      310.0        NaN        NaN   \n",
       "95881           IC     Invest Cont      341.0        NaN        NaN   \n",
       "554533          IC     Invest Cont      330.0        NaN        NaN   \n",
       "644583          IC     Invest Cont      230.0        NaN        NaN   \n",
       "459781          AO     Adult Other      236.0        NaN        NaN   \n",
       "465592          IC     Invest Cont      624.0        NaN        NaN   \n",
       "19431           IC     Invest Cont      510.0        NaN        NaN   \n",
       "\n",
       "        crime_cd4                                  location  \\\n",
       "470568        NaN   4000    WEST                         BL   \n",
       "730326        NaN                               S  BROADWAY   \n",
       "627900        NaN    400    LINCOLN                      BL   \n",
       "26388         NaN    800 W  OLYMPIC                      BL   \n",
       "593981        NaN    800 S  OLIVE                        ST   \n",
       "211722        NaN   1400 S  HOPE                         ST   \n",
       "343176        NaN   7300    LENNOX                       AV   \n",
       "390132        NaN   3400 S  LA BREA                      AV   \n",
       "28388         NaN  13400    INWOOD                       DR   \n",
       "95881         NaN                                      VINE   \n",
       "554533        NaN                           900 S  BROADWAY   \n",
       "644583        NaN           3RD                          ST   \n",
       "459781        NaN           VANOWEN                      BL   \n",
       "465592        NaN    600 S  WESTERN                      AV   \n",
       "19431         NaN           UNION                        PL   \n",
       "\n",
       "                                    street      lat       lng  \n",
       "470568                                 NaN  34.0128 -118.3447  \n",
       "730326  W  102ND                        ST  33.9437 -118.2784  \n",
       "627900                                 NaN  33.9976 -118.4670  \n",
       "26388                                  NaN  34.0450 -118.2640  \n",
       "593981                                 NaN  34.0452 -118.2569  \n",
       "211722                                 NaN  34.0381 -118.2666  \n",
       "343176                                 NaN  34.2030 -118.4458  \n",
       "390132                                 NaN  34.0218 -118.3556  \n",
       "28388                                  NaN  34.1395 -118.4247  \n",
       "95881                               SUNSET  34.0980 -118.3267  \n",
       "554533                                 NaN  34.0423 -118.2561  \n",
       "644583     BURLINGTON                   AV  34.0613 -118.2689  \n",
       "459781     SYLVIA                       ST  34.1938 -118.5524  \n",
       "465592                                 NaN  34.0599 -118.3139  \n",
       "19431      3RD                          ST  34.0606 -118.2672  "
      ]
     },
     "execution_count": 12,
     "metadata": {},
     "output_type": "execute_result"
    }
   ],
   "source": [
    "df.sample(n=15)"
   ]
  },
  {
   "cell_type": "code",
   "execution_count": 13,
   "id": "3ce0fdef",
   "metadata": {
    "ExecuteTime": {
     "end_time": "2023-08-29T12:41:57.034840190Z",
     "start_time": "2023-08-29T12:41:56.285657208Z"
    }
   },
   "outputs": [
    {
     "data": {
      "text/plain": [
       "count       761582\n",
       "unique      761582\n",
       "top       10304468\n",
       "freq             1\n",
       "Name: case_id, dtype: int64"
      ]
     },
     "execution_count": 13,
     "metadata": {},
     "output_type": "execute_result"
    }
   ],
   "source": [
    "# check for duplicate\n",
    "df[\"case_id\"].astype(\"object\").describe()"
   ]
  },
  {
   "cell_type": "code",
   "execution_count": 14,
   "id": "83eda669",
   "metadata": {
    "ExecuteTime": {
     "end_time": "2023-08-29T12:42:13.611944177Z",
     "start_time": "2023-08-29T12:42:13.507114328Z"
    }
   },
   "outputs": [],
   "source": [
    "# delete case_id column\n",
    "df.drop(\"case_id\", axis=1, inplace=True)"
   ]
  },
  {
   "cell_type": "code",
   "execution_count": 15,
   "id": "80fd473a",
   "metadata": {
    "ExecuteTime": {
     "end_time": "2023-08-29T12:45:37.002930090Z",
     "start_time": "2023-08-29T12:45:36.551021147Z"
    },
    "scrolled": true
   },
   "outputs": [
    {
     "data": {
      "text/html": [
       "<div>\n",
       "<style scoped>\n",
       "    .dataframe tbody tr th:only-of-type {\n",
       "        vertical-align: middle;\n",
       "    }\n",
       "\n",
       "    .dataframe tbody tr th {\n",
       "        vertical-align: top;\n",
       "    }\n",
       "\n",
       "    .dataframe thead th {\n",
       "        text-align: right;\n",
       "    }\n",
       "</style>\n",
       "<table border=\"1\" class=\"dataframe\">\n",
       "  <thead>\n",
       "    <tr style=\"text-align: right;\">\n",
       "      <th></th>\n",
       "      <th>date_rpdt</th>\n",
       "      <th>date_occ</th>\n",
       "      <th>time_occ</th>\n",
       "      <th>area</th>\n",
       "      <th>area_name</th>\n",
       "      <th>sub_area_code</th>\n",
       "      <th>crime_class</th>\n",
       "      <th>crime_code</th>\n",
       "      <th>crime_dsp</th>\n",
       "      <th>suspect_mo_code</th>\n",
       "      <th>vict_age</th>\n",
       "      <th>vict_sex</th>\n",
       "      <th>vict_descent</th>\n",
       "      <th>permis_code</th>\n",
       "      <th>permis_dsp</th>\n",
       "      <th>weapon_code</th>\n",
       "      <th>weapon_dsp</th>\n",
       "      <th>case_status</th>\n",
       "      <th>case_status_dsp</th>\n",
       "      <th>crime_cd1</th>\n",
       "      <th>crime_cd2</th>\n",
       "      <th>crime_cd3</th>\n",
       "      <th>crime_cd4</th>\n",
       "      <th>location</th>\n",
       "      <th>street</th>\n",
       "      <th>lat</th>\n",
       "      <th>lng</th>\n",
       "    </tr>\n",
       "  </thead>\n",
       "  <tbody>\n",
       "    <tr>\n",
       "      <th>0</th>\n",
       "      <td>2020-01-08</td>\n",
       "      <td>01/08/2020 12:00:00 AM</td>\n",
       "      <td>2230</td>\n",
       "      <td>3</td>\n",
       "      <td>Southwest</td>\n",
       "      <td>377</td>\n",
       "      <td>2</td>\n",
       "      <td>624</td>\n",
       "      <td>BATTERY - SIMPLE ASSAULT</td>\n",
       "      <td>0444 0913</td>\n",
       "      <td>36</td>\n",
       "      <td>F</td>\n",
       "      <td>B</td>\n",
       "      <td>501.0</td>\n",
       "      <td>SINGLE FAMILY DWELLING</td>\n",
       "      <td>400.0</td>\n",
       "      <td>STRONG-ARM (HANDS, FIST, FEET OR BODILY FORCE)</td>\n",
       "      <td>AO</td>\n",
       "      <td>Adult Other</td>\n",
       "      <td>624.0</td>\n",
       "      <td>NaN</td>\n",
       "      <td>NaN</td>\n",
       "      <td>NaN</td>\n",
       "      <td>1100 W  39TH                         PL</td>\n",
       "      <td>NaN</td>\n",
       "      <td>34.0141</td>\n",
       "      <td>-118.2978</td>\n",
       "    </tr>\n",
       "    <tr>\n",
       "      <th>1</th>\n",
       "      <td>2020-01-02</td>\n",
       "      <td>01/01/2020 12:00:00 AM</td>\n",
       "      <td>330</td>\n",
       "      <td>1</td>\n",
       "      <td>Central</td>\n",
       "      <td>163</td>\n",
       "      <td>2</td>\n",
       "      <td>624</td>\n",
       "      <td>BATTERY - SIMPLE ASSAULT</td>\n",
       "      <td>0416 1822 1414</td>\n",
       "      <td>25</td>\n",
       "      <td>M</td>\n",
       "      <td>H</td>\n",
       "      <td>102.0</td>\n",
       "      <td>SIDEWALK</td>\n",
       "      <td>500.0</td>\n",
       "      <td>UNKNOWN WEAPON/OTHER WEAPON</td>\n",
       "      <td>IC</td>\n",
       "      <td>Invest Cont</td>\n",
       "      <td>624.0</td>\n",
       "      <td>NaN</td>\n",
       "      <td>NaN</td>\n",
       "      <td>NaN</td>\n",
       "      <td>700 S  HILL                         ST</td>\n",
       "      <td>NaN</td>\n",
       "      <td>34.0459</td>\n",
       "      <td>-118.2545</td>\n",
       "    </tr>\n",
       "    <tr>\n",
       "      <th>2</th>\n",
       "      <td>2020-04-14</td>\n",
       "      <td>02/13/2020 12:00:00 AM</td>\n",
       "      <td>1200</td>\n",
       "      <td>1</td>\n",
       "      <td>Central</td>\n",
       "      <td>155</td>\n",
       "      <td>2</td>\n",
       "      <td>845</td>\n",
       "      <td>SEX OFFENDER REGISTRANT OUT OF COMPLIANCE</td>\n",
       "      <td>1501</td>\n",
       "      <td>0</td>\n",
       "      <td>X</td>\n",
       "      <td>X</td>\n",
       "      <td>726.0</td>\n",
       "      <td>POLICE FACILITY</td>\n",
       "      <td>NaN</td>\n",
       "      <td>NaN</td>\n",
       "      <td>AA</td>\n",
       "      <td>Adult Arrest</td>\n",
       "      <td>845.0</td>\n",
       "      <td>NaN</td>\n",
       "      <td>NaN</td>\n",
       "      <td>NaN</td>\n",
       "      <td>200 E  6TH                          ST</td>\n",
       "      <td>NaN</td>\n",
       "      <td>34.0448</td>\n",
       "      <td>-118.2474</td>\n",
       "    </tr>\n",
       "    <tr>\n",
       "      <th>3</th>\n",
       "      <td>2020-01-01</td>\n",
       "      <td>01/01/2020 12:00:00 AM</td>\n",
       "      <td>1730</td>\n",
       "      <td>15</td>\n",
       "      <td>N Hollywood</td>\n",
       "      <td>1543</td>\n",
       "      <td>2</td>\n",
       "      <td>745</td>\n",
       "      <td>VANDALISM - MISDEAMEANOR ($399 OR UNDER)</td>\n",
       "      <td>0329 1402</td>\n",
       "      <td>76</td>\n",
       "      <td>F</td>\n",
       "      <td>W</td>\n",
       "      <td>502.0</td>\n",
       "      <td>MULTI-UNIT DWELLING (APARTMENT, DUPLEX, ETC)</td>\n",
       "      <td>NaN</td>\n",
       "      <td>NaN</td>\n",
       "      <td>IC</td>\n",
       "      <td>Invest Cont</td>\n",
       "      <td>745.0</td>\n",
       "      <td>998.0</td>\n",
       "      <td>NaN</td>\n",
       "      <td>NaN</td>\n",
       "      <td>5400    CORTEEN                      PL</td>\n",
       "      <td>NaN</td>\n",
       "      <td>34.1685</td>\n",
       "      <td>-118.4019</td>\n",
       "    </tr>\n",
       "    <tr>\n",
       "      <th>4</th>\n",
       "      <td>2020-01-01</td>\n",
       "      <td>01/01/2020 12:00:00 AM</td>\n",
       "      <td>415</td>\n",
       "      <td>19</td>\n",
       "      <td>Mission</td>\n",
       "      <td>1998</td>\n",
       "      <td>2</td>\n",
       "      <td>740</td>\n",
       "      <td>VANDALISM - FELONY ($400 &amp; OVER, ALL CHURCH VA...</td>\n",
       "      <td>0329</td>\n",
       "      <td>31</td>\n",
       "      <td>X</td>\n",
       "      <td>X</td>\n",
       "      <td>409.0</td>\n",
       "      <td>BEAUTY SUPPLY STORE</td>\n",
       "      <td>NaN</td>\n",
       "      <td>NaN</td>\n",
       "      <td>IC</td>\n",
       "      <td>Invest Cont</td>\n",
       "      <td>740.0</td>\n",
       "      <td>NaN</td>\n",
       "      <td>NaN</td>\n",
       "      <td>NaN</td>\n",
       "      <td>14400    TITUS                        ST</td>\n",
       "      <td>NaN</td>\n",
       "      <td>34.2198</td>\n",
       "      <td>-118.4468</td>\n",
       "    </tr>\n",
       "  </tbody>\n",
       "</table>\n",
       "</div>"
      ],
      "text/plain": [
       "   date_rpdt                date_occ  time_occ  area    area_name  \\\n",
       "0 2020-01-08  01/08/2020 12:00:00 AM      2230     3    Southwest   \n",
       "1 2020-01-02  01/01/2020 12:00:00 AM       330     1      Central   \n",
       "2 2020-04-14  02/13/2020 12:00:00 AM      1200     1      Central   \n",
       "3 2020-01-01  01/01/2020 12:00:00 AM      1730    15  N Hollywood   \n",
       "4 2020-01-01  01/01/2020 12:00:00 AM       415    19      Mission   \n",
       "\n",
       "   sub_area_code  crime_class  crime_code  \\\n",
       "0            377            2         624   \n",
       "1            163            2         624   \n",
       "2            155            2         845   \n",
       "3           1543            2         745   \n",
       "4           1998            2         740   \n",
       "\n",
       "                                           crime_dsp suspect_mo_code  \\\n",
       "0                           BATTERY - SIMPLE ASSAULT       0444 0913   \n",
       "1                           BATTERY - SIMPLE ASSAULT  0416 1822 1414   \n",
       "2          SEX OFFENDER REGISTRANT OUT OF COMPLIANCE            1501   \n",
       "3           VANDALISM - MISDEAMEANOR ($399 OR UNDER)       0329 1402   \n",
       "4  VANDALISM - FELONY ($400 & OVER, ALL CHURCH VA...            0329   \n",
       "\n",
       "   vict_age vict_sex vict_descent  permis_code  \\\n",
       "0        36        F            B        501.0   \n",
       "1        25        M            H        102.0   \n",
       "2         0        X            X        726.0   \n",
       "3        76        F            W        502.0   \n",
       "4        31        X            X        409.0   \n",
       "\n",
       "                                     permis_dsp  weapon_code  \\\n",
       "0                        SINGLE FAMILY DWELLING        400.0   \n",
       "1                                      SIDEWALK        500.0   \n",
       "2                               POLICE FACILITY          NaN   \n",
       "3  MULTI-UNIT DWELLING (APARTMENT, DUPLEX, ETC)          NaN   \n",
       "4                           BEAUTY SUPPLY STORE          NaN   \n",
       "\n",
       "                                       weapon_dsp case_status case_status_dsp  \\\n",
       "0  STRONG-ARM (HANDS, FIST, FEET OR BODILY FORCE)          AO     Adult Other   \n",
       "1                     UNKNOWN WEAPON/OTHER WEAPON          IC     Invest Cont   \n",
       "2                                             NaN          AA    Adult Arrest   \n",
       "3                                             NaN          IC     Invest Cont   \n",
       "4                                             NaN          IC     Invest Cont   \n",
       "\n",
       "   crime_cd1  crime_cd2  crime_cd3  crime_cd4  \\\n",
       "0      624.0        NaN        NaN        NaN   \n",
       "1      624.0        NaN        NaN        NaN   \n",
       "2      845.0        NaN        NaN        NaN   \n",
       "3      745.0      998.0        NaN        NaN   \n",
       "4      740.0        NaN        NaN        NaN   \n",
       "\n",
       "                                   location street      lat       lng  \n",
       "0   1100 W  39TH                         PL    NaN  34.0141 -118.2978  \n",
       "1    700 S  HILL                         ST    NaN  34.0459 -118.2545  \n",
       "2    200 E  6TH                          ST    NaN  34.0448 -118.2474  \n",
       "3   5400    CORTEEN                      PL    NaN  34.1685 -118.4019  \n",
       "4  14400    TITUS                        ST    NaN  34.2198 -118.4468  "
      ]
     },
     "execution_count": 15,
     "metadata": {},
     "output_type": "execute_result"
    }
   ],
   "source": [
    "# date_rpdt type is object, so we need convert its type to datetime\n",
    "df[\"date_rpdt\"] = pd.to_datetime(df[\"date_rpdt\"])\n",
    "df.head()"
   ]
  },
  {
   "cell_type": "code",
   "execution_count": 16,
   "id": "917e4605",
   "metadata": {
    "ExecuteTime": {
     "end_time": "2023-08-29T12:46:01.507198406Z",
     "start_time": "2023-08-29T12:46:01.435580276Z"
    },
    "scrolled": false
   },
   "outputs": [
    {
     "name": "stderr",
     "output_type": "stream",
     "text": [
      "/tmp/ipykernel_3919/2246734180.py:1: FutureWarning: Treating datetime data as categorical rather than numeric in `.describe` is deprecated and will be removed in a future version of pandas. Specify `datetime_is_numeric=True` to silence this warning and adopt the future behavior now.\n",
      "  df[\"date_rpdt\"].describe()\n"
     ]
    },
    {
     "data": {
      "text/plain": [
       "count                  761582\n",
       "unique                   1294\n",
       "top       2023-02-03 00:00:00\n",
       "freq                      923\n",
       "first     2020-01-01 00:00:00\n",
       "last      2023-07-17 00:00:00\n",
       "Name: date_rpdt, dtype: object"
      ]
     },
     "execution_count": 16,
     "metadata": {},
     "output_type": "execute_result"
    }
   ],
   "source": [
    "df[\"date_rpdt\"].describe()"
   ]
  },
  {
   "cell_type": "code",
   "execution_count": 17,
   "id": "1c19264d",
   "metadata": {
    "ExecuteTime": {
     "end_time": "2023-08-29T12:49:49.958898711Z",
     "start_time": "2023-08-29T12:49:49.074387123Z"
    }
   },
   "outputs": [],
   "source": [
    "# next we need to merge \"date_occ\" and \"time_occ\" into one columns with dtype datetime but first we need to convert time_occ to regular time \n",
    "\n",
    "# convert military time to string regular time\n",
    "\n",
    "def convert_to_regular_time(val):\n",
    "    val = f\"{val:04}\"\n",
    "    val = val[:2] + ':' + val[2:]\n",
    "    return val\n",
    "\n",
    "\n",
    "df[\"time_occ\"] = df[\"time_occ\"].apply(convert_to_regular_time)"
   ]
  },
  {
   "cell_type": "code",
   "execution_count": 18,
   "id": "7360de55",
   "metadata": {
    "ExecuteTime": {
     "end_time": "2023-08-29T12:50:25.495661671Z",
     "start_time": "2023-08-29T12:50:25.188844672Z"
    }
   },
   "outputs": [],
   "source": [
    "# update date_occ column  to hold just the date\n",
    "def trunc(s):\n",
    "    return s[0:10]\n",
    "\n",
    "\n",
    "df[\"date_occ\"] = df[\"date_occ\"].apply(trunc)"
   ]
  },
  {
   "cell_type": "code",
   "execution_count": 19,
   "id": "ae44aa32",
   "metadata": {
    "ExecuteTime": {
     "end_time": "2023-08-29T12:53:12.594269907Z",
     "start_time": "2023-08-29T12:50:47.582801847Z"
    },
    "scrolled": true
   },
   "outputs": [],
   "source": [
    "# create a new column  by merging \"data_occ\" and \"time_occ\"\n",
    "for idx in range(len(df)):\n",
    "    df.loc[idx, \"merged_col\"] = str(df.loc[idx, \"date_occ\"]) +\" \"+ f'{df.loc[idx, \"time_occ\"]:04}'\n"
   ]
  },
  {
   "cell_type": "code",
   "execution_count": 20,
   "id": "8ca9efc2",
   "metadata": {
    "ExecuteTime": {
     "end_time": "2023-08-29T12:55:16.487547804Z",
     "start_time": "2023-08-29T12:53:47.060242343Z"
    }
   },
   "outputs": [],
   "source": [
    "# convert the new column's type to datetime\n",
    "df[\"merged_col\"] = pd.to_datetime(df[\"merged_col\"])\n",
    "# delete \"date_occ\" and \"time_occ\" columns\n",
    "df.drop(\"date_occ\", axis=1, inplace=True)\n",
    "df.drop(\"time_occ\", axis=1, inplace=True)\n",
    "# rename created column \n",
    "df.rename(columns={\"merged_col\": \"time_occ\"}, inplace=True)\n",
    "# set \"time_occ as first column\"\n",
    "l = list(df.columns)\n",
    "l = l[:len(l)-1]\n",
    "l = [\"time_occ\"] + l\n",
    "df = df.reindex(columns=l)"
   ]
  },
  {
   "cell_type": "code",
   "execution_count": 21,
   "id": "5db4c10a",
   "metadata": {
    "ExecuteTime": {
     "end_time": "2023-08-29T12:56:05.650272217Z",
     "start_time": "2023-08-29T12:56:05.444354578Z"
    }
   },
   "outputs": [
    {
     "data": {
      "text/plain": [
       "count    761582.000000\n",
       "mean         10.718934\n",
       "std           6.092570\n",
       "min           1.000000\n",
       "25%           6.000000\n",
       "50%          11.000000\n",
       "75%          16.000000\n",
       "max          21.000000\n",
       "Name: area, dtype: float64"
      ]
     },
     "execution_count": 21,
     "metadata": {},
     "output_type": "execute_result"
    }
   ],
   "source": [
    "# area column\n",
    "df.area.describe()"
   ]
  },
  {
   "cell_type": "code",
   "execution_count": 22,
   "id": "9ffcec51",
   "metadata": {
    "ExecuteTime": {
     "end_time": "2023-08-29T12:56:19.167002108Z",
     "start_time": "2023-08-29T12:56:19.010112082Z"
    },
    "scrolled": true
   },
   "outputs": [
    {
     "data": {
      "text/plain": [
       "count     761582\n",
       "unique        21\n",
       "top            1\n",
       "freq       51114\n",
       "Name: area, dtype: int64"
      ]
     },
     "execution_count": 22,
     "metadata": {},
     "output_type": "execute_result"
    }
   ],
   "source": [
    "df.area.astype(\"object\").describe()"
   ]
  },
  {
   "cell_type": "code",
   "execution_count": 23,
   "id": "dc90eeb8",
   "metadata": {
    "ExecuteTime": {
     "end_time": "2023-08-29T12:57:38.566541008Z",
     "start_time": "2023-08-29T12:57:38.477572769Z"
    },
    "scrolled": true
   },
   "outputs": [
    {
     "data": {
      "text/plain": [
       "count      761582\n",
       "unique         21\n",
       "top       Central\n",
       "freq        51114\n",
       "Name: area_name, dtype: object"
      ]
     },
     "execution_count": 23,
     "metadata": {},
     "output_type": "execute_result"
    }
   ],
   "source": [
    "# area_name\n",
    "df.area_name.describe()"
   ]
  },
  {
   "cell_type": "code",
   "execution_count": 24,
   "id": "8fda8cd8",
   "metadata": {
    "ExecuteTime": {
     "end_time": "2023-08-29T12:59:10.327462046Z",
     "start_time": "2023-08-29T12:59:09.810186466Z"
    },
    "scrolled": true
   },
   "outputs": [
    {
     "name": "stdout",
     "output_type": "stream",
     "text": [
      "for area code: 1\n",
      "<bound method IndexOpsMixin.value_counts of 1         Central\n",
      "2         Central\n",
      "5         Central\n",
      "6         Central\n",
      "7         Central\n",
      "           ...   \n",
      "761503    Central\n",
      "761506    Central\n",
      "761509    Central\n",
      "761538    Central\n",
      "761580    Central\n",
      "Name: area_name, Length: 51114, dtype: object>\n",
      "\n",
      "\n",
      "\n",
      "for area code: 2\n",
      "<bound method IndexOpsMixin.value_counts of 47        Rampart\n",
      "290       Rampart\n",
      "329       Rampart\n",
      "360       Rampart\n",
      "414       Rampart\n",
      "           ...   \n",
      "761468    Rampart\n",
      "761481    Rampart\n",
      "761488    Rampart\n",
      "761511    Rampart\n",
      "761545    Rampart\n",
      "Name: area_name, Length: 35380, dtype: object>\n",
      "\n",
      "\n",
      "\n",
      "for area code: 3\n",
      "<bound method IndexOpsMixin.value_counts of 0         Southwest\n",
      "65        Southwest\n",
      "134       Southwest\n",
      "135       Southwest\n",
      "186       Southwest\n",
      "            ...    \n",
      "761482    Southwest\n",
      "761510    Southwest\n",
      "761516    Southwest\n",
      "761533    Southwest\n",
      "761546    Southwest\n",
      "Name: area_name, Length: 42544, dtype: object>\n",
      "\n",
      "\n",
      "\n",
      "for area code: 4\n",
      "<bound method IndexOpsMixin.value_counts of 50        Hollenbeck\n",
      "51        Hollenbeck\n",
      "129       Hollenbeck\n",
      "147       Hollenbeck\n",
      "179       Hollenbeck\n",
      "             ...    \n",
      "761534    Hollenbeck\n",
      "761551    Hollenbeck\n",
      "761559    Hollenbeck\n",
      "761564    Hollenbeck\n",
      "761566    Hollenbeck\n",
      "Name: area_name, Length: 28646, dtype: object>\n",
      "\n",
      "\n",
      "\n",
      "for area code: 5\n",
      "<bound method IndexOpsMixin.value_counts of 17        Harbor\n",
      "104       Harbor\n",
      "136       Harbor\n",
      "243       Harbor\n",
      "413       Harbor\n",
      "           ...  \n",
      "761518    Harbor\n",
      "761522    Harbor\n",
      "761540    Harbor\n",
      "761543    Harbor\n",
      "761561    Harbor\n",
      "Name: area_name, Length: 31586, dtype: object>\n",
      "\n",
      "\n",
      "\n",
      "for area code: 6\n",
      "<bound method IndexOpsMixin.value_counts of 105       Hollywood\n",
      "215       Hollywood\n",
      "289       Hollywood\n",
      "291       Hollywood\n",
      "356       Hollywood\n",
      "            ...    \n",
      "761371    Hollywood\n",
      "761381    Hollywood\n",
      "761423    Hollywood\n",
      "761442    Hollywood\n",
      "761565    Hollywood\n",
      "Name: area_name, Length: 40523, dtype: object>\n",
      "\n",
      "\n",
      "\n",
      "for area code: 7\n",
      "<bound method IndexOpsMixin.value_counts of 36        Wilshire\n",
      "130       Wilshire\n",
      "131       Wilshire\n",
      "202       Wilshire\n",
      "259       Wilshire\n",
      "            ...   \n",
      "761429    Wilshire\n",
      "761461    Wilshire\n",
      "761528    Wilshire\n",
      "761535    Wilshire\n",
      "761541    Wilshire\n",
      "Name: area_name, Length: 36008, dtype: object>\n",
      "\n",
      "\n",
      "\n",
      "for area code: 8\n",
      "<bound method IndexOpsMixin.value_counts of 28        West LA\n",
      "31        West LA\n",
      "39        West LA\n",
      "58        West LA\n",
      "70        West LA\n",
      "           ...   \n",
      "761474    West LA\n",
      "761556    West LA\n",
      "761570    West LA\n",
      "761572    West LA\n",
      "761574    West LA\n",
      "Name: area_name, Length: 34939, dtype: object>\n",
      "\n",
      "\n",
      "\n",
      "for area code: 9\n",
      "<bound method IndexOpsMixin.value_counts of 18        Van Nuys\n",
      "20        Van Nuys\n",
      "37        Van Nuys\n",
      "86        Van Nuys\n",
      "200       Van Nuys\n",
      "            ...   \n",
      "761514    Van Nuys\n",
      "761553    Van Nuys\n",
      "761554    Van Nuys\n",
      "761563    Van Nuys\n",
      "761581    Van Nuys\n",
      "Name: area_name, Length: 32350, dtype: object>\n",
      "\n",
      "\n",
      "\n",
      "for area code: 10\n",
      "<bound method IndexOpsMixin.value_counts of 23        West Valley\n",
      "25        West Valley\n",
      "35        West Valley\n",
      "201       West Valley\n",
      "250       West Valley\n",
      "             ...     \n",
      "761457    West Valley\n",
      "761520    West Valley\n",
      "761529    West Valley\n",
      "761542    West Valley\n",
      "761567    West Valley\n",
      "Name: area_name, Length: 31871, dtype: object>\n",
      "\n",
      "\n",
      "for area code: 11\n",
      "<bound method IndexOpsMixin.value_counts of 16        Northeast\n",
      "26        Northeast\n",
      "32        Northeast\n",
      "52        Northeast\n",
      "207       Northeast\n",
      "            ...    \n",
      "761487    Northeast\n",
      "761494    Northeast\n",
      "761512    Northeast\n",
      "761573    Northeast\n",
      "761576    Northeast\n",
      "Name: area_name, Length: 32922, dtype: object>\n",
      "\n",
      "\n",
      "\n",
      "for area code: 12\n",
      "<bound method IndexOpsMixin.value_counts of 48        77th Street\n",
      "213       77th Street\n",
      "321       77th Street\n",
      "425       77th Street\n",
      "495       77th Street\n",
      "             ...     \n",
      "761527    77th Street\n",
      "761530    77th Street\n",
      "761552    77th Street\n",
      "761557    77th Street\n",
      "761579    77th Street\n",
      "Name: area_name, Length: 48168, dtype: object>\n",
      "\n",
      "\n",
      "\n",
      "for area code: 13\n",
      "<bound method IndexOpsMixin.value_counts of 109       Newton\n",
      "673       Newton\n",
      "674       Newton\n",
      "1073      Newton\n",
      "1351      Newton\n",
      "           ...  \n",
      "761536    Newton\n",
      "761539    Newton\n",
      "761548    Newton\n",
      "761560    Newton\n",
      "761562    Newton\n",
      "Name: area_name, Length: 37940, dtype: object>\n",
      "\n",
      "\n",
      "\n",
      "for area code: 14\n",
      "<bound method IndexOpsMixin.value_counts of 45        Pacific\n",
      "107       Pacific\n",
      "523       Pacific\n",
      "699       Pacific\n",
      "799       Pacific\n",
      "           ...   \n",
      "761508    Pacific\n",
      "761519    Pacific\n",
      "761544    Pacific\n",
      "761550    Pacific\n",
      "761568    Pacific\n",
      "Name: area_name, Length: 44435, dtype: object>\n",
      "\n",
      "\n",
      "\n",
      "for area code: 15\n",
      "<bound method IndexOpsMixin.value_counts of 3         N Hollywood\n",
      "552       N Hollywood\n",
      "1348      N Hollywood\n",
      "1461      N Hollywood\n",
      "1485      N Hollywood\n",
      "             ...     \n",
      "761376    N Hollywood\n",
      "761409    N Hollywood\n",
      "761421    N Hollywood\n",
      "761455    N Hollywood\n",
      "761575    N Hollywood\n",
      "Name: area_name, Length: 37892, dtype: object>\n",
      "\n",
      "\n",
      "\n",
      "for area code: 16\n",
      "<bound method IndexOpsMixin.value_counts of 164       Foothill\n",
      "265       Foothill\n",
      "303       Foothill\n",
      "323       Foothill\n",
      "988       Foothill\n",
      "            ...   \n",
      "761521    Foothill\n",
      "761526    Foothill\n",
      "761571    Foothill\n",
      "761577    Foothill\n",
      "761578    Foothill\n",
      "Name: area_name, Length: 25564, dtype: object>\n",
      "\n",
      "\n",
      "\n",
      "for area code: 17\n",
      "<bound method IndexOpsMixin.value_counts of 9         Devonshire\n",
      "443       Devonshire\n",
      "453       Devonshire\n",
      "609       Devonshire\n",
      "728       Devonshire\n",
      "             ...    \n",
      "761340    Devonshire\n",
      "761360    Devonshire\n",
      "761507    Devonshire\n",
      "761513    Devonshire\n",
      "761569    Devonshire\n",
      "Name: area_name, Length: 30858, dtype: object>\n",
      "\n",
      "\n",
      "\n",
      "for area code: 18\n",
      "<bound method IndexOpsMixin.value_counts of 98        Southeast\n",
      "141       Southeast\n",
      "220       Southeast\n",
      "406       Southeast\n",
      "455       Southeast\n",
      "            ...    \n",
      "761419    Southeast\n",
      "761426    Southeast\n",
      "761437    Southeast\n",
      "761473    Southeast\n",
      "761499    Southeast\n",
      "Name: area_name, Length: 39023, dtype: object>\n",
      "\n",
      "\n",
      "\n",
      "for area code: 19\n",
      "<bound method IndexOpsMixin.value_counts of 4         Mission\n",
      "15        Mission\n",
      "502       Mission\n",
      "1398      Mission\n",
      "1470      Mission\n",
      "           ...   \n",
      "761479    Mission\n",
      "761496    Mission\n",
      "761505    Mission\n",
      "761515    Mission\n",
      "761531    Mission\n",
      "Name: area_name, Length: 30343, dtype: object>\n",
      "\n",
      "\n",
      "for area code: 20\n",
      "<bound method IndexOpsMixin.value_counts of 313       Olympic\n",
      "463       Olympic\n",
      "527       Olympic\n",
      "607       Olympic\n",
      "817       Olympic\n",
      "           ...   \n",
      "761537    Olympic\n",
      "761547    Olympic\n",
      "761549    Olympic\n",
      "761555    Olympic\n",
      "761558    Olympic\n",
      "Name: area_name, Length: 38624, dtype: object>\n",
      "\n",
      "\n",
      "\n",
      "for area code: 21\n",
      "<bound method IndexOpsMixin.value_counts of 913       Topanga\n",
      "1564      Topanga\n",
      "2113      Topanga\n",
      "2352      Topanga\n",
      "2366      Topanga\n",
      "           ...   \n",
      "761462    Topanga\n",
      "761471    Topanga\n",
      "761478    Topanga\n",
      "761486    Topanga\n",
      "761504    Topanga\n",
      "Name: area_name, Length: 30852, dtype: object>\n"
     ]
    }
   ],
   "source": [
    "# since 'area' and 'area_name' represent the same information we need to check for mismatch\n",
    "for val in range(1, 22):\n",
    "    data = df[df[\"area\"] == val]\n",
    "    print(f\"for area code: {val}\")\n",
    "    print(data[\"area_name\"].value_counts)\n",
    "    print(\"\\n\\n\")"
   ]
  },
  {
   "cell_type": "code",
   "execution_count": 25,
   "id": "e3fa0042cf214856",
   "metadata": {
    "ExecuteTime": {
     "end_time": "2023-08-29T13:01:52.436651130Z",
     "start_time": "2023-08-29T13:01:52.150893362Z"
    }
   },
   "outputs": [],
   "source": [
    "# no issue found we can delete one of them and since this wrangling is intended for visualization  i will keep area name because it is more informative\n",
    "df.drop('area', axis=1, inplace=True)"
   ]
  },
  {
   "cell_type": "code",
   "execution_count": 26,
   "id": "c93bc9bb",
   "metadata": {
    "ExecuteTime": {
     "end_time": "2023-08-29T13:02:04.148266653Z",
     "start_time": "2023-08-29T13:02:04.053683411Z"
    }
   },
   "outputs": [
    {
     "data": {
      "text/plain": [
       "count    761582.000000\n",
       "mean       1118.307782\n",
       "std         609.264668\n",
       "min         101.000000\n",
       "25%         622.000000\n",
       "50%        1142.000000\n",
       "75%        1618.000000\n",
       "max        2199.000000\n",
       "Name: sub_area_code, dtype: float64"
      ]
     },
     "execution_count": 26,
     "metadata": {},
     "output_type": "execute_result"
    }
   ],
   "source": [
    "# \"sub_area_code\" column\n",
    "df.sub_area_code.describe()"
   ]
  },
  {
   "cell_type": "code",
   "execution_count": 27,
   "id": "aeef226d",
   "metadata": {
    "ExecuteTime": {
     "end_time": "2023-08-29T13:03:28.010609982Z",
     "start_time": "2023-08-29T13:03:27.799708300Z"
    },
    "scrolled": true
   },
   "outputs": [
    {
     "data": {
      "text/plain": [
       "count     761582\n",
       "unique      1199\n",
       "top          162\n",
       "freq        4074\n",
       "Name: sub_area_code, dtype: int64"
      ]
     },
     "execution_count": 27,
     "metadata": {},
     "output_type": "execute_result"
    }
   ],
   "source": [
    "df.sub_area_code.astype(\"object\").describe()"
   ]
  },
  {
   "cell_type": "code",
   "execution_count": 28,
   "id": "ef183d0c",
   "metadata": {
    "ExecuteTime": {
     "end_time": "2023-08-29T13:41:19.296579521Z",
     "start_time": "2023-08-29T13:41:19.137888628Z"
    }
   },
   "outputs": [
    {
     "data": {
      "text/plain": [
       "count     761582\n",
       "unique         2\n",
       "top            1\n",
       "freq      445136\n",
       "Name: crime_class, dtype: int64"
      ]
     },
     "execution_count": 28,
     "metadata": {},
     "output_type": "execute_result"
    }
   ],
   "source": [
    "# \"crime_class\" column\n",
    "df.crime_class.astype(\"object\").describe()"
   ]
  },
  {
   "cell_type": "code",
   "execution_count": 29,
   "id": "2d4d30f5",
   "metadata": {
    "ExecuteTime": {
     "end_time": "2023-08-29T13:41:33.332514300Z",
     "start_time": "2023-08-29T13:41:33.259381044Z"
    },
    "scrolled": true
   },
   "outputs": [
    {
     "data": {
      "text/plain": [
       "count    761582.000000\n",
       "mean        500.841395\n",
       "std         207.943836\n",
       "min         110.000000\n",
       "25%         331.000000\n",
       "50%         442.000000\n",
       "75%         626.000000\n",
       "max         956.000000\n",
       "Name: crime_code, dtype: float64"
      ]
     },
     "execution_count": 29,
     "metadata": {},
     "output_type": "execute_result"
    }
   ],
   "source": [
    "# \"crime_code\" column\n",
    "df.crime_code.describe()"
   ]
  },
  {
   "cell_type": "code",
   "execution_count": 30,
   "id": "caa5f515",
   "metadata": {
    "ExecuteTime": {
     "end_time": "2023-08-29T13:41:42.124338581Z",
     "start_time": "2023-08-29T13:41:41.924832939Z"
    }
   },
   "outputs": [
    {
     "data": {
      "text/plain": [
       "count     761582\n",
       "unique       138\n",
       "top          510\n",
       "freq       81426\n",
       "Name: crime_code, dtype: int64"
      ]
     },
     "execution_count": 30,
     "metadata": {},
     "output_type": "execute_result"
    }
   ],
   "source": [
    "df.crime_code.astype(\"object\").describe()"
   ]
  },
  {
   "cell_type": "code",
   "execution_count": 31,
   "id": "75225075",
   "metadata": {
    "ExecuteTime": {
     "end_time": "2023-08-29T13:42:07.204255477Z",
     "start_time": "2023-08-29T13:42:07.191832086Z"
    },
    "scrolled": true
   },
   "outputs": [
    {
     "data": {
      "text/plain": [
       "count               761582\n",
       "unique                 138\n",
       "top       VEHICLE - STOLEN\n",
       "freq                 81426\n",
       "Name: crime_dsp, dtype: object"
      ]
     },
     "execution_count": 31,
     "metadata": {},
     "output_type": "execute_result"
    }
   ],
   "source": [
    "# \"crime_dsp\"\n",
    "df.crime_dsp.describe()"
   ]
  },
  {
   "cell_type": "code",
   "execution_count": 32,
   "id": "cd83fcf6",
   "metadata": {
    "ExecuteTime": {
     "end_time": "2023-08-29T13:42:25.294777784Z",
     "start_time": "2023-08-29T13:42:25.170803842Z"
    },
    "scrolled": true
   },
   "outputs": [
    {
     "data": {
      "text/plain": [
       "count     657013\n",
       "unique    256088\n",
       "top         0344\n",
       "freq       31482\n",
       "Name: suspect_mo_code, dtype: object"
      ]
     },
     "execution_count": 32,
     "metadata": {},
     "output_type": "execute_result"
    }
   ],
   "source": [
    "# \"suspect_mo_code\" column\n",
    "df.suspect_mo_code.describe()"
   ]
  },
  {
   "cell_type": "code",
   "execution_count": 34,
   "id": "3cd807ab",
   "metadata": {
    "ExecuteTime": {
     "end_time": "2023-08-29T13:43:12.529086829Z",
     "start_time": "2023-08-29T13:43:12.441136842Z"
    },
    "scrolled": false
   },
   "outputs": [
    {
     "name": "stdout",
     "output_type": "stream",
     "text": [
      "REV: 07/19\n",
      "0100 Suspect Impersonate\n",
      "0101 Aid victim\n",
      "0102 Blind\n",
      "0103 Physically disabled\n",
      "0104 Customer\n",
      "0105 Delivery\n",
      "0106 Doctor\n",
      "0107 God\n",
      "0108 Infirm\n",
      "0109 Inspector\n",
      "0110 Involved in traffic/accident\n",
      "0112 Police\n",
      "0113 Renting\n",
      "0114 Repair Person\n",
      "0115 Returning stolen property\n",
      "0116 Satan\n",
      "0117 Salesman\n",
      "0118 Seeking someone\n",
      "0119 Sent by owner\n",
      "0120 Social Security/Medicare\n",
      "0121 DWP/Gas Company/Utility worker\n",
      "0122 Contractor\n",
      "0123 Gardener/Tree Trimmer\n",
      "0200 Suspect wore disguise\n",
      "0201 Bag\n",
      "0202 Cap/hat\n",
      "0203 Cloth (with eyeholes)\n",
      "0204 Clothes of opposite sex\n",
      "0205 Earring\n",
      "0206 Gloves\n",
      "0207 Handkerchief\n",
      "0208 Halloween mask\n",
      "0209 Mask\n",
      "0210 Make up (males only)\n",
      "0211 Shoes\n",
      "0212 Nude/partly nude\n",
      "0213 Ski mask\n",
      "0214 Stocking\n",
      "0215 Unusual clothes\n",
      "0216 Suspect wore hood/hoodie\n",
      "0217 Uniform\n",
      "0218 Wig\n",
      "0219 Mustache-Fake\n",
      "0220 Suspect wore motorcycle helmetMO CODES\n",
      "NUMERICAL\n",
      "1 of 19\n"
     ]
    }
   ],
   "source": [
    "# first page of mo_code\n",
    "import PyPDF2\n",
    "  \n",
    "with open('mo_suspect_code.pdf', 'rb') as f:\n",
    "    # creating a pdf reader object\n",
    "    pdf_reader = PyPDF2.PdfReader(f)\n",
    "    # creating a page object\n",
    "    page_obj = pdf_reader.pages[0]\n",
    "    # extracting text from page\n",
    "    print(page_obj.extract_text())"
   ]
  },
  {
   "cell_type": "code",
   "execution_count": 35,
   "id": "36478b71",
   "metadata": {
    "ExecuteTime": {
     "end_time": "2023-08-29T13:45:14.743413742Z",
     "start_time": "2023-08-29T13:45:14.601421133Z"
    },
    "scrolled": true
   },
   "outputs": [
    {
     "data": {
      "text/plain": [
       "array([<class 'str'>, <class 'float'>], dtype=object)"
      ]
     },
     "execution_count": 35,
     "metadata": {},
     "output_type": "execute_result"
    }
   ],
   "source": [
    "# the column dtype is object which is weired because from the pdf we see the code are integer so let's check for value's type \n",
    "# list unique type in the columns\n",
    "df.suspect_mo_code.apply(type).unique()"
   ]
  },
  {
   "cell_type": "code",
   "execution_count": 36,
   "id": "09c36bc4",
   "metadata": {
    "ExecuteTime": {
     "end_time": "2023-08-29T13:45:43.990064356Z",
     "start_time": "2023-08-29T13:45:43.780377885Z"
    },
    "scrolled": false
   },
   "outputs": [
    {
     "data": {
      "text/plain": [
       "<class 'str'>      657013\n",
       "<class 'float'>    104569\n",
       "Name: suspect_mo_code, dtype: int64"
      ]
     },
     "execution_count": 36,
     "metadata": {},
     "output_type": "execute_result"
    }
   ],
   "source": [
    "# some values are float64 and some are string\n",
    "# count values of each type\n",
    "df.suspect_mo_code.apply(type).value_counts()"
   ]
  },
  {
   "cell_type": "code",
   "execution_count": 39,
   "id": "f1552a23",
   "metadata": {
    "scrolled": true
   },
   "outputs": [
    {
     "data": {
      "text/plain": [
       "348491                              NaN\n",
       "264932         2000 0913 1814 0416 0432\n",
       "479336         1218 1266 1822 0334 1402\n",
       "150526                             0100\n",
       "15287                    0416 0408 0444\n",
       "356947                             1501\n",
       "535132         0319 1266 0601 0913 2033\n",
       "126875              1822 0100 0930 0935\n",
       "130930                              NaN\n",
       "613823    2000 0913 1813 0444 0400 0329\n",
       "505064                        0344 0385\n",
       "72840                         0344 1822\n",
       "604501                              NaN\n",
       "745587                   0913 1814 0329\n",
       "553558                        0930 1822\n",
       "Name: suspect_mo_code, dtype: object"
      ]
     },
     "execution_count": 39,
     "metadata": {},
     "output_type": "execute_result"
    }
   ],
   "source": [
    "# check some random values\n",
    "df.suspect_mo_code.sample(n=15)"
   ]
  },
  {
   "cell_type": "code",
   "execution_count": 37,
   "id": "730d7846",
   "metadata": {
    "ExecuteTime": {
     "end_time": "2023-08-29T13:46:14.362953857Z",
     "start_time": "2023-08-29T13:46:13.861096821Z"
    }
   },
   "outputs": [
    {
     "data": {
      "text/plain": [
       "10"
      ]
     },
     "execution_count": 37,
     "metadata": {},
     "output_type": "execute_result"
    }
   ],
   "source": [
    "# it appears that some suspect are associated with more than one code \n",
    "# check the maximum number of code associated with a suspect\n",
    "l = []\n",
    "for val in df.suspect_mo_code.values:\n",
    "    val = str(val)\n",
    "    val = val.split()\n",
    "    l.append(len(val))\n",
    "max(l)"
   ]
  },
  {
   "cell_type": "markdown",
   "id": "2a9a3bba",
   "metadata": {},
   "source": [
    "#### recap:\n",
    "- **104,569** missings values\n",
    "- some suspects have up to 10 mo_code associated with, so splitting the column woudn't be a good idea\n",
    "#### For now i will fill nan with '0000'  to indicate No Activities Associated "
   ]
  },
  {
   "cell_type": "code",
   "execution_count": 38,
   "id": "08a8b74b",
   "metadata": {
    "ExecuteTime": {
     "end_time": "2023-08-29T13:47:25.134763049Z",
     "start_time": "2023-08-29T13:47:25.095103692Z"
    }
   },
   "outputs": [],
   "source": [
    "df[\"suspect_mo_code\"].replace(\"nan\", \"0000\", inplace=True)"
   ]
  },
  {
   "cell_type": "code",
   "execution_count": 39,
   "id": "43c11efd",
   "metadata": {
    "ExecuteTime": {
     "end_time": "2023-08-29T13:47:33.245367466Z",
     "start_time": "2023-08-29T13:47:33.112070923Z"
    },
    "scrolled": true
   },
   "outputs": [
    {
     "data": {
      "text/plain": [
       "count    761582.000000\n",
       "mean         29.908199\n",
       "std          21.736128\n",
       "min          -3.000000\n",
       "25%          11.000000\n",
       "50%          31.000000\n",
       "75%          45.000000\n",
       "max         120.000000\n",
       "Name: vict_age, dtype: float64"
      ]
     },
     "execution_count": 39,
     "metadata": {},
     "output_type": "execute_result"
    }
   ],
   "source": [
    "# \"vict_age\" col\n",
    "df.vict_age.describe()"
   ]
  },
  {
   "cell_type": "code",
   "execution_count": 43,
   "id": "a7b780c9",
   "metadata": {},
   "outputs": [
    {
     "data": {
      "text/plain": [
       "count     761582\n",
       "unique       103\n",
       "top            0\n",
       "freq      186028\n",
       "Name: vict_age, dtype: int64"
      ]
     },
     "execution_count": 43,
     "metadata": {},
     "output_type": "execute_result"
    }
   ],
   "source": [
    "df.vict_age.astype(\"object\").describe()"
   ]
  },
  {
   "cell_type": "code",
   "execution_count": 42,
   "id": "e0ccfc17",
   "metadata": {
    "ExecuteTime": {
     "end_time": "2023-08-29T13:50:40.571773625Z",
     "start_time": "2023-08-29T13:50:36.329934273Z"
    }
   },
   "outputs": [
    {
     "data": {
      "text/plain": [
       "<Axes: xlabel='vict_age', ylabel='count'>"
      ]
     },
     "execution_count": 42,
     "metadata": {},
     "output_type": "execute_result"
    },
    {
     "data": {
      "image/png": "[encoded data removed]",
      "text/plain": [
       "<Figure size 2000x500 with 1 Axes>"
      ]
     },
     "metadata": {},
     "output_type": "display_data"
    }
   ],
   "source": [
    "import matplotlib.pyplot as plt\n",
    "import seaborn as sns\n",
    "fig, ax = plt.subplots(figsize=(20,5))\n",
    "sns.countplot(data=df, x=\"vict_age\", ax=ax)"
   ]
  },
  {
   "cell_type": "code",
   "execution_count": 40,
   "id": "aae10532",
   "metadata": {
    "ExecuteTime": {
     "end_time": "2023-08-29T13:50:05.736270324Z",
     "start_time": "2023-08-29T13:50:05.498323621Z"
    }
   },
   "outputs": [],
   "source": [
    "# some negative age and 186028 rows with 0 as age \n",
    "# we will assume zero means age not available\n",
    "# replace negative  values with 0\n",
    "df[\"vict_age\"].replace([-3, -2, -1], 0, inplace=True)"
   ]
  },
  {
   "cell_type": "code",
   "execution_count": 43,
   "id": "a8d794d3",
   "metadata": {
    "ExecuteTime": {
     "end_time": "2023-08-29T13:51:00.016450797Z",
     "start_time": "2023-08-29T13:50:59.739998375Z"
    },
    "scrolled": true
   },
   "outputs": [
    {
     "data": {
      "text/plain": [
       "<Axes: >"
      ]
     },
     "execution_count": 43,
     "metadata": {},
     "output_type": "execute_result"
    },
    {
     "data": {
      "image/png": "[encoded data removed]",
      "text/plain": [
       "<Figure size 640x480 with 1 Axes>"
      ]
     },
     "metadata": {},
     "output_type": "display_data"
    }
   ],
   "source": [
    "# victim Age distibution\n",
    "sns.boxplot(data=df.vict_age)"
   ]
  },
  {
   "cell_type": "code",
   "execution_count": 44,
   "id": "e7d41d8d",
   "metadata": {
    "ExecuteTime": {
     "end_time": "2023-08-29T13:51:07.519728459Z",
     "start_time": "2023-08-29T13:51:07.378494208Z"
    },
    "scrolled": true
   },
   "outputs": [
    {
     "data": {
      "text/plain": [
       "count     662009\n",
       "unique         5\n",
       "top            M\n",
       "freq      315399\n",
       "Name: vict_sex, dtype: object"
      ]
     },
     "execution_count": 44,
     "metadata": {},
     "output_type": "execute_result"
    }
   ],
   "source": [
    "# \"vict_sex\" col\n",
    "df.vict_sex.describe()"
   ]
  },
  {
   "cell_type": "code",
   "execution_count": 48,
   "id": "cc76224e",
   "metadata": {},
   "outputs": [
    {
     "data": {
      "text/plain": [
       "M    315399\n",
       "F    281376\n",
       "X     65145\n",
       "H        88\n",
       "-         1\n",
       "Name: vict_sex, dtype: int64"
      ]
     },
     "execution_count": 48,
     "metadata": {},
     "output_type": "execute_result"
    }
   ],
   "source": [
    "df[\"vict_sex\"].value_counts()"
   ]
  },
  {
   "cell_type": "code",
   "execution_count": 45,
   "id": "9d674313",
   "metadata": {
    "ExecuteTime": {
     "end_time": "2023-08-29T13:51:31.637780330Z",
     "start_time": "2023-08-29T13:51:30.854761049Z"
    }
   },
   "outputs": [
    {
     "data": {
      "text/plain": [
       "<Axes: xlabel='vict_sex', ylabel='count'>"
      ]
     },
     "execution_count": 45,
     "metadata": {},
     "output_type": "execute_result"
    },
    {
     "data": {
      "image/png": "[encoded data removed]",
      "text/plain": [
       "<Figure size 640x480 with 1 Axes>"
      ]
     },
     "metadata": {},
     "output_type": "display_data"
    }
   ],
   "source": [
    "sns.countplot(data=df, x=\"vict_sex\")"
   ]
  },
  {
   "cell_type": "code",
   "execution_count": 46,
   "id": "70883115",
   "metadata": {
    "ExecuteTime": {
     "end_time": "2023-08-29T13:51:59.637459946Z",
     "start_time": "2023-08-29T13:51:59.342347451Z"
    }
   },
   "outputs": [
    {
     "data": {
      "text/plain": [
       "M    315399\n",
       "F    281376\n",
       "X    164807\n",
       "Name: vict_sex, dtype: int64"
      ]
     },
     "execution_count": 46,
     "metadata": {},
     "output_type": "execute_result"
    }
   ],
   "source": [
    "# since \"H\" is not a universal code for gender \n",
    "# replace \"H\" , \"-\" and np.nan with \"X\" for unspecified\n",
    "df[\"vict_sex\"] = df[\"vict_sex\"].replace([\"H\", \"-\", np.nan], \"X\")\n",
    "df[\"vict_sex\"].value_counts()"
   ]
  },
  {
   "cell_type": "code",
   "execution_count": 47,
   "id": "91cd212a",
   "metadata": {
    "ExecuteTime": {
     "end_time": "2023-08-29T13:52:07.976693902Z",
     "start_time": "2023-08-29T13:52:07.892102154Z"
    },
    "scrolled": true
   },
   "outputs": [
    {
     "data": {
      "text/plain": [
       "count     662003\n",
       "unique        20\n",
       "top            H\n",
       "freq      233935\n",
       "Name: vict_descent, dtype: object"
      ]
     },
     "execution_count": 47,
     "metadata": {},
     "output_type": "execute_result"
    }
   ],
   "source": [
    "# \"vict_descent\" col\n",
    "df[\"vict_descent\"].describe()"
   ]
  },
  {
   "cell_type": "code",
   "execution_count": 52,
   "id": "04a2d18f",
   "metadata": {},
   "outputs": [
    {
     "data": {
      "text/plain": [
       "H    233935\n",
       "W    156128\n",
       "B    109245\n",
       "X     72183\n",
       "O     60284\n",
       "A     16635\n",
       "K      4053\n",
       "F      3174\n",
       "C      2864\n",
       "J      1070\n",
       "V       771\n",
       "I       730\n",
       "Z       370\n",
       "P       207\n",
       "U       157\n",
       "D        53\n",
       "G        51\n",
       "L        47\n",
       "S        44\n",
       "-         2\n",
       "Name: vict_descent, dtype: int64"
      ]
     },
     "execution_count": 52,
     "metadata": {},
     "output_type": "execute_result"
    }
   ],
   "source": [
    "df.vict_descent.value_counts()"
   ]
  },
  {
   "cell_type": "code",
   "execution_count": 48,
   "id": "08ea7dee",
   "metadata": {
    "ExecuteTime": {
     "end_time": "2023-08-29T13:52:36.501851689Z",
     "start_time": "2023-08-29T13:52:36.369035587Z"
    }
   },
   "outputs": [],
   "source": [
    "# replace \"-\" and np.nan with \"X\" for unknown \n",
    "df[\"vict_descent\"] = df[\"vict_descent\"].replace([\"-\", np.nan], \"X\")"
   ]
  },
  {
   "cell_type": "code",
   "execution_count": 49,
   "id": "7cb8c598",
   "metadata": {
    "ExecuteTime": {
     "end_time": "2023-08-29T13:52:45.681649956Z",
     "start_time": "2023-08-29T13:52:44.140479147Z"
    },
    "scrolled": true
   },
   "outputs": [
    {
     "data": {
      "text/plain": [
       "<Axes: xlabel='vict_descent', ylabel='count'>"
      ]
     },
     "execution_count": 49,
     "metadata": {},
     "output_type": "execute_result"
    },
    {
     "data": {
      "image/png": "[encoded data removed]",
      "text/plain": [
       "<Figure size 640x480 with 1 Axes>"
      ]
     },
     "metadata": {},
     "output_type": "display_data"
    }
   ],
   "source": [
    "sns.countplot(data=df, x=\"vict_descent\")"
   ]
  },
  {
   "cell_type": "code",
   "execution_count": 50,
   "id": "53f535a0",
   "metadata": {
    "ExecuteTime": {
     "end_time": "2023-08-29T13:53:31.343820573Z",
     "start_time": "2023-08-29T13:53:31.235105088Z"
    }
   },
   "outputs": [
    {
     "data": {
      "text/plain": [
       "count    761573.000000\n",
       "mean        305.904869\n",
       "std         216.767951\n",
       "min         101.000000\n",
       "25%         101.000000\n",
       "50%         203.000000\n",
       "75%         501.000000\n",
       "max         974.000000\n",
       "Name: permis_code, dtype: float64"
      ]
     },
     "execution_count": 50,
     "metadata": {},
     "output_type": "execute_result"
    }
   ],
   "source": [
    "# Premis Cd : The type of structure, vehicle, or location where the crime took place.\n",
    "# \"permis_code\"\n",
    "df.permis_code.describe()\n"
   ]
  },
  {
   "cell_type": "code",
   "execution_count": 51,
   "id": "f04d6d9c",
   "metadata": {
    "ExecuteTime": {
     "end_time": "2023-08-29T13:53:35.150052284Z",
     "start_time": "2023-08-29T13:53:34.980103626Z"
    },
    "scrolled": true
   },
   "outputs": [
    {
     "data": {
      "text/plain": [
       "count     761573.0\n",
       "unique       312.0\n",
       "top          101.0\n",
       "freq      191718.0\n",
       "Name: permis_code, dtype: float64"
      ]
     },
     "execution_count": 51,
     "metadata": {},
     "output_type": "execute_result"
    }
   ],
   "source": [
    "df.permis_code.astype(\"object\").describe()"
   ]
  },
  {
   "cell_type": "code",
   "execution_count": 52,
   "id": "94e816bd",
   "metadata": {
    "ExecuteTime": {
     "end_time": "2023-08-29T13:53:43.175490808Z",
     "start_time": "2023-08-29T13:53:42.869077744Z"
    },
    "scrolled": true
   },
   "outputs": [
    {
     "data": {
      "text/html": [
       "<div>\n",
       "<style scoped>\n",
       "    .dataframe tbody tr th:only-of-type {\n",
       "        vertical-align: middle;\n",
       "    }\n",
       "\n",
       "    .dataframe tbody tr th {\n",
       "        vertical-align: top;\n",
       "    }\n",
       "\n",
       "    .dataframe thead th {\n",
       "        text-align: right;\n",
       "    }\n",
       "</style>\n",
       "<table border=\"1\" class=\"dataframe\">\n",
       "  <thead>\n",
       "    <tr style=\"text-align: right;\">\n",
       "      <th></th>\n",
       "      <th>time_occ</th>\n",
       "      <th>date_rpdt</th>\n",
       "      <th>area_name</th>\n",
       "      <th>sub_area_code</th>\n",
       "      <th>crime_class</th>\n",
       "      <th>crime_code</th>\n",
       "      <th>crime_dsp</th>\n",
       "      <th>suspect_mo_code</th>\n",
       "      <th>vict_age</th>\n",
       "      <th>vict_sex</th>\n",
       "      <th>vict_descent</th>\n",
       "      <th>permis_code</th>\n",
       "      <th>permis_dsp</th>\n",
       "      <th>weapon_code</th>\n",
       "      <th>weapon_dsp</th>\n",
       "      <th>case_status</th>\n",
       "      <th>case_status_dsp</th>\n",
       "      <th>crime_cd1</th>\n",
       "      <th>crime_cd2</th>\n",
       "      <th>crime_cd3</th>\n",
       "      <th>crime_cd4</th>\n",
       "      <th>location</th>\n",
       "      <th>street</th>\n",
       "      <th>lat</th>\n",
       "      <th>lng</th>\n",
       "    </tr>\n",
       "  </thead>\n",
       "  <tbody>\n",
       "    <tr>\n",
       "      <th>42941</th>\n",
       "      <td>2020-03-16 14:00:00</td>\n",
       "      <td>2020-03-16</td>\n",
       "      <td>Hollywood</td>\n",
       "      <td>647</td>\n",
       "      <td>1</td>\n",
       "      <td>510</td>\n",
       "      <td>VEHICLE - STOLEN</td>\n",
       "      <td>NaN</td>\n",
       "      <td>0</td>\n",
       "      <td>X</td>\n",
       "      <td>X</td>\n",
       "      <td>NaN</td>\n",
       "      <td>NaN</td>\n",
       "      <td>NaN</td>\n",
       "      <td>NaN</td>\n",
       "      <td>IC</td>\n",
       "      <td>Invest Cont</td>\n",
       "      <td>510.0</td>\n",
       "      <td>NaN</td>\n",
       "      <td>NaN</td>\n",
       "      <td>NaN</td>\n",
       "      <td>SUNSET                       BL</td>\n",
       "      <td>GOWER</td>\n",
       "      <td>34.0980</td>\n",
       "      <td>-118.3223</td>\n",
       "    </tr>\n",
       "    <tr>\n",
       "      <th>115945</th>\n",
       "      <td>2020-10-20 20:00:00</td>\n",
       "      <td>2020-10-21</td>\n",
       "      <td>Mission</td>\n",
       "      <td>1966</td>\n",
       "      <td>1</td>\n",
       "      <td>510</td>\n",
       "      <td>VEHICLE - STOLEN</td>\n",
       "      <td>NaN</td>\n",
       "      <td>0</td>\n",
       "      <td>X</td>\n",
       "      <td>X</td>\n",
       "      <td>NaN</td>\n",
       "      <td>NaN</td>\n",
       "      <td>NaN</td>\n",
       "      <td>NaN</td>\n",
       "      <td>IC</td>\n",
       "      <td>Invest Cont</td>\n",
       "      <td>510.0</td>\n",
       "      <td>NaN</td>\n",
       "      <td>NaN</td>\n",
       "      <td>NaN</td>\n",
       "      <td>9400    VAN NUYS                     BL</td>\n",
       "      <td>NaN</td>\n",
       "      <td>34.2410</td>\n",
       "      <td>-118.4502</td>\n",
       "    </tr>\n",
       "    <tr>\n",
       "      <th>341068</th>\n",
       "      <td>2021-12-22 04:30:00</td>\n",
       "      <td>2021-12-22</td>\n",
       "      <td>Hollenbeck</td>\n",
       "      <td>418</td>\n",
       "      <td>1</td>\n",
       "      <td>420</td>\n",
       "      <td>THEFT FROM MOTOR VEHICLE - PETTY ($950 &amp; UNDER)</td>\n",
       "      <td>NaN</td>\n",
       "      <td>0</td>\n",
       "      <td>X</td>\n",
       "      <td>X</td>\n",
       "      <td>NaN</td>\n",
       "      <td>NaN</td>\n",
       "      <td>NaN</td>\n",
       "      <td>NaN</td>\n",
       "      <td>IC</td>\n",
       "      <td>Invest Cont</td>\n",
       "      <td>420.0</td>\n",
       "      <td>NaN</td>\n",
       "      <td>NaN</td>\n",
       "      <td>NaN</td>\n",
       "      <td>3900    VAN HORNE                    AV</td>\n",
       "      <td>NaN</td>\n",
       "      <td>34.0948</td>\n",
       "      <td>-118.1751</td>\n",
       "    </tr>\n",
       "    <tr>\n",
       "      <th>379788</th>\n",
       "      <td>2021-03-27 12:00:00</td>\n",
       "      <td>2021-03-27</td>\n",
       "      <td>Wilshire</td>\n",
       "      <td>759</td>\n",
       "      <td>1</td>\n",
       "      <td>420</td>\n",
       "      <td>THEFT FROM MOTOR VEHICLE - PETTY ($950 &amp; UNDER)</td>\n",
       "      <td>NaN</td>\n",
       "      <td>0</td>\n",
       "      <td>X</td>\n",
       "      <td>X</td>\n",
       "      <td>NaN</td>\n",
       "      <td>NaN</td>\n",
       "      <td>NaN</td>\n",
       "      <td>NaN</td>\n",
       "      <td>IC</td>\n",
       "      <td>Invest Cont</td>\n",
       "      <td>420.0</td>\n",
       "      <td>NaN</td>\n",
       "      <td>NaN</td>\n",
       "      <td>NaN</td>\n",
       "      <td>1200    WESTCHESTER                  PL</td>\n",
       "      <td>NaN</td>\n",
       "      <td>34.0472</td>\n",
       "      <td>-118.3189</td>\n",
       "    </tr>\n",
       "    <tr>\n",
       "      <th>385928</th>\n",
       "      <td>2021-01-11 14:00:00</td>\n",
       "      <td>2021-01-12</td>\n",
       "      <td>Pacific</td>\n",
       "      <td>1428</td>\n",
       "      <td>2</td>\n",
       "      <td>946</td>\n",
       "      <td>OTHER MISCELLANEOUS CRIME</td>\n",
       "      <td>NaN</td>\n",
       "      <td>0</td>\n",
       "      <td>X</td>\n",
       "      <td>X</td>\n",
       "      <td>NaN</td>\n",
       "      <td>NaN</td>\n",
       "      <td>NaN</td>\n",
       "      <td>NaN</td>\n",
       "      <td>IC</td>\n",
       "      <td>Invest Cont</td>\n",
       "      <td>946.0</td>\n",
       "      <td>NaN</td>\n",
       "      <td>NaN</td>\n",
       "      <td>NaN</td>\n",
       "      <td>3200    OVERLAND                     AV</td>\n",
       "      <td>NaN</td>\n",
       "      <td>34.0265</td>\n",
       "      <td>-118.4184</td>\n",
       "    </tr>\n",
       "    <tr>\n",
       "      <th>501810</th>\n",
       "      <td>2022-10-26 21:00:00</td>\n",
       "      <td>2022-10-27</td>\n",
       "      <td>Foothill</td>\n",
       "      <td>1651</td>\n",
       "      <td>1</td>\n",
       "      <td>520</td>\n",
       "      <td>VEHICLE - ATTEMPT STOLEN</td>\n",
       "      <td>NaN</td>\n",
       "      <td>0</td>\n",
       "      <td>X</td>\n",
       "      <td>X</td>\n",
       "      <td>NaN</td>\n",
       "      <td>NaN</td>\n",
       "      <td>NaN</td>\n",
       "      <td>NaN</td>\n",
       "      <td>IC</td>\n",
       "      <td>Invest Cont</td>\n",
       "      <td>520.0</td>\n",
       "      <td>NaN</td>\n",
       "      <td>NaN</td>\n",
       "      <td>NaN</td>\n",
       "      <td>9800    LAUREL CANYON                BL</td>\n",
       "      <td>NaN</td>\n",
       "      <td>34.2482</td>\n",
       "      <td>-118.4209</td>\n",
       "    </tr>\n",
       "    <tr>\n",
       "      <th>507044</th>\n",
       "      <td>2022-01-02 14:30:00</td>\n",
       "      <td>2022-01-02</td>\n",
       "      <td>Newton</td>\n",
       "      <td>1395</td>\n",
       "      <td>1</td>\n",
       "      <td>520</td>\n",
       "      <td>VEHICLE - ATTEMPT STOLEN</td>\n",
       "      <td>NaN</td>\n",
       "      <td>0</td>\n",
       "      <td>X</td>\n",
       "      <td>X</td>\n",
       "      <td>NaN</td>\n",
       "      <td>NaN</td>\n",
       "      <td>NaN</td>\n",
       "      <td>NaN</td>\n",
       "      <td>IC</td>\n",
       "      <td>Invest Cont</td>\n",
       "      <td>520.0</td>\n",
       "      <td>NaN</td>\n",
       "      <td>NaN</td>\n",
       "      <td>NaN</td>\n",
       "      <td>400 E  68TH                         ST</td>\n",
       "      <td>NaN</td>\n",
       "      <td>33.9779</td>\n",
       "      <td>-118.2681</td>\n",
       "    </tr>\n",
       "    <tr>\n",
       "      <th>539376</th>\n",
       "      <td>2022-09-30 17:00:00</td>\n",
       "      <td>2022-09-30</td>\n",
       "      <td>Southeast</td>\n",
       "      <td>1871</td>\n",
       "      <td>1</td>\n",
       "      <td>420</td>\n",
       "      <td>THEFT FROM MOTOR VEHICLE - PETTY ($950 &amp; UNDER)</td>\n",
       "      <td>NaN</td>\n",
       "      <td>0</td>\n",
       "      <td>X</td>\n",
       "      <td>X</td>\n",
       "      <td>NaN</td>\n",
       "      <td>NaN</td>\n",
       "      <td>NaN</td>\n",
       "      <td>NaN</td>\n",
       "      <td>IC</td>\n",
       "      <td>Invest Cont</td>\n",
       "      <td>420.0</td>\n",
       "      <td>NaN</td>\n",
       "      <td>NaN</td>\n",
       "      <td>NaN</td>\n",
       "      <td>14900 S  MENLO                        AV</td>\n",
       "      <td>NaN</td>\n",
       "      <td>33.8964</td>\n",
       "      <td>-118.2892</td>\n",
       "    </tr>\n",
       "    <tr>\n",
       "      <th>644097</th>\n",
       "      <td>2023-05-09 18:25:00</td>\n",
       "      <td>2023-05-10</td>\n",
       "      <td>Northeast</td>\n",
       "      <td>1177</td>\n",
       "      <td>1</td>\n",
       "      <td>420</td>\n",
       "      <td>THEFT FROM MOTOR VEHICLE - PETTY ($950 &amp; UNDER)</td>\n",
       "      <td>NaN</td>\n",
       "      <td>0</td>\n",
       "      <td>X</td>\n",
       "      <td>X</td>\n",
       "      <td>NaN</td>\n",
       "      <td>NaN</td>\n",
       "      <td>NaN</td>\n",
       "      <td>NaN</td>\n",
       "      <td>IC</td>\n",
       "      <td>Invest Cont</td>\n",
       "      <td>420.0</td>\n",
       "      <td>NaN</td>\n",
       "      <td>NaN</td>\n",
       "      <td>NaN</td>\n",
       "      <td>2200 N  FIGUEROA                     ST</td>\n",
       "      <td>NaN</td>\n",
       "      <td>34.0884</td>\n",
       "      <td>-118.2258</td>\n",
       "    </tr>\n",
       "  </tbody>\n",
       "</table>\n",
       "</div>"
      ],
      "text/plain": [
       "                  time_occ  date_rpdt   area_name  sub_area_code  crime_class  \\\n",
       "42941  2020-03-16 14:00:00 2020-03-16   Hollywood            647            1   \n",
       "115945 2020-10-20 20:00:00 2020-10-21     Mission           1966            1   \n",
       "341068 2021-12-22 04:30:00 2021-12-22  Hollenbeck            418            1   \n",
       "379788 2021-03-27 12:00:00 2021-03-27    Wilshire            759            1   \n",
       "385928 2021-01-11 14:00:00 2021-01-12     Pacific           1428            2   \n",
       "501810 2022-10-26 21:00:00 2022-10-27    Foothill           1651            1   \n",
       "507044 2022-01-02 14:30:00 2022-01-02      Newton           1395            1   \n",
       "539376 2022-09-30 17:00:00 2022-09-30   Southeast           1871            1   \n",
       "644097 2023-05-09 18:25:00 2023-05-10   Northeast           1177            1   \n",
       "\n",
       "        crime_code                                        crime_dsp  \\\n",
       "42941          510                                 VEHICLE - STOLEN   \n",
       "115945         510                                 VEHICLE - STOLEN   \n",
       "341068         420  THEFT FROM MOTOR VEHICLE - PETTY ($950 & UNDER)   \n",
       "379788         420  THEFT FROM MOTOR VEHICLE - PETTY ($950 & UNDER)   \n",
       "385928         946                        OTHER MISCELLANEOUS CRIME   \n",
       "501810         520                         VEHICLE - ATTEMPT STOLEN   \n",
       "507044         520                         VEHICLE - ATTEMPT STOLEN   \n",
       "539376         420  THEFT FROM MOTOR VEHICLE - PETTY ($950 & UNDER)   \n",
       "644097         420  THEFT FROM MOTOR VEHICLE - PETTY ($950 & UNDER)   \n",
       "\n",
       "       suspect_mo_code  vict_age vict_sex vict_descent  permis_code  \\\n",
       "42941              NaN         0        X            X          NaN   \n",
       "115945             NaN         0        X            X          NaN   \n",
       "341068             NaN         0        X            X          NaN   \n",
       "379788             NaN         0        X            X          NaN   \n",
       "385928             NaN         0        X            X          NaN   \n",
       "501810             NaN         0        X            X          NaN   \n",
       "507044             NaN         0        X            X          NaN   \n",
       "539376             NaN         0        X            X          NaN   \n",
       "644097             NaN         0        X            X          NaN   \n",
       "\n",
       "       permis_dsp  weapon_code weapon_dsp case_status case_status_dsp  \\\n",
       "42941         NaN          NaN        NaN          IC     Invest Cont   \n",
       "115945        NaN          NaN        NaN          IC     Invest Cont   \n",
       "341068        NaN          NaN        NaN          IC     Invest Cont   \n",
       "379788        NaN          NaN        NaN          IC     Invest Cont   \n",
       "385928        NaN          NaN        NaN          IC     Invest Cont   \n",
       "501810        NaN          NaN        NaN          IC     Invest Cont   \n",
       "507044        NaN          NaN        NaN          IC     Invest Cont   \n",
       "539376        NaN          NaN        NaN          IC     Invest Cont   \n",
       "644097        NaN          NaN        NaN          IC     Invest Cont   \n",
       "\n",
       "        crime_cd1  crime_cd2  crime_cd3  crime_cd4  \\\n",
       "42941       510.0        NaN        NaN        NaN   \n",
       "115945      510.0        NaN        NaN        NaN   \n",
       "341068      420.0        NaN        NaN        NaN   \n",
       "379788      420.0        NaN        NaN        NaN   \n",
       "385928      946.0        NaN        NaN        NaN   \n",
       "501810      520.0        NaN        NaN        NaN   \n",
       "507044      520.0        NaN        NaN        NaN   \n",
       "539376      420.0        NaN        NaN        NaN   \n",
       "644097      420.0        NaN        NaN        NaN   \n",
       "\n",
       "                                        location street      lat       lng  \n",
       "42941            SUNSET                       BL  GOWER  34.0980 -118.3223  \n",
       "115945   9400    VAN NUYS                     BL    NaN  34.2410 -118.4502  \n",
       "341068   3900    VAN HORNE                    AV    NaN  34.0948 -118.1751  \n",
       "379788   1200    WESTCHESTER                  PL    NaN  34.0472 -118.3189  \n",
       "385928   3200    OVERLAND                     AV    NaN  34.0265 -118.4184  \n",
       "501810   9800    LAUREL CANYON                BL    NaN  34.2482 -118.4209  \n",
       "507044    400 E  68TH                         ST    NaN  33.9779 -118.2681  \n",
       "539376  14900 S  MENLO                        AV    NaN  33.8964 -118.2892  \n",
       "644097   2200 N  FIGUEROA                     ST    NaN  34.0884 -118.2258  "
      ]
     },
     "execution_count": 52,
     "metadata": {},
     "output_type": "execute_result"
    }
   ],
   "source": [
    "# 9 missing values\n",
    "df[df[\"permis_code\"].isna()]"
   ]
  },
  {
   "cell_type": "code",
   "execution_count": 53,
   "id": "81000535",
   "metadata": {
    "ExecuteTime": {
     "end_time": "2023-08-29T13:57:13.418553339Z",
     "start_time": "2023-08-29T13:57:13.152370410Z"
    }
   },
   "outputs": [
    {
     "data": {
      "text/plain": [
       "9"
      ]
     },
     "execution_count": 53,
     "metadata": {},
     "output_type": "execute_result"
    }
   ],
   "source": [
    "df[\"permis_code\"].isna().sum()"
   ]
  },
  {
   "cell_type": "code",
   "execution_count": 54,
   "id": "c2e7ed23",
   "metadata": {
    "ExecuteTime": {
     "end_time": "2023-08-29T13:57:20.447773676Z",
     "start_time": "2023-08-29T13:57:20.351521395Z"
    }
   },
   "outputs": [
    {
     "data": {
      "text/plain": [
       "count     761138\n",
       "unique       306\n",
       "top       STREET\n",
       "freq      191718\n",
       "Name: permis_dsp, dtype: object"
      ]
     },
     "execution_count": 54,
     "metadata": {},
     "output_type": "execute_result"
    }
   ],
   "source": [
    "# \"permis_dsp\"\n",
    "df[\"permis_dsp\"].describe()"
   ]
  },
  {
   "cell_type": "code",
   "execution_count": 59,
   "id": "1c8f32eb",
   "metadata": {
    "ExecuteTime": {
     "end_time": "2023-08-29T13:59:28.263785961Z",
     "start_time": "2023-08-29T13:59:28.061387963Z"
    }
   },
   "outputs": [
    {
     "data": {
      "text/plain": [
       "444"
      ]
     },
     "execution_count": 59,
     "metadata": {},
     "output_type": "execute_result"
    }
   ],
   "source": [
    "# 444 missing values\n",
    "df[\"permis_dsp\"].isna().sum()\n"
   ]
  },
  {
   "cell_type": "code",
   "execution_count": 60,
   "id": "4dbbf736",
   "metadata": {
    "ExecuteTime": {
     "end_time": "2023-08-29T13:59:56.415671333Z",
     "start_time": "2023-08-29T13:59:56.259491336Z"
    }
   },
   "outputs": [],
   "source": [
    "# since there is no document explaining permis_code we replace nan with \"no_description\"\n",
    "df[\"permis_dsp\"].replace(np.nan, \"no description\", inplace=True)"
   ]
  },
  {
   "cell_type": "code",
   "execution_count": 61,
   "id": "3bc1c008",
   "metadata": {
    "ExecuteTime": {
     "end_time": "2023-08-29T14:02:14.725451879Z",
     "start_time": "2023-08-29T14:02:14.472812413Z"
    }
   },
   "outputs": [],
   "source": [
    "# we can delete 'permis_code' column\n",
    "df.drop('permis_code', axis=1, inplace=True)"
   ]
  },
  {
   "cell_type": "code",
   "execution_count": 64,
   "id": "27b4220f",
   "metadata": {},
   "outputs": [
    {
     "data": {
      "text/plain": [
       "0"
      ]
     },
     "execution_count": 64,
     "metadata": {},
     "output_type": "execute_result"
    }
   ],
   "source": []
  },
  {
   "cell_type": "code",
   "execution_count": 62,
   "id": "8eb0cd76",
   "metadata": {
    "ExecuteTime": {
     "end_time": "2023-08-29T14:02:32.555209600Z",
     "start_time": "2023-08-29T14:02:32.474227100Z"
    },
    "scrolled": true
   },
   "outputs": [
    {
     "data": {
      "text/plain": [
       "count    264752.000000\n",
       "mean        362.598054\n",
       "std         123.743438\n",
       "min         101.000000\n",
       "25%         309.000000\n",
       "50%         400.000000\n",
       "75%         400.000000\n",
       "max         516.000000\n",
       "Name: weapon_code, dtype: float64"
      ]
     },
     "execution_count": 62,
     "metadata": {},
     "output_type": "execute_result"
    }
   ],
   "source": [
    "# \"weapon_code\"\n",
    "df[\"weapon_code\"].describe()"
   ]
  },
  {
   "cell_type": "code",
   "execution_count": 63,
   "id": "9a03ecac",
   "metadata": {
    "ExecuteTime": {
     "end_time": "2023-08-29T14:02:48.797722206Z",
     "start_time": "2023-08-29T14:02:48.561255899Z"
    }
   },
   "outputs": [
    {
     "data": {
      "text/plain": [
       "496830"
      ]
     },
     "execution_count": 63,
     "metadata": {},
     "output_type": "execute_result"
    }
   ],
   "source": [
    "df[\"weapon_code\"].isna().sum()"
   ]
  },
  {
   "cell_type": "code",
   "execution_count": 64,
   "id": "efef1373",
   "metadata": {
    "ExecuteTime": {
     "end_time": "2023-08-29T14:02:56.717274359Z",
     "start_time": "2023-08-29T14:02:56.686761218Z"
    }
   },
   "outputs": [
    {
     "data": {
      "text/plain": [
       "count                                             264752\n",
       "unique                                                79\n",
       "top       STRONG-ARM (HANDS, FIST, FEET OR BODILY FORCE)\n",
       "freq                                              142191\n",
       "Name: weapon_dsp, dtype: object"
      ]
     },
     "execution_count": 64,
     "metadata": {},
     "output_type": "execute_result"
    }
   ],
   "source": [
    "# \"weapon_dsp\"\n",
    "df[\"weapon_dsp\"].describe()"
   ]
  },
  {
   "cell_type": "code",
   "execution_count": 65,
   "id": "2e9caba5",
   "metadata": {
    "ExecuteTime": {
     "end_time": "2023-08-29T14:03:28.584896321Z",
     "start_time": "2023-08-29T14:03:28.515877920Z"
    }
   },
   "outputs": [
    {
     "data": {
      "text/plain": [
       "496830"
      ]
     },
     "execution_count": 65,
     "metadata": {},
     "output_type": "execute_result"
    }
   ],
   "source": [
    "df[\"weapon_dsp\"].isna().sum()"
   ]
  },
  {
   "cell_type": "code",
   "execution_count": 66,
   "id": "d9051f25",
   "metadata": {
    "ExecuteTime": {
     "end_time": "2023-08-29T14:05:10.327526138Z",
     "start_time": "2023-08-29T14:05:09.993272028Z"
    }
   },
   "outputs": [],
   "source": [
    "# replace nan with \"no weapon\"\n",
    "df[\"weapon_dsp\"].replace(np.nan, \"no_weapon\", inplace=True)\n",
    "df[\"weapon_dsp\"].isna().sum()\n",
    "# delete 'weapon_code' column\n",
    "df.drop('weapon_code', axis=1, inplace=True)"
   ]
  },
  {
   "cell_type": "code",
   "execution_count": 67,
   "id": "3f82aa03",
   "metadata": {
    "ExecuteTime": {
     "end_time": "2023-08-29T14:05:20.729367488Z",
     "start_time": "2023-08-29T14:05:20.651174050Z"
    }
   },
   "outputs": [
    {
     "data": {
      "text/plain": [
       "count     761582\n",
       "unique         6\n",
       "top           IC\n",
       "freq      609421\n",
       "Name: case_status, dtype: object"
      ]
     },
     "execution_count": 67,
     "metadata": {},
     "output_type": "execute_result"
    }
   ],
   "source": [
    "# \"case_status\"\n",
    "df[\"case_status\"].describe()\n"
   ]
  },
  {
   "cell_type": "code",
   "execution_count": 68,
   "id": "7e6595eb",
   "metadata": {
    "ExecuteTime": {
     "end_time": "2023-08-29T14:05:30.100951447Z",
     "start_time": "2023-08-29T14:05:30.090899854Z"
    }
   },
   "outputs": [
    {
     "data": {
      "text/plain": [
       "IC    609421\n",
       "AO     81958\n",
       "AA     66510\n",
       "JA      2407\n",
       "JO      1283\n",
       "CC         3\n",
       "Name: case_status, dtype: int64"
      ]
     },
     "execution_count": 68,
     "metadata": {},
     "output_type": "execute_result"
    }
   ],
   "source": [
    "# no missing values\n",
    "df[\"case_status\"].value_counts()"
   ]
  },
  {
   "cell_type": "code",
   "execution_count": 69,
   "id": "90712079",
   "metadata": {
    "ExecuteTime": {
     "end_time": "2023-08-29T14:06:07.214508232Z",
     "start_time": "2023-08-29T14:06:07.156888610Z"
    },
    "scrolled": true
   },
   "outputs": [
    {
     "data": {
      "text/plain": [
       "count          761582\n",
       "unique              6\n",
       "top       Invest Cont\n",
       "freq           609421\n",
       "Name: case_status_dsp, dtype: object"
      ]
     },
     "execution_count": 69,
     "metadata": {},
     "output_type": "execute_result"
    }
   ],
   "source": [
    "# \"case_status_dsp\"\n",
    "df[\"case_status_dsp\"].describe()"
   ]
  },
  {
   "cell_type": "code",
   "execution_count": 70,
   "id": "e67bd8e6",
   "metadata": {
    "ExecuteTime": {
     "end_time": "2023-08-29T14:06:10.979683846Z",
     "start_time": "2023-08-29T14:06:10.966088172Z"
    },
    "scrolled": true
   },
   "outputs": [
    {
     "data": {
      "text/plain": [
       "Invest Cont     609421\n",
       "Adult Other      81958\n",
       "Adult Arrest     66510\n",
       "Juv Arrest        2407\n",
       "Juv Other         1283\n",
       "UNK                  3\n",
       "Name: case_status_dsp, dtype: int64"
      ]
     },
     "execution_count": 70,
     "metadata": {},
     "output_type": "execute_result"
    }
   ],
   "source": [
    "df[\"case_status_dsp\"].value_counts()"
   ]
  },
  {
   "cell_type": "code",
   "execution_count": 71,
   "id": "9ffec23b",
   "metadata": {
    "ExecuteTime": {
     "end_time": "2023-08-29T14:06:28.175910588Z",
     "start_time": "2023-08-29T14:06:28.013329688Z"
    }
   },
   "outputs": [],
   "source": [
    "# both \"case\" column represent the same piece of information  \n",
    "# remove \"case_status\" and rename \"case_status_dsp\" to \"case_status\"\n",
    "df.drop(\"case_status\", axis=1, inplace=True)\n",
    "df.rename(columns={\"case_status_dsp\": \"case_status\"}, inplace=True)"
   ]
  },
  {
   "cell_type": "code",
   "execution_count": 72,
   "id": "7127d9ff",
   "metadata": {
    "ExecuteTime": {
     "end_time": "2023-08-29T14:06:32.361748737Z",
     "start_time": "2023-08-29T14:06:32.300464653Z"
    },
    "scrolled": false
   },
   "outputs": [
    {
     "data": {
      "text/plain": [
       "Index(['time_occ', 'date_rpdt', 'area_name', 'sub_area_code', 'crime_class',\n",
       "       'crime_code', 'crime_dsp', 'suspect_mo_code', 'vict_age', 'vict_sex',\n",
       "       'vict_descent', 'permis_dsp', 'weapon_dsp', 'case_status', 'crime_cd1',\n",
       "       'crime_cd2', 'crime_cd3', 'crime_cd4', 'location', 'street', 'lat',\n",
       "       'lng'],\n",
       "      dtype='object')"
      ]
     },
     "execution_count": 72,
     "metadata": {},
     "output_type": "execute_result"
    }
   ],
   "source": [
    "df.columns"
   ]
  },
  {
   "cell_type": "code",
   "execution_count": 73,
   "id": "37ae3409",
   "metadata": {
    "ExecuteTime": {
     "end_time": "2023-08-29T14:06:50.181395214Z",
     "start_time": "2023-08-29T14:06:50.006915410Z"
    }
   },
   "outputs": [
    {
     "data": {
      "text/plain": [
       "count     761572.0\n",
       "unique       140.0\n",
       "top          510.0\n",
       "freq       81417.0\n",
       "Name: crime_cd1, dtype: float64"
      ]
     },
     "execution_count": 73,
     "metadata": {},
     "output_type": "execute_result"
    }
   ],
   "source": [
    "# \"crime_cd1\"\n",
    "df[\"crime_cd1\"].astype(\"object\").describe()"
   ]
  },
  {
   "cell_type": "code",
   "execution_count": 74,
   "id": "58bae183",
   "metadata": {
    "ExecuteTime": {
     "end_time": "2023-08-29T14:06:53.818052760Z",
     "start_time": "2023-08-29T14:06:53.649471793Z"
    }
   },
   "outputs": [],
   "source": [
    "# \"crime_cd1\" is just a replication of crime_code so we drop it\n",
    "df.drop(\"crime_cd1\", axis=1, inplace=True)"
   ]
  },
  {
   "cell_type": "code",
   "execution_count": 75,
   "id": "8aba9fd6",
   "metadata": {
    "ExecuteTime": {
     "end_time": "2023-08-29T14:06:58.992777745Z",
     "start_time": "2023-08-29T14:06:58.925118708Z"
    },
    "scrolled": true
   },
   "outputs": [
    {
     "data": {
      "text/plain": [
       "count    56342.000000\n",
       "mean       957.394981\n",
       "std        111.691334\n",
       "min        210.000000\n",
       "25%        998.000000\n",
       "50%        998.000000\n",
       "75%        998.000000\n",
       "max        999.000000\n",
       "Name: crime_cd2, dtype: float64"
      ]
     },
     "execution_count": 75,
     "metadata": {},
     "output_type": "execute_result"
    }
   ],
   "source": [
    "# \"crime_cd2\"\n",
    "df.crime_cd2.describe()"
   ]
  },
  {
   "cell_type": "code",
   "execution_count": 76,
   "id": "2330103e",
   "metadata": {
    "ExecuteTime": {
     "end_time": "2023-08-29T14:07:12.031977819Z",
     "start_time": "2023-08-29T14:07:11.938064360Z"
    }
   },
   "outputs": [
    {
     "data": {
      "text/plain": [
       "count    1875.00000\n",
       "mean      983.60480\n",
       "std        51.45529\n",
       "min       434.00000\n",
       "25%       998.00000\n",
       "50%       998.00000\n",
       "75%       998.00000\n",
       "max       999.00000\n",
       "Name: crime_cd3, dtype: float64"
      ]
     },
     "execution_count": 76,
     "metadata": {},
     "output_type": "execute_result"
    }
   ],
   "source": [
    "# \"crime_cd3\"\n",
    "df.crime_cd3.describe()"
   ]
  },
  {
   "cell_type": "code",
   "execution_count": 77,
   "id": "448579a5",
   "metadata": {
    "ExecuteTime": {
     "end_time": "2023-08-29T14:07:16.210737152Z",
     "start_time": "2023-08-29T14:07:16.135433969Z"
    },
    "scrolled": true
   },
   "outputs": [
    {
     "data": {
      "text/plain": [
       "count     57.000000\n",
       "mean     990.368421\n",
       "std       28.594225\n",
       "min      821.000000\n",
       "25%      998.000000\n",
       "50%      998.000000\n",
       "75%      998.000000\n",
       "max      999.000000\n",
       "Name: crime_cd4, dtype: float64"
      ]
     },
     "execution_count": 77,
     "metadata": {},
     "output_type": "execute_result"
    }
   ],
   "source": [
    "# \"crime_cd4\"\n",
    "df.crime_cd4.describe()"
   ]
  },
  {
   "cell_type": "code",
   "execution_count": 78,
   "id": "2fa1ef5d",
   "metadata": {
    "ExecuteTime": {
     "end_time": "2023-08-29T14:07:28.899908430Z",
     "start_time": "2023-08-29T14:07:28.621651091Z"
    }
   },
   "outputs": [],
   "source": [
    "# for crime_(cd2, cd3, cd4) replace np.nan with 0 for no_additional_crime\n",
    "df[\"crime_cd2\"].replace(np.nan, 0, inplace=True)\n",
    "df[\"crime_cd3\"].replace(np.nan, 0, inplace=True)\n",
    "df[\"crime_cd4\"].replace(np.nan, 0, inplace=True)"
   ]
  },
  {
   "cell_type": "code",
   "execution_count": 79,
   "id": "5a21e0b0",
   "metadata": {
    "ExecuteTime": {
     "end_time": "2023-08-29T14:07:35.895147165Z",
     "start_time": "2023-08-29T14:07:35.787020937Z"
    },
    "scrolled": true
   },
   "outputs": [
    {
     "data": {
      "text/plain": [
       "count                                     761582\n",
       "unique                                     62698\n",
       "top       800 N  ALAMEDA                      ST\n",
       "freq                                        1403\n",
       "Name: location, dtype: object"
      ]
     },
     "execution_count": 79,
     "metadata": {},
     "output_type": "execute_result"
    }
   ],
   "source": [
    "# \"location\"\n",
    "df.location.describe()\n",
    "# no missing values"
   ]
  },
  {
   "cell_type": "code",
   "execution_count": 80,
   "id": "ab3d2d69",
   "metadata": {
    "ExecuteTime": {
     "end_time": "2023-08-29T14:07:55.967369031Z",
     "start_time": "2023-08-29T14:07:55.869202885Z"
    },
    "scrolled": false
   },
   "outputs": [
    {
     "data": {
      "text/plain": [
       "count       122391\n",
       "unique        9437\n",
       "top       BROADWAY\n",
       "freq          2003\n",
       "Name: street, dtype: object"
      ]
     },
     "execution_count": 80,
     "metadata": {},
     "output_type": "execute_result"
    }
   ],
   "source": [
    "# \"street\"\n",
    "df.street.describe()"
   ]
  },
  {
   "cell_type": "code",
   "execution_count": 81,
   "id": "3167ab37",
   "metadata": {
    "ExecuteTime": {
     "end_time": "2023-08-29T14:08:07.947519372Z",
     "start_time": "2023-08-29T14:08:07.780299282Z"
    }
   },
   "outputs": [],
   "source": [
    "# 639.191 missing values \n",
    "# drop col\n",
    "df.drop(\"street\", axis=1, inplace=True)"
   ]
  },
  {
   "cell_type": "code",
   "execution_count": 82,
   "id": "11c4fd5e",
   "metadata": {
    "ExecuteTime": {
     "end_time": "2023-08-29T14:08:11.999832027Z",
     "start_time": "2023-08-29T14:08:11.906166440Z"
    },
    "scrolled": true
   },
   "outputs": [
    {
     "data": {
      "text/plain": [
       "count    761582.000000\n",
       "mean         33.972143\n",
       "std           1.859163\n",
       "min           0.000000\n",
       "25%          34.013300\n",
       "50%          34.058400\n",
       "75%          34.163100\n",
       "max          34.334300\n",
       "Name: lat, dtype: float64"
      ]
     },
     "execution_count": 82,
     "metadata": {},
     "output_type": "execute_result"
    }
   ],
   "source": [
    "# lat\n",
    "df[\"lat\"].describe()"
   ]
  },
  {
   "cell_type": "code",
   "execution_count": 83,
   "id": "a488278c",
   "metadata": {
    "ExecuteTime": {
     "end_time": "2023-08-29T14:08:35.169428009Z",
     "start_time": "2023-08-29T14:08:30.035478869Z"
    },
    "scrolled": true
   },
   "outputs": [
    {
     "name": "stderr",
     "output_type": "stream",
     "text": [
      "/tmp/ipykernel_3919/3297663245.py:1: UserWarning: \n",
      "\n",
      "`distplot` is a deprecated function and will be removed in seaborn v0.14.0.\n",
      "\n",
      "Please adapt your code to use either `displot` (a figure-level function with\n",
      "similar flexibility) or `histplot` (an axes-level function for histograms).\n",
      "\n",
      "For a guide to updating your code to use the new functions, please see\n",
      "https://gist.github.com/mwaskom/de44147ed2974457ad6372750bbe5751\n",
      "\n",
      "  sns.distplot(df[\"lat\"], color=\"g\", bins=40, hist_kws={'alpha': 0.5})\n"
     ]
    },
    {
     "data": {
      "text/plain": [
       "<Axes: xlabel='lat', ylabel='Density'>"
      ]
     },
     "execution_count": 83,
     "metadata": {},
     "output_type": "execute_result"
    },
    {
     "data": {
      "image/png": "[encoded data removed]",
      "text/plain": [
       "<Figure size 640x480 with 1 Axes>"
      ]
     },
     "metadata": {},
     "output_type": "display_data"
    }
   ],
   "source": [
    "sns.distplot(df[\"lat\"], color=\"g\", bins=40, hist_kws={'alpha': 0.5})"
   ]
  },
  {
   "cell_type": "markdown",
   "id": "d5365894",
   "metadata": {},
   "source": [
    "by a quick googling we find :\n",
    "- The latitude range of Los Angeles is between 34.03° North and 34.07° North.\n",
    "- The longitude range is between -118.25° West and -118.15° West. "
   ]
  },
  {
   "cell_type": "code",
   "execution_count": 85,
   "id": "b791f0f3",
   "metadata": {
    "ExecuteTime": {
     "end_time": "2023-08-29T14:09:36.741300530Z",
     "start_time": "2023-08-29T14:09:36.666310136Z"
    }
   },
   "outputs": [
    {
     "data": {
      "text/plain": [
       "(238201,)"
      ]
     },
     "execution_count": 85,
     "metadata": {},
     "output_type": "execute_result"
    }
   ],
   "source": [
    "df[df[\"lat\"] < 34.03][\"lat\"].shape"
   ]
  },
  {
   "cell_type": "markdown",
   "id": "246d916d",
   "metadata": {},
   "source": [
    "##### over 200.000 wrong values,for now I will  skip it "
   ]
  },
  {
   "cell_type": "code",
   "execution_count": 86,
   "id": "afade5e5",
   "metadata": {
    "ExecuteTime": {
     "end_time": "2023-08-29T14:11:48.728157404Z",
     "start_time": "2023-08-29T14:11:48.650437411Z"
    },
    "scrolled": false
   },
   "outputs": [
    {
     "data": {
      "text/plain": [
       "count    761582.000000\n",
       "mean       -118.001893\n",
       "std           6.447103\n",
       "min        -118.667600\n",
       "25%        -118.429600\n",
       "50%        -118.321400\n",
       "75%        -118.273900\n",
       "max           0.000000\n",
       "Name: lng, dtype: float64"
      ]
     },
     "execution_count": 86,
     "metadata": {},
     "output_type": "execute_result"
    }
   ],
   "source": [
    "# lng\n",
    "df[\"lng\"].describe()"
   ]
  },
  {
   "cell_type": "code",
   "execution_count": 87,
   "id": "48499f15",
   "metadata": {
    "ExecuteTime": {
     "end_time": "2023-08-29T14:11:52.810909416Z",
     "start_time": "2023-08-29T14:11:52.735713084Z"
    }
   },
   "outputs": [
    {
     "data": {
      "text/plain": [
       "(2266,)"
      ]
     },
     "execution_count": 87,
     "metadata": {},
     "output_type": "execute_result"
    }
   ],
   "source": [
    "# check for the number of record with error longitude\n",
    "df[df[\"lng\"] > -118.15][\"lat\"].shape"
   ]
  },
  {
   "cell_type": "markdown",
   "id": "2ba7a5ee",
   "metadata": {},
   "source": [
    "##### same case as previous but with far more less wrong values"
   ]
  },
  {
   "cell_type": "markdown",
   "id": "b18784ee",
   "metadata": {},
   "source": [
    "## Reduce memory usage by choosing the appropiate type for columns"
   ]
  },
  {
   "cell_type": "code",
   "execution_count": 88,
   "id": "1282f10c",
   "metadata": {
    "ExecuteTime": {
     "end_time": "2023-08-29T14:12:04.550238511Z",
     "start_time": "2023-08-29T14:12:01.548283860Z"
    },
    "scrolled": true
   },
   "outputs": [
    {
     "name": "stdout",
     "output_type": "stream",
     "text": [
      "<class 'pandas.core.frame.DataFrame'>\n",
      "RangeIndex: 761582 entries, 0 to 761581\n",
      "Data columns (total 20 columns):\n",
      " #   Column           Non-Null Count   Dtype         \n",
      "---  ------           --------------   -----         \n",
      " 0   time_occ         761582 non-null  datetime64[ns]\n",
      " 1   date_rpdt        761582 non-null  datetime64[ns]\n",
      " 2   area_name        761582 non-null  object        \n",
      " 3   sub_area_code    761582 non-null  int64         \n",
      " 4   crime_class      761582 non-null  int64         \n",
      " 5   crime_code       761582 non-null  int64         \n",
      " 6   crime_dsp        761582 non-null  object        \n",
      " 7   suspect_mo_code  657013 non-null  object        \n",
      " 8   vict_age         761582 non-null  int64         \n",
      " 9   vict_sex         761582 non-null  object        \n",
      " 10  vict_descent     761582 non-null  object        \n",
      " 11  permis_dsp       761582 non-null  object        \n",
      " 12  weapon_dsp       761582 non-null  object        \n",
      " 13  case_status      761582 non-null  object        \n",
      " 14  crime_cd2        761582 non-null  float64       \n",
      " 15  crime_cd3        761582 non-null  float64       \n",
      " 16  crime_cd4        761582 non-null  float64       \n",
      " 17  location         761582 non-null  object        \n",
      " 18  lat              761582 non-null  float64       \n",
      " 19  lng              761582 non-null  float64       \n",
      "dtypes: datetime64[ns](2), float64(5), int64(4), object(9)\n",
      "memory usage: 532.4 MB\n"
     ]
    }
   ],
   "source": [
    "df.info(memory_usage=\"deep\")"
   ]
  },
  {
   "cell_type": "code",
   "execution_count": 90,
   "id": "1c2cb96a",
   "metadata": {
    "ExecuteTime": {
     "end_time": "2023-08-29T14:13:21.806560785Z",
     "start_time": "2023-08-29T14:13:20.700453988Z"
    }
   },
   "outputs": [],
   "source": [
    "\n",
    "df[\"area_name\"] = df[\"area_name\"].astype(\"category\")\n",
    "df[\"sub_area_code\"] = df[\"sub_area_code\"].astype(np.int16)\n",
    "df[\"crime_class\"] = df[\"crime_class\"].astype(np.int8)\n",
    "df[\"crime_code\"] = df[\"crime_code\"].astype(np.int16)\n",
    "df[\"crime_dsp\"] = df[\"crime_dsp\"].astype(\"category\")\n",
    "df[\"vict_age\"] = df[\"vict_age\"].astype(np.int8)\n",
    "df[\"vict_sex\"] = df[\"vict_sex\"].astype(\"category\")\n",
    "df[\"vict_descent\"] = df[\"vict_descent\"].astype(\"category\")\n",
    "df[\"permis_dsp\"] = df[\"permis_dsp\"].astype(\"category\")\n",
    "df[\"weapon_dsp\"] = df[\"weapon_dsp\"].astype(\"category\")\n",
    "df[\"case_status\"] = df[\"case_status\"].astype(\"category\")\n",
    "df[\"crime_cd2\"] = df[\"crime_cd2\"].astype(np.int16)\n",
    "df[\"crime_cd3\"] = df[\"crime_cd3\"].astype(np.int16)\n",
    "df[\"crime_cd4\"] = df[\"crime_cd4\"].astype(np.int16)"
   ]
  },
  {
   "cell_type": "code",
   "execution_count": 91,
   "id": "d7cee426",
   "metadata": {
    "ExecuteTime": {
     "end_time": "2023-08-29T14:13:25.700772317Z",
     "start_time": "2023-08-29T14:13:24.870425012Z"
    }
   },
   "outputs": [
    {
     "name": "stdout",
     "output_type": "stream",
     "text": [
      "<class 'pandas.core.frame.DataFrame'>\n",
      "RangeIndex: 761582 entries, 0 to 761581\n",
      "Data columns (total 20 columns):\n",
      " #   Column           Non-Null Count   Dtype         \n",
      "---  ------           --------------   -----         \n",
      " 0   time_occ         761582 non-null  datetime64[ns]\n",
      " 1   date_rpdt        761582 non-null  datetime64[ns]\n",
      " 2   area_name        761582 non-null  category      \n",
      " 3   sub_area_code    761582 non-null  int16         \n",
      " 4   crime_class      761582 non-null  int8          \n",
      " 5   crime_code       761582 non-null  int16         \n",
      " 6   crime_dsp        761582 non-null  category      \n",
      " 7   suspect_mo_code  657013 non-null  object        \n",
      " 8   vict_age         761582 non-null  int8          \n",
      " 9   vict_sex         761582 non-null  category      \n",
      " 10  vict_descent     761582 non-null  category      \n",
      " 11  permis_dsp       761582 non-null  category      \n",
      " 12  weapon_dsp       761582 non-null  category      \n",
      " 13  case_status      761582 non-null  category      \n",
      " 14  crime_cd2        761582 non-null  int16         \n",
      " 15  crime_cd3        761582 non-null  int16         \n",
      " 16  crime_cd4        761582 non-null  int16         \n",
      " 17  location         761582 non-null  object        \n",
      " 18  lat              761582 non-null  float64       \n",
      " 19  lng              761582 non-null  float64       \n",
      "dtypes: category(7), datetime64[ns](2), float64(2), int16(5), int8(2), object(2)\n",
      "memory usage: 155.3 MB\n"
     ]
    }
   ],
   "source": [
    "df.info(memory_usage=\"deep\")"
   ]
  },
  {
   "cell_type": "code",
   "execution_count": 92,
   "id": "baf38cca",
   "metadata": {
    "ExecuteTime": {
     "end_time": "2023-08-29T14:14:08.250368967Z",
     "start_time": "2023-08-29T14:13:56.483342466Z"
    }
   },
   "outputs": [],
   "source": [
    "# save cleaned data to csv_file\n",
    "df.to_csv(\"data.csv\", index=False)"
   ]
  }
 ],
 "metadata": {
  "hide_input": false,
  "kernelspec": {
   "display_name": "Python 3 (ipykernel)",
   "language": "python",
   "name": "python3"
  },
  "language_info": {
   "codemirror_mode": {
    "name": "ipython",
    "version": 3
   },
   "file_extension": ".py",
   "mimetype": "text/x-python",
   "name": "python",
   "nbconvert_exporter": "python",
   "pygments_lexer": "ipython3",
   "version": "3.11.2"
  },
  "toc": {
   "base_numbering": 1,
   "nav_menu": {},
   "number_sections": true,
   "sideBar": true,
   "skip_h1_title": false,
   "title_cell": "Table of Contents",
   "title_sidebar": "Contents",
   "toc_cell": false,
   "toc_position": {},
   "toc_section_display": true,
   "toc_window_display": false
  }
 },
 "nbformat": 4,
 "nbformat_minor": 5
}
